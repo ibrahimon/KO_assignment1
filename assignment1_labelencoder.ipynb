{
 "cells": [
  {
   "cell_type": "code",
   "execution_count": 1,
   "metadata": {},
   "outputs": [],
   "source": [
    "import pandas as pd \n",
    "import numpy as np \n",
    "import matplotlib.pyplot as plt\n",
    "import seaborn as sns \n",
    "import sklearn"
   ]
  },
  {
   "cell_type": "code",
   "execution_count": 2,
   "metadata": {},
   "outputs": [],
   "source": [
    "data = pd.read_json('articles.json')"
   ]
  },
  {
   "cell_type": "code",
   "execution_count": 3,
   "metadata": {},
   "outputs": [
    {
     "data": {
      "text/html": [
       "<div>\n",
       "<style scoped>\n",
       "    .dataframe tbody tr th:only-of-type {\n",
       "        vertical-align: middle;\n",
       "    }\n",
       "\n",
       "    .dataframe tbody tr th {\n",
       "        vertical-align: top;\n",
       "    }\n",
       "\n",
       "    .dataframe thead th {\n",
       "        text-align: right;\n",
       "    }\n",
       "</style>\n",
       "<table border=\"1\" class=\"dataframe\">\n",
       "  <thead>\n",
       "    <tr style=\"text-align: right;\">\n",
       "      <th></th>\n",
       "      <th>body</th>\n",
       "      <th>title</th>\n",
       "      <th>category</th>\n",
       "    </tr>\n",
       "  </thead>\n",
       "  <tbody>\n",
       "    <tr>\n",
       "      <th>0</th>\n",
       "      <td>Protecting Netflix Viewing Privacy at Scale\\r\\...</td>\n",
       "      <td>Protecting Netflix Viewing Privacy at Scale</td>\n",
       "      <td>Engineering</td>\n",
       "    </tr>\n",
       "    <tr>\n",
       "      <th>1</th>\n",
       "      <td>Introducing Winston — Event driven Diagnostic ...</td>\n",
       "      <td>Introducing Winston - Event driven Diagnostic ...</td>\n",
       "      <td>Engineering</td>\n",
       "    </tr>\n",
       "    <tr>\n",
       "      <th>2</th>\n",
       "      <td>Performance &amp; Usage at Instagram\\r\\n\\r\\nAt Ins...</td>\n",
       "      <td>Performance &amp; Usage at Instagram</td>\n",
       "      <td>Engineering</td>\n",
       "    </tr>\n",
       "    <tr>\n",
       "      <th>3</th>\n",
       "      <td>The simple example of calculating and formatti...</td>\n",
       "      <td>Refactoring a javascript video store</td>\n",
       "      <td>Engineering</td>\n",
       "    </tr>\n",
       "    <tr>\n",
       "      <th>4</th>\n",
       "      <td>Billing applications have transactions that ne...</td>\n",
       "      <td>Netflix Billing Migration to AWS - Part III</td>\n",
       "      <td>Engineering</td>\n",
       "    </tr>\n",
       "    <tr>\n",
       "      <th>5</th>\n",
       "      <td>Distributed Resource Scheduling with Apache Me...</td>\n",
       "      <td>Distributed Resource Scheduling with Apache Mesos</td>\n",
       "      <td>Engineering</td>\n",
       "    </tr>\n",
       "    <tr>\n",
       "      <th>6</th>\n",
       "      <td>Global Languages Support at Netflix\\r\\n\\r\\nTes...</td>\n",
       "      <td>Global Languages Support at Netflix - Testing ...</td>\n",
       "      <td>Engineering</td>\n",
       "    </tr>\n",
       "    <tr>\n",
       "      <th>7</th>\n",
       "      <td>Ok, this one might be a little different from ...</td>\n",
       "      <td>How Barriers to Entry Confused Me Terribly, an...</td>\n",
       "      <td>Startups &amp; Business</td>\n",
       "    </tr>\n",
       "    <tr>\n",
       "      <th>8</th>\n",
       "      <td>This article is by Andy Smith, author, entrepr...</td>\n",
       "      <td>The Ancient Origins of Storytelling and How Yo...</td>\n",
       "      <td>Startups &amp; Business</td>\n",
       "    </tr>\n",
       "    <tr>\n",
       "      <th>9</th>\n",
       "      <td>Somewhere along the continuum of the art versu...</td>\n",
       "      <td>How To Choose The Right Business Ideas</td>\n",
       "      <td>Startups &amp; Business</td>\n",
       "    </tr>\n",
       "    <tr>\n",
       "      <th>10</th>\n",
       "      <td>Company Culture is an annoying subject to rese...</td>\n",
       "      <td>Most Company Culture Posts are Fluffy Bullshit...</td>\n",
       "      <td>Startups &amp; Business</td>\n",
       "    </tr>\n",
       "    <tr>\n",
       "      <th>11</th>\n",
       "      <td>Great businesses don’t have to be big — and bi...</td>\n",
       "      <td>Why Value Capture is the Most Important Busine...</td>\n",
       "      <td>Startups &amp; Business</td>\n",
       "    </tr>\n",
       "    <tr>\n",
       "      <th>12</th>\n",
       "      <td>Value Creation\\r\\n\\r\\nBusiness begins with val...</td>\n",
       "      <td>Why Value Creation is the Foundation of Busine...</td>\n",
       "      <td>Startups &amp; Business</td>\n",
       "    </tr>\n",
       "    <tr>\n",
       "      <th>13</th>\n",
       "      <td>Strategic Alliances\\r\\n\\r\\nIn the quest to bui...</td>\n",
       "      <td>How to Think About All Strategic Alliances — T...</td>\n",
       "      <td>Startups &amp; Business</td>\n",
       "    </tr>\n",
       "    <tr>\n",
       "      <th>14</th>\n",
       "      <td>Eight common dysfunctions of design teams (and...</td>\n",
       "      <td>Eight common dysfunctions of design teams (and...</td>\n",
       "      <td>Startups &amp; Business</td>\n",
       "    </tr>\n",
       "    <tr>\n",
       "      <th>15</th>\n",
       "      <td>Please Make Yourself Uncomfortable\\r\\n\\r\\nBy K...</td>\n",
       "      <td>Please Make Yourself Uncomfortable</td>\n",
       "      <td>Startups &amp; Business</td>\n",
       "    </tr>\n",
       "    <tr>\n",
       "      <th>16</th>\n",
       "      <td>After a full day of understanding the problem ...</td>\n",
       "      <td>Sprint: Friday</td>\n",
       "      <td>Startups &amp; Business</td>\n",
       "    </tr>\n",
       "    <tr>\n",
       "      <th>17</th>\n",
       "      <td>Sprint: Wednesday\\r\\n\\r\\nBy Wednesday morning ...</td>\n",
       "      <td>Sprint: Thursday</td>\n",
       "      <td>Startups &amp; Business</td>\n",
       "    </tr>\n",
       "    <tr>\n",
       "      <th>18</th>\n",
       "      <td>When I meet readers they like to ask “What is ...</td>\n",
       "      <td>The Misunderstood, Underestimated, and Neglect...</td>\n",
       "      <td>Startups &amp; Business</td>\n",
       "    </tr>\n",
       "    <tr>\n",
       "      <th>19</th>\n",
       "      <td>Product Management from First Principles\\r\\n\\r...</td>\n",
       "      <td>Startup to Scaleup: What We're Changing As We ...</td>\n",
       "      <td>Startups &amp; Business</td>\n",
       "    </tr>\n",
       "  </tbody>\n",
       "</table>\n",
       "</div>"
      ],
      "text/plain": [
       "                                                 body  \\\n",
       "0   Protecting Netflix Viewing Privacy at Scale\\r\\...   \n",
       "1   Introducing Winston — Event driven Diagnostic ...   \n",
       "2   Performance & Usage at Instagram\\r\\n\\r\\nAt Ins...   \n",
       "3   The simple example of calculating and formatti...   \n",
       "4   Billing applications have transactions that ne...   \n",
       "5   Distributed Resource Scheduling with Apache Me...   \n",
       "6   Global Languages Support at Netflix\\r\\n\\r\\nTes...   \n",
       "7   Ok, this one might be a little different from ...   \n",
       "8   This article is by Andy Smith, author, entrepr...   \n",
       "9   Somewhere along the continuum of the art versu...   \n",
       "10  Company Culture is an annoying subject to rese...   \n",
       "11  Great businesses don’t have to be big — and bi...   \n",
       "12  Value Creation\\r\\n\\r\\nBusiness begins with val...   \n",
       "13  Strategic Alliances\\r\\n\\r\\nIn the quest to bui...   \n",
       "14  Eight common dysfunctions of design teams (and...   \n",
       "15  Please Make Yourself Uncomfortable\\r\\n\\r\\nBy K...   \n",
       "16  After a full day of understanding the problem ...   \n",
       "17  Sprint: Wednesday\\r\\n\\r\\nBy Wednesday morning ...   \n",
       "18  When I meet readers they like to ask “What is ...   \n",
       "19  Product Management from First Principles\\r\\n\\r...   \n",
       "\n",
       "                                                title             category  \n",
       "0         Protecting Netflix Viewing Privacy at Scale          Engineering  \n",
       "1   Introducing Winston - Event driven Diagnostic ...          Engineering  \n",
       "2                    Performance & Usage at Instagram          Engineering  \n",
       "3                Refactoring a javascript video store          Engineering  \n",
       "4         Netflix Billing Migration to AWS - Part III          Engineering  \n",
       "5   Distributed Resource Scheduling with Apache Mesos          Engineering  \n",
       "6   Global Languages Support at Netflix - Testing ...          Engineering  \n",
       "7   How Barriers to Entry Confused Me Terribly, an...  Startups & Business  \n",
       "8   The Ancient Origins of Storytelling and How Yo...  Startups & Business  \n",
       "9              How To Choose The Right Business Ideas  Startups & Business  \n",
       "10  Most Company Culture Posts are Fluffy Bullshit...  Startups & Business  \n",
       "11  Why Value Capture is the Most Important Busine...  Startups & Business  \n",
       "12  Why Value Creation is the Foundation of Busine...  Startups & Business  \n",
       "13  How to Think About All Strategic Alliances — T...  Startups & Business  \n",
       "14  Eight common dysfunctions of design teams (and...  Startups & Business  \n",
       "15                 Please Make Yourself Uncomfortable  Startups & Business  \n",
       "16                                     Sprint: Friday  Startups & Business  \n",
       "17                                   Sprint: Thursday  Startups & Business  \n",
       "18  The Misunderstood, Underestimated, and Neglect...  Startups & Business  \n",
       "19  Startup to Scaleup: What We're Changing As We ...  Startups & Business  "
      ]
     },
     "execution_count": 3,
     "metadata": {},
     "output_type": "execute_result"
    }
   ],
   "source": [
    "data.head(20)"
   ]
  },
  {
   "cell_type": "code",
   "execution_count": 4,
   "metadata": {},
   "outputs": [
    {
     "data": {
      "text/plain": [
       "(2481, 3)"
      ]
     },
     "execution_count": 4,
     "metadata": {},
     "output_type": "execute_result"
    }
   ],
   "source": [
    "data.shape"
   ]
  },
  {
   "cell_type": "code",
   "execution_count": 5,
   "metadata": {},
   "outputs": [
    {
     "name": "stdout",
     "output_type": "stream",
     "text": [
      "<class 'pandas.core.frame.DataFrame'>\n",
      "RangeIndex: 2481 entries, 0 to 2480\n",
      "Data columns (total 3 columns):\n",
      " #   Column    Non-Null Count  Dtype \n",
      "---  ------    --------------  ----- \n",
      " 0   body      2481 non-null   object\n",
      " 1   title     2481 non-null   object\n",
      " 2   category  2481 non-null   object\n",
      "dtypes: object(3)\n",
      "memory usage: 58.3+ KB\n"
     ]
    }
   ],
   "source": [
    "data.info()"
   ]
  },
  {
   "cell_type": "code",
   "execution_count": 6,
   "metadata": {},
   "outputs": [
    {
     "data": {
      "text/html": [
       "<div>\n",
       "<style scoped>\n",
       "    .dataframe tbody tr th:only-of-type {\n",
       "        vertical-align: middle;\n",
       "    }\n",
       "\n",
       "    .dataframe tbody tr th {\n",
       "        vertical-align: top;\n",
       "    }\n",
       "\n",
       "    .dataframe thead th {\n",
       "        text-align: right;\n",
       "    }\n",
       "</style>\n",
       "<table border=\"1\" class=\"dataframe\">\n",
       "  <thead>\n",
       "    <tr style=\"text-align: right;\">\n",
       "      <th></th>\n",
       "      <th>count</th>\n",
       "      <th>unique</th>\n",
       "      <th>top</th>\n",
       "      <th>freq</th>\n",
       "    </tr>\n",
       "  </thead>\n",
       "  <tbody>\n",
       "    <tr>\n",
       "      <th>body</th>\n",
       "      <td>2481</td>\n",
       "      <td>2380</td>\n",
       "      <td></td>\n",
       "      <td>41</td>\n",
       "    </tr>\n",
       "    <tr>\n",
       "      <th>title</th>\n",
       "      <td>2481</td>\n",
       "      <td>2454</td>\n",
       "      <td>Simplify Service Dependencies with Nodes</td>\n",
       "      <td>3</td>\n",
       "    </tr>\n",
       "    <tr>\n",
       "      <th>category</th>\n",
       "      <td>2481</td>\n",
       "      <td>3</td>\n",
       "      <td>Startups &amp; Business</td>\n",
       "      <td>1071</td>\n",
       "    </tr>\n",
       "  </tbody>\n",
       "</table>\n",
       "</div>"
      ],
      "text/plain": [
       "         count unique                                       top  freq\n",
       "body      2481   2380                                              41\n",
       "title     2481   2454  Simplify Service Dependencies with Nodes     3\n",
       "category  2481      3                       Startups & Business  1071"
      ]
     },
     "execution_count": 6,
     "metadata": {},
     "output_type": "execute_result"
    }
   ],
   "source": [
    "data.describe().T"
   ]
  },
  {
   "cell_type": "code",
   "execution_count": 17,
   "metadata": {},
   "outputs": [],
   "source": [
    "X = data.iloc[:, [0]].values\n",
    "y = data.iloc[:, [2]].values"
   ]
  },
  {
   "cell_type": "code",
   "execution_count": 18,
   "metadata": {},
   "outputs": [
    {
     "data": {
      "text/plain": [
       "(2481, 1)"
      ]
     },
     "execution_count": 18,
     "metadata": {},
     "output_type": "execute_result"
    }
   ],
   "source": [
    "X.shape"
   ]
  },
  {
   "cell_type": "code",
   "execution_count": 19,
   "metadata": {},
   "outputs": [
    {
     "data": {
      "text/plain": [
       "(2481, 1)"
      ]
     },
     "execution_count": 19,
     "metadata": {},
     "output_type": "execute_result"
    }
   ],
   "source": [
    "y.shape"
   ]
  },
  {
   "cell_type": "code",
   "execution_count": 21,
   "metadata": {},
   "outputs": [],
   "source": [
    "# Splitting the dataset into the Training set and Test set\n",
    "from sklearn.model_selection import train_test_split\n",
    "X_train, X_test, y_train, y_test = train_test_split(X, y, test_size = .30, random_state = 0)\n"
   ]
  },
  {
   "cell_type": "code",
   "execution_count": 43,
   "metadata": {},
   "outputs": [],
   "source": [
    "from sklearn.preprocessing import LabelEncoder\n",
    "le = LabelEncoder()\n",
    "X[:,0] = le.fit_transform(X[:,0])"
   ]
  },
  {
   "cell_type": "code",
   "execution_count": 44,
   "metadata": {},
   "outputs": [],
   "source": [
    "from sklearn.preprocessing import LabelEncoder\n",
    "le = LabelEncoder()\n",
    "y[:,0] = le.fit_transform(y[:,0])"
   ]
  },
  {
   "cell_type": "code",
   "execution_count": 45,
   "metadata": {},
   "outputs": [
    {
     "ename": "ValueError",
     "evalue": "could not convert string to float: 'Applying Leverage as a Product Manager\\r\\n\\r\\nI get every new PM I manage to read (or re-read) High Output Management by Andy Grove within the first month of joining my team. It’s a timeless, no bullshit overview of what a manager is and how to think about being one. Most PMs do not have people reporting into them, but in all cases they are still managing outcomes that are executed through a team.\\r\\n\\r\\nThere are two critical concepts in that book that I aspire for PMs on my team to internalize: the first is how to measure managerial output, and the second is the idea of managerial leverage.\\r\\n\\r\\nManagerial output is what you produce as a manager and is succinctly explained the book:\\r\\n\\r\\nA manager’s output = output of their team + output of the surrounding teams that they influence\\r\\n\\r\\nManagerial leverage is the idea that some things a manager does creates more output than others, and for each possible thing, the amount of output created per unit of time is its leverage. That’s the basis of how you should decide whether to do activity A or activity B.\\r\\n\\r\\nWhen internalized, these concepts impart on PMs a sense of what matters most in their role. They have lots of choices in what they can do everyday — all of which produce some positive output- but developing awareness of where they have leverage is critical to their long term impact.\\r\\n\\r\\nHere’s a framework that I share with PMs on thinking about leverage in their roles (which coincidentally turns out to be one of my highest leverage activities as their manager).\\r\\n\\r\\nSome definitions:\\r\\n\\r\\nVision describes where you’re going; the aspiration or goal Strategy defines how you plan to get to your vision in the context of the market/company/customers/product Scope defines what you need to ship to execute your strategy Backlog represents the units of work to achieve a scope\\r\\n\\r\\nWhat I hope PMs take away from this framework is simple:\\r\\n\\r\\nProduct managers exert the most leverage through vision and strategy — the rest is optimization\\r\\n\\r\\nVision and Strategy are foundational. They provide the direction, the inspiration, and enable a group of people to execute as a team.\\r\\n\\r\\nScope and Backlog are optimizations. They accelerate progress towards a known destination.\\r\\n\\r\\nBoth are important, but going faster in the wrong direction is far worse than going slower in the right one. When prioritizing their focus, a PM should first ask themselves if they’ve built a solid foundation for their team to operate in. If not, that’s where they need to start.\\r\\n\\r\\nFirst Principles of PM Leverage\\r\\n\\r\\nThis framework was built upon an early aspiration of mine as a PM to create the conditions where:\\r\\n\\r\\n1. Any individual on my team knows how their work directly contributes to achieving the company’s vision. [Vision]\\r\\n\\r\\n2. Any individual on my team can explain the rationale behind why we’re approaching the goal the way we are [Strategy]\\r\\n\\r\\nThis aspiration is rooted in leverage. Your team is full of smart engineers and designers who know better than you how to build things, so if you start focusing on the implementation details, not only are you exerting less managerial leverage, you’re also diminishing their leverage.\\r\\n\\r\\nYou’re making 1+1 into 0.5 + 0.5.\\r\\n\\r\\nIn contrast, when a PM drives vision and strategy, their breadth of expertise accross the product makes them the best suited to process all the context, and subsequently make better decisions about the direction of the team.\\r\\n\\r\\nThe easiest way to test for good product management on a team is to ask any engineer or designer on that team to describe the vision and strategy for their product. The coherence of their answers will give you all the feedback you need.\\r\\n\\r\\nBuilding the Foundation\\r\\n\\r\\nVision and Strategy are often seen as wishy-washy concepts, the domain of MBAs with no hard skills. They are in fact critical, and in my experience, most PMs don’t actually know the distinction between the two, nor how to utilize them effectively.\\r\\n\\r\\nVision\\r\\n\\r\\nVision is used to describe the end state of your team’s efforts. Its primary importance is to provide the organization a succinct understanding of what a team cares about. It represents the heart, the raison d’etre, of that team.\\r\\n\\r\\nA good vision influences the everyday micro-decisions being made by a team. It should also be the basis of alignment between a product team and their stakeholders.\\r\\n\\r\\nI won’t go too deep in this post about how to establish a good vision, but I will share one thing that I always remind PMs I manage, which is that the vision they create has to fit into the bounds of the company’s vision (and in bigger organizations, any parent group vision).\\r\\n\\r\\nMake sure your vision fits into the company’s.\\r\\n\\r\\nI’ve seen too many PMs come in guns blazing, trying to be the CEO of the product and do epic shit. I love the energy — and their vision should still be ambitious, exciting, and strongly opinionated — but it can’t deviate from the bounds of the global vision, or else they run the risk of a blow-up down the line.\\r\\n\\r\\nPMs should always be spending considerable time talking to the leadership team in their company to internalize the nuances of the vision. This is true of new PMs and ones that have been there for a while, as the process of vision alignment never really ends. The forces of growth and technology continuously spur up new situations which push a vision — one that was established in much simpler times — into new territory and debate.\\r\\n\\r\\nAt Shopify, we call this staying on the green path.\\r\\n\\r\\nStrategy\\r\\n\\r\\nStrategy describes the chosen approach towards achieving the vision. Its primary importance is to intersect the goals of the vision and the realities of the world into a gameplan for action.\\r\\n\\r\\nBuilding a strategy is hard because the world isn’t like this:\\r\\n\\r\\nInstead, there are tons of things to consider that influence your path forward. Should we do feature A, B, or C first? Who should be the first customers we target? How likely is competitor X to do the same thing, and in what time frame? A good strategy incorporates questions like these into a decision about how to proceed.\\r\\n\\r\\nAgain, I won’t deviate into the making of a strategy here, but will leave one thought I see PMs often trip up on.\\r\\n\\r\\nA strategy is not a roadmap. Roadmaps should be an output of strategy, and good ones will always clearly tie back to one. Real strategy answers what we’re building and why, who we’re going to target and why, how we’re going to grow and why, and how the end result will put the company into a better competitive position relative to alternatives. And why.\\r\\n\\r\\nLeverage Enables PMs to Scale Efficiently\\r\\n\\r\\nThe final benefit of operating under this framework is that it enables a product manager’s impact to scale more efficiently as they grow in a company. By becoming great at setting the foundation for a team, a single PM can have significantly more impact within an organization by doing that work accross a set of teams.\\r\\n\\r\\nNext-level pyramid use.\\r\\n\\r\\nAdmittedly, there are still times when PMs do need to drive the optimization portions of the pyramid, particularly in high priority or time sensitive projects where there is lots of executional risk. In those cases, refinement of scope and sequencing materially increases the likelihood of success and value to the company and a PM should be capable of doing it.\\r\\n\\r\\nGenerally though, when headcount is growing quickly and there are more teams ready to build then there are visions to execute, it makes most sense for PMs to build foundations for as many products as they can and then just trust their teams to execute.\\r\\n\\r\\nAt Shopify, we’re now seeing the median PM manage 2–3 products, which in most places would be untenable. I believe this is possible in large part because of the appreciation of managerial leverage within our organization, and because of the incredible team we have in engineering and design.\\r\\n\\r\\nAre you doing the highest leverage work you can?\\r\\n\\r\\nIf nothing else, I strive for PMs to take this question and make it a mindset.\\r\\n\\r\\nMake your next hour the most impactful it can be, and assume creating output through your team is the best way to do it. Ask yourself if you’ve established the right foundations for your team to operate in, and if not, build them.'",
     "output_type": "error",
     "traceback": [
      "\u001b[1;31m---------------------------------------------------------------------------\u001b[0m",
      "\u001b[1;31mValueError\u001b[0m                                Traceback (most recent call last)",
      "\u001b[1;32m<ipython-input-45-6e198041565d>\u001b[0m in \u001b[0;36m<module>\u001b[1;34m\u001b[0m\n\u001b[0;32m      1\u001b[0m \u001b[1;31m# Training the Naive Bayes model on the Training set\u001b[0m\u001b[1;33m\u001b[0m\u001b[1;33m\u001b[0m\u001b[1;33m\u001b[0m\u001b[0m\n\u001b[0;32m      2\u001b[0m \u001b[1;32mfrom\u001b[0m \u001b[0msklearn\u001b[0m\u001b[1;33m.\u001b[0m\u001b[0mnaive_bayes\u001b[0m \u001b[1;32mimport\u001b[0m \u001b[0mMultinomialNB\u001b[0m\u001b[1;33m\u001b[0m\u001b[1;33m\u001b[0m\u001b[0m\n\u001b[1;32m----> 3\u001b[1;33m \u001b[0mmodel\u001b[0m \u001b[1;33m=\u001b[0m \u001b[0mMultinomialNB\u001b[0m\u001b[1;33m(\u001b[0m\u001b[1;33m)\u001b[0m\u001b[1;33m.\u001b[0m\u001b[0mfit\u001b[0m\u001b[1;33m(\u001b[0m\u001b[0mX_train\u001b[0m\u001b[1;33m,\u001b[0m \u001b[0my_train\u001b[0m\u001b[1;33m)\u001b[0m\u001b[1;33m\u001b[0m\u001b[1;33m\u001b[0m\u001b[0m\n\u001b[0m\u001b[0;32m      4\u001b[0m \u001b[0mclassifier\u001b[0m\u001b[1;33m.\u001b[0m\u001b[0mfit\u001b[0m\u001b[1;33m(\u001b[0m\u001b[0mX_train\u001b[0m\u001b[1;33m,\u001b[0m \u001b[0my_train\u001b[0m\u001b[1;33m)\u001b[0m\u001b[1;33m\u001b[0m\u001b[1;33m\u001b[0m\u001b[0m\n",
      "\u001b[1;32m~\\anaconda3\\lib\\site-packages\\sklearn\\naive_bayes.py\u001b[0m in \u001b[0;36mfit\u001b[1;34m(self, X, y, sample_weight)\u001b[0m\n\u001b[0;32m    607\u001b[0m         \u001b[0mself\u001b[0m \u001b[1;33m:\u001b[0m \u001b[0mobject\u001b[0m\u001b[1;33m\u001b[0m\u001b[1;33m\u001b[0m\u001b[0m\n\u001b[0;32m    608\u001b[0m         \"\"\"\n\u001b[1;32m--> 609\u001b[1;33m         \u001b[0mX\u001b[0m\u001b[1;33m,\u001b[0m \u001b[0my\u001b[0m \u001b[1;33m=\u001b[0m \u001b[0mself\u001b[0m\u001b[1;33m.\u001b[0m\u001b[0m_check_X_y\u001b[0m\u001b[1;33m(\u001b[0m\u001b[0mX\u001b[0m\u001b[1;33m,\u001b[0m \u001b[0my\u001b[0m\u001b[1;33m)\u001b[0m\u001b[1;33m\u001b[0m\u001b[1;33m\u001b[0m\u001b[0m\n\u001b[0m\u001b[0;32m    610\u001b[0m         \u001b[0m_\u001b[0m\u001b[1;33m,\u001b[0m \u001b[0mn_features\u001b[0m \u001b[1;33m=\u001b[0m \u001b[0mX\u001b[0m\u001b[1;33m.\u001b[0m\u001b[0mshape\u001b[0m\u001b[1;33m\u001b[0m\u001b[1;33m\u001b[0m\u001b[0m\n\u001b[0;32m    611\u001b[0m         \u001b[0mself\u001b[0m\u001b[1;33m.\u001b[0m\u001b[0mn_features_\u001b[0m \u001b[1;33m=\u001b[0m \u001b[0mn_features\u001b[0m\u001b[1;33m\u001b[0m\u001b[1;33m\u001b[0m\u001b[0m\n",
      "\u001b[1;32m~\\anaconda3\\lib\\site-packages\\sklearn\\naive_bayes.py\u001b[0m in \u001b[0;36m_check_X_y\u001b[1;34m(self, X, y)\u001b[0m\n\u001b[0;32m    473\u001b[0m \u001b[1;33m\u001b[0m\u001b[0m\n\u001b[0;32m    474\u001b[0m     \u001b[1;32mdef\u001b[0m \u001b[0m_check_X_y\u001b[0m\u001b[1;33m(\u001b[0m\u001b[0mself\u001b[0m\u001b[1;33m,\u001b[0m \u001b[0mX\u001b[0m\u001b[1;33m,\u001b[0m \u001b[0my\u001b[0m\u001b[1;33m)\u001b[0m\u001b[1;33m:\u001b[0m\u001b[1;33m\u001b[0m\u001b[1;33m\u001b[0m\u001b[0m\n\u001b[1;32m--> 475\u001b[1;33m         \u001b[1;32mreturn\u001b[0m \u001b[0mcheck_X_y\u001b[0m\u001b[1;33m(\u001b[0m\u001b[0mX\u001b[0m\u001b[1;33m,\u001b[0m \u001b[0my\u001b[0m\u001b[1;33m,\u001b[0m \u001b[0maccept_sparse\u001b[0m\u001b[1;33m=\u001b[0m\u001b[1;34m'csr'\u001b[0m\u001b[1;33m)\u001b[0m\u001b[1;33m\u001b[0m\u001b[1;33m\u001b[0m\u001b[0m\n\u001b[0m\u001b[0;32m    476\u001b[0m \u001b[1;33m\u001b[0m\u001b[0m\n\u001b[0;32m    477\u001b[0m     \u001b[1;32mdef\u001b[0m \u001b[0m_update_class_log_prior\u001b[0m\u001b[1;33m(\u001b[0m\u001b[0mself\u001b[0m\u001b[1;33m,\u001b[0m \u001b[0mclass_prior\u001b[0m\u001b[1;33m=\u001b[0m\u001b[1;32mNone\u001b[0m\u001b[1;33m)\u001b[0m\u001b[1;33m:\u001b[0m\u001b[1;33m\u001b[0m\u001b[1;33m\u001b[0m\u001b[0m\n",
      "\u001b[1;32m~\\anaconda3\\lib\\site-packages\\sklearn\\utils\\validation.py\u001b[0m in \u001b[0;36mcheck_X_y\u001b[1;34m(X, y, accept_sparse, accept_large_sparse, dtype, order, copy, force_all_finite, ensure_2d, allow_nd, multi_output, ensure_min_samples, ensure_min_features, y_numeric, warn_on_dtype, estimator)\u001b[0m\n\u001b[0;32m    753\u001b[0m                     \u001b[0mensure_min_features\u001b[0m\u001b[1;33m=\u001b[0m\u001b[0mensure_min_features\u001b[0m\u001b[1;33m,\u001b[0m\u001b[1;33m\u001b[0m\u001b[1;33m\u001b[0m\u001b[0m\n\u001b[0;32m    754\u001b[0m                     \u001b[0mwarn_on_dtype\u001b[0m\u001b[1;33m=\u001b[0m\u001b[0mwarn_on_dtype\u001b[0m\u001b[1;33m,\u001b[0m\u001b[1;33m\u001b[0m\u001b[1;33m\u001b[0m\u001b[0m\n\u001b[1;32m--> 755\u001b[1;33m                     estimator=estimator)\n\u001b[0m\u001b[0;32m    756\u001b[0m     \u001b[1;32mif\u001b[0m \u001b[0mmulti_output\u001b[0m\u001b[1;33m:\u001b[0m\u001b[1;33m\u001b[0m\u001b[1;33m\u001b[0m\u001b[0m\n\u001b[0;32m    757\u001b[0m         y = check_array(y, 'csr', force_all_finite=True, ensure_2d=False,\n",
      "\u001b[1;32m~\\anaconda3\\lib\\site-packages\\sklearn\\utils\\validation.py\u001b[0m in \u001b[0;36mcheck_array\u001b[1;34m(array, accept_sparse, accept_large_sparse, dtype, order, copy, force_all_finite, ensure_2d, allow_nd, ensure_min_samples, ensure_min_features, warn_on_dtype, estimator)\u001b[0m\n\u001b[0;32m    529\u001b[0m                     \u001b[0marray\u001b[0m \u001b[1;33m=\u001b[0m \u001b[0marray\u001b[0m\u001b[1;33m.\u001b[0m\u001b[0mastype\u001b[0m\u001b[1;33m(\u001b[0m\u001b[0mdtype\u001b[0m\u001b[1;33m,\u001b[0m \u001b[0mcasting\u001b[0m\u001b[1;33m=\u001b[0m\u001b[1;34m\"unsafe\"\u001b[0m\u001b[1;33m,\u001b[0m \u001b[0mcopy\u001b[0m\u001b[1;33m=\u001b[0m\u001b[1;32mFalse\u001b[0m\u001b[1;33m)\u001b[0m\u001b[1;33m\u001b[0m\u001b[1;33m\u001b[0m\u001b[0m\n\u001b[0;32m    530\u001b[0m                 \u001b[1;32melse\u001b[0m\u001b[1;33m:\u001b[0m\u001b[1;33m\u001b[0m\u001b[1;33m\u001b[0m\u001b[0m\n\u001b[1;32m--> 531\u001b[1;33m                     \u001b[0marray\u001b[0m \u001b[1;33m=\u001b[0m \u001b[0mnp\u001b[0m\u001b[1;33m.\u001b[0m\u001b[0masarray\u001b[0m\u001b[1;33m(\u001b[0m\u001b[0marray\u001b[0m\u001b[1;33m,\u001b[0m \u001b[0morder\u001b[0m\u001b[1;33m=\u001b[0m\u001b[0morder\u001b[0m\u001b[1;33m,\u001b[0m \u001b[0mdtype\u001b[0m\u001b[1;33m=\u001b[0m\u001b[0mdtype\u001b[0m\u001b[1;33m)\u001b[0m\u001b[1;33m\u001b[0m\u001b[1;33m\u001b[0m\u001b[0m\n\u001b[0m\u001b[0;32m    532\u001b[0m             \u001b[1;32mexcept\u001b[0m \u001b[0mComplexWarning\u001b[0m\u001b[1;33m:\u001b[0m\u001b[1;33m\u001b[0m\u001b[1;33m\u001b[0m\u001b[0m\n\u001b[0;32m    533\u001b[0m                 raise ValueError(\"Complex data not supported\\n\"\n",
      "\u001b[1;32m~\\anaconda3\\lib\\site-packages\\numpy\\core\\_asarray.py\u001b[0m in \u001b[0;36masarray\u001b[1;34m(a, dtype, order)\u001b[0m\n\u001b[0;32m     83\u001b[0m \u001b[1;33m\u001b[0m\u001b[0m\n\u001b[0;32m     84\u001b[0m     \"\"\"\n\u001b[1;32m---> 85\u001b[1;33m     \u001b[1;32mreturn\u001b[0m \u001b[0marray\u001b[0m\u001b[1;33m(\u001b[0m\u001b[0ma\u001b[0m\u001b[1;33m,\u001b[0m \u001b[0mdtype\u001b[0m\u001b[1;33m,\u001b[0m \u001b[0mcopy\u001b[0m\u001b[1;33m=\u001b[0m\u001b[1;32mFalse\u001b[0m\u001b[1;33m,\u001b[0m \u001b[0morder\u001b[0m\u001b[1;33m=\u001b[0m\u001b[0morder\u001b[0m\u001b[1;33m)\u001b[0m\u001b[1;33m\u001b[0m\u001b[1;33m\u001b[0m\u001b[0m\n\u001b[0m\u001b[0;32m     86\u001b[0m \u001b[1;33m\u001b[0m\u001b[0m\n\u001b[0;32m     87\u001b[0m \u001b[1;33m\u001b[0m\u001b[0m\n",
      "\u001b[1;31mValueError\u001b[0m: could not convert string to float: 'Applying Leverage as a Product Manager\\r\\n\\r\\nI get every new PM I manage to read (or re-read) High Output Management by Andy Grove within the first month of joining my team. It’s a timeless, no bullshit overview of what a manager is and how to think about being one. Most PMs do not have people reporting into them, but in all cases they are still managing outcomes that are executed through a team.\\r\\n\\r\\nThere are two critical concepts in that book that I aspire for PMs on my team to internalize: the first is how to measure managerial output, and the second is the idea of managerial leverage.\\r\\n\\r\\nManagerial output is what you produce as a manager and is succinctly explained the book:\\r\\n\\r\\nA manager’s output = output of their team + output of the surrounding teams that they influence\\r\\n\\r\\nManagerial leverage is the idea that some things a manager does creates more output than others, and for each possible thing, the amount of output created per unit of time is its leverage. That’s the basis of how you should decide whether to do activity A or activity B.\\r\\n\\r\\nWhen internalized, these concepts impart on PMs a sense of what matters most in their role. They have lots of choices in what they can do everyday — all of which produce some positive output- but developing awareness of where they have leverage is critical to their long term impact.\\r\\n\\r\\nHere’s a framework that I share with PMs on thinking about leverage in their roles (which coincidentally turns out to be one of my highest leverage activities as their manager).\\r\\n\\r\\nSome definitions:\\r\\n\\r\\nVision describes where you’re going; the aspiration or goal Strategy defines how you plan to get to your vision in the context of the market/company/customers/product Scope defines what you need to ship to execute your strategy Backlog represents the units of work to achieve a scope\\r\\n\\r\\nWhat I hope PMs take away from this framework is simple:\\r\\n\\r\\nProduct managers exert the most leverage through vision and strategy — the rest is optimization\\r\\n\\r\\nVision and Strategy are foundational. They provide the direction, the inspiration, and enable a group of people to execute as a team.\\r\\n\\r\\nScope and Backlog are optimizations. They accelerate progress towards a known destination.\\r\\n\\r\\nBoth are important, but going faster in the wrong direction is far worse than going slower in the right one. When prioritizing their focus, a PM should first ask themselves if they’ve built a solid foundation for their team to operate in. If not, that’s where they need to start.\\r\\n\\r\\nFirst Principles of PM Leverage\\r\\n\\r\\nThis framework was built upon an early aspiration of mine as a PM to create the conditions where:\\r\\n\\r\\n1. Any individual on my team knows how their work directly contributes to achieving the company’s vision. [Vision]\\r\\n\\r\\n2. Any individual on my team can explain the rationale behind why we’re approaching the goal the way we are [Strategy]\\r\\n\\r\\nThis aspiration is rooted in leverage. Your team is full of smart engineers and designers who know better than you how to build things, so if you start focusing on the implementation details, not only are you exerting less managerial leverage, you’re also diminishing their leverage.\\r\\n\\r\\nYou’re making 1+1 into 0.5 + 0.5.\\r\\n\\r\\nIn contrast, when a PM drives vision and strategy, their breadth of expertise accross the product makes them the best suited to process all the context, and subsequently make better decisions about the direction of the team.\\r\\n\\r\\nThe easiest way to test for good product management on a team is to ask any engineer or designer on that team to describe the vision and strategy for their product. The coherence of their answers will give you all the feedback you need.\\r\\n\\r\\nBuilding the Foundation\\r\\n\\r\\nVision and Strategy are often seen as wishy-washy concepts, the domain of MBAs with no hard skills. They are in fact critical, and in my experience, most PMs don’t actually know the distinction between the two, nor how to utilize them effectively.\\r\\n\\r\\nVision\\r\\n\\r\\nVision is used to describe the end state of your team’s efforts. Its primary importance is to provide the organization a succinct understanding of what a team cares about. It represents the heart, the raison d’etre, of that team.\\r\\n\\r\\nA good vision influences the everyday micro-decisions being made by a team. It should also be the basis of alignment between a product team and their stakeholders.\\r\\n\\r\\nI won’t go too deep in this post about how to establish a good vision, but I will share one thing that I always remind PMs I manage, which is that the vision they create has to fit into the bounds of the company’s vision (and in bigger organizations, any parent group vision).\\r\\n\\r\\nMake sure your vision fits into the company’s.\\r\\n\\r\\nI’ve seen too many PMs come in guns blazing, trying to be the CEO of the product and do epic shit. I love the energy — and their vision should still be ambitious, exciting, and strongly opinionated — but it can’t deviate from the bounds of the global vision, or else they run the risk of a blow-up down the line.\\r\\n\\r\\nPMs should always be spending considerable time talking to the leadership team in their company to internalize the nuances of the vision. This is true of new PMs and ones that have been there for a while, as the process of vision alignment never really ends. The forces of growth and technology continuously spur up new situations which push a vision — one that was established in much simpler times — into new territory and debate.\\r\\n\\r\\nAt Shopify, we call this staying on the green path.\\r\\n\\r\\nStrategy\\r\\n\\r\\nStrategy describes the chosen approach towards achieving the vision. Its primary importance is to intersect the goals of the vision and the realities of the world into a gameplan for action.\\r\\n\\r\\nBuilding a strategy is hard because the world isn’t like this:\\r\\n\\r\\nInstead, there are tons of things to consider that influence your path forward. Should we do feature A, B, or C first? Who should be the first customers we target? How likely is competitor X to do the same thing, and in what time frame? A good strategy incorporates questions like these into a decision about how to proceed.\\r\\n\\r\\nAgain, I won’t deviate into the making of a strategy here, but will leave one thought I see PMs often trip up on.\\r\\n\\r\\nA strategy is not a roadmap. Roadmaps should be an output of strategy, and good ones will always clearly tie back to one. Real strategy answers what we’re building and why, who we’re going to target and why, how we’re going to grow and why, and how the end result will put the company into a better competitive position relative to alternatives. And why.\\r\\n\\r\\nLeverage Enables PMs to Scale Efficiently\\r\\n\\r\\nThe final benefit of operating under this framework is that it enables a product manager’s impact to scale more efficiently as they grow in a company. By becoming great at setting the foundation for a team, a single PM can have significantly more impact within an organization by doing that work accross a set of teams.\\r\\n\\r\\nNext-level pyramid use.\\r\\n\\r\\nAdmittedly, there are still times when PMs do need to drive the optimization portions of the pyramid, particularly in high priority or time sensitive projects where there is lots of executional risk. In those cases, refinement of scope and sequencing materially increases the likelihood of success and value to the company and a PM should be capable of doing it.\\r\\n\\r\\nGenerally though, when headcount is growing quickly and there are more teams ready to build then there are visions to execute, it makes most sense for PMs to build foundations for as many products as they can and then just trust their teams to execute.\\r\\n\\r\\nAt Shopify, we’re now seeing the median PM manage 2–3 products, which in most places would be untenable. I believe this is possible in large part because of the appreciation of managerial leverage within our organization, and because of the incredible team we have in engineering and design.\\r\\n\\r\\nAre you doing the highest leverage work you can?\\r\\n\\r\\nIf nothing else, I strive for PMs to take this question and make it a mindset.\\r\\n\\r\\nMake your next hour the most impactful it can be, and assume creating output through your team is the best way to do it. Ask yourself if you’ve established the right foundations for your team to operate in, and if not, build them.'"
     ]
    }
   ],
   "source": [
    "# Training the Naive Bayes model on the Training set\n",
    "from sklearn.naive_bayes import MultinomialNB\n",
    "model = MultinomialNB().fit(X_train, y_train)\n",
    "classifier.fit(X_train, y_train)\n"
   ]
  },
  {
   "cell_type": "code",
   "execution_count": null,
   "metadata": {},
   "outputs": [],
   "source": []
  }
 ],
 "metadata": {
  "kernelspec": {
   "display_name": "Python 3",
   "language": "python",
   "name": "python3"
  },
  "language_info": {
   "codemirror_mode": {
    "name": "ipython",
    "version": 3
   },
   "file_extension": ".py",
   "mimetype": "text/x-python",
   "name": "python",
   "nbconvert_exporter": "python",
   "pygments_lexer": "ipython3",
   "version": "3.7.6"
  }
 },
 "nbformat": 4,
 "nbformat_minor": 4
}
