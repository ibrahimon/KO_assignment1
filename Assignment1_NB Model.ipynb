{
 "cells": [
  {
   "cell_type": "code",
   "execution_count": 20,
   "metadata": {},
   "outputs": [],
   "source": [
    "import pandas as pd \n",
    "import numpy as np \n",
    "import matplotlib.pyplot as plt\n",
    "import seaborn as sns \n",
    "import sklearn"
   ]
  },
  {
   "cell_type": "code",
   "execution_count": 2,
   "metadata": {},
   "outputs": [],
   "source": [
    "data = pd.read_json('articles.json')"
   ]
  },
  {
   "cell_type": "code",
   "execution_count": 3,
   "metadata": {},
   "outputs": [
    {
     "data": {
      "text/html": [
       "<div>\n",
       "<style scoped>\n",
       "    .dataframe tbody tr th:only-of-type {\n",
       "        vertical-align: middle;\n",
       "    }\n",
       "\n",
       "    .dataframe tbody tr th {\n",
       "        vertical-align: top;\n",
       "    }\n",
       "\n",
       "    .dataframe thead th {\n",
       "        text-align: right;\n",
       "    }\n",
       "</style>\n",
       "<table border=\"1\" class=\"dataframe\">\n",
       "  <thead>\n",
       "    <tr style=\"text-align: right;\">\n",
       "      <th></th>\n",
       "      <th>body</th>\n",
       "      <th>title</th>\n",
       "      <th>category</th>\n",
       "    </tr>\n",
       "  </thead>\n",
       "  <tbody>\n",
       "    <tr>\n",
       "      <th>0</th>\n",
       "      <td>Protecting Netflix Viewing Privacy at Scale\\r\\...</td>\n",
       "      <td>Protecting Netflix Viewing Privacy at Scale</td>\n",
       "      <td>Engineering</td>\n",
       "    </tr>\n",
       "    <tr>\n",
       "      <th>1</th>\n",
       "      <td>Introducing Winston — Event driven Diagnostic ...</td>\n",
       "      <td>Introducing Winston - Event driven Diagnostic ...</td>\n",
       "      <td>Engineering</td>\n",
       "    </tr>\n",
       "    <tr>\n",
       "      <th>2</th>\n",
       "      <td>Performance &amp; Usage at Instagram\\r\\n\\r\\nAt Ins...</td>\n",
       "      <td>Performance &amp; Usage at Instagram</td>\n",
       "      <td>Engineering</td>\n",
       "    </tr>\n",
       "    <tr>\n",
       "      <th>3</th>\n",
       "      <td>The simple example of calculating and formatti...</td>\n",
       "      <td>Refactoring a javascript video store</td>\n",
       "      <td>Engineering</td>\n",
       "    </tr>\n",
       "    <tr>\n",
       "      <th>4</th>\n",
       "      <td>Billing applications have transactions that ne...</td>\n",
       "      <td>Netflix Billing Migration to AWS - Part III</td>\n",
       "      <td>Engineering</td>\n",
       "    </tr>\n",
       "    <tr>\n",
       "      <th>5</th>\n",
       "      <td>Distributed Resource Scheduling with Apache Me...</td>\n",
       "      <td>Distributed Resource Scheduling with Apache Mesos</td>\n",
       "      <td>Engineering</td>\n",
       "    </tr>\n",
       "    <tr>\n",
       "      <th>6</th>\n",
       "      <td>Global Languages Support at Netflix\\r\\n\\r\\nTes...</td>\n",
       "      <td>Global Languages Support at Netflix - Testing ...</td>\n",
       "      <td>Engineering</td>\n",
       "    </tr>\n",
       "    <tr>\n",
       "      <th>7</th>\n",
       "      <td>Ok, this one might be a little different from ...</td>\n",
       "      <td>How Barriers to Entry Confused Me Terribly, an...</td>\n",
       "      <td>Startups &amp; Business</td>\n",
       "    </tr>\n",
       "    <tr>\n",
       "      <th>8</th>\n",
       "      <td>This article is by Andy Smith, author, entrepr...</td>\n",
       "      <td>The Ancient Origins of Storytelling and How Yo...</td>\n",
       "      <td>Startups &amp; Business</td>\n",
       "    </tr>\n",
       "    <tr>\n",
       "      <th>9</th>\n",
       "      <td>Somewhere along the continuum of the art versu...</td>\n",
       "      <td>How To Choose The Right Business Ideas</td>\n",
       "      <td>Startups &amp; Business</td>\n",
       "    </tr>\n",
       "    <tr>\n",
       "      <th>10</th>\n",
       "      <td>Company Culture is an annoying subject to rese...</td>\n",
       "      <td>Most Company Culture Posts are Fluffy Bullshit...</td>\n",
       "      <td>Startups &amp; Business</td>\n",
       "    </tr>\n",
       "    <tr>\n",
       "      <th>11</th>\n",
       "      <td>Great businesses don’t have to be big — and bi...</td>\n",
       "      <td>Why Value Capture is the Most Important Busine...</td>\n",
       "      <td>Startups &amp; Business</td>\n",
       "    </tr>\n",
       "    <tr>\n",
       "      <th>12</th>\n",
       "      <td>Value Creation\\r\\n\\r\\nBusiness begins with val...</td>\n",
       "      <td>Why Value Creation is the Foundation of Busine...</td>\n",
       "      <td>Startups &amp; Business</td>\n",
       "    </tr>\n",
       "    <tr>\n",
       "      <th>13</th>\n",
       "      <td>Strategic Alliances\\r\\n\\r\\nIn the quest to bui...</td>\n",
       "      <td>How to Think About All Strategic Alliances — T...</td>\n",
       "      <td>Startups &amp; Business</td>\n",
       "    </tr>\n",
       "    <tr>\n",
       "      <th>14</th>\n",
       "      <td>Eight common dysfunctions of design teams (and...</td>\n",
       "      <td>Eight common dysfunctions of design teams (and...</td>\n",
       "      <td>Startups &amp; Business</td>\n",
       "    </tr>\n",
       "    <tr>\n",
       "      <th>15</th>\n",
       "      <td>Please Make Yourself Uncomfortable\\r\\n\\r\\nBy K...</td>\n",
       "      <td>Please Make Yourself Uncomfortable</td>\n",
       "      <td>Startups &amp; Business</td>\n",
       "    </tr>\n",
       "    <tr>\n",
       "      <th>16</th>\n",
       "      <td>After a full day of understanding the problem ...</td>\n",
       "      <td>Sprint: Friday</td>\n",
       "      <td>Startups &amp; Business</td>\n",
       "    </tr>\n",
       "    <tr>\n",
       "      <th>17</th>\n",
       "      <td>Sprint: Wednesday\\r\\n\\r\\nBy Wednesday morning ...</td>\n",
       "      <td>Sprint: Thursday</td>\n",
       "      <td>Startups &amp; Business</td>\n",
       "    </tr>\n",
       "    <tr>\n",
       "      <th>18</th>\n",
       "      <td>When I meet readers they like to ask “What is ...</td>\n",
       "      <td>The Misunderstood, Underestimated, and Neglect...</td>\n",
       "      <td>Startups &amp; Business</td>\n",
       "    </tr>\n",
       "    <tr>\n",
       "      <th>19</th>\n",
       "      <td>Product Management from First Principles\\r\\n\\r...</td>\n",
       "      <td>Startup to Scaleup: What We're Changing As We ...</td>\n",
       "      <td>Startups &amp; Business</td>\n",
       "    </tr>\n",
       "  </tbody>\n",
       "</table>\n",
       "</div>"
      ],
      "text/plain": [
       "                                                 body  \\\n",
       "0   Protecting Netflix Viewing Privacy at Scale\\r\\...   \n",
       "1   Introducing Winston — Event driven Diagnostic ...   \n",
       "2   Performance & Usage at Instagram\\r\\n\\r\\nAt Ins...   \n",
       "3   The simple example of calculating and formatti...   \n",
       "4   Billing applications have transactions that ne...   \n",
       "5   Distributed Resource Scheduling with Apache Me...   \n",
       "6   Global Languages Support at Netflix\\r\\n\\r\\nTes...   \n",
       "7   Ok, this one might be a little different from ...   \n",
       "8   This article is by Andy Smith, author, entrepr...   \n",
       "9   Somewhere along the continuum of the art versu...   \n",
       "10  Company Culture is an annoying subject to rese...   \n",
       "11  Great businesses don’t have to be big — and bi...   \n",
       "12  Value Creation\\r\\n\\r\\nBusiness begins with val...   \n",
       "13  Strategic Alliances\\r\\n\\r\\nIn the quest to bui...   \n",
       "14  Eight common dysfunctions of design teams (and...   \n",
       "15  Please Make Yourself Uncomfortable\\r\\n\\r\\nBy K...   \n",
       "16  After a full day of understanding the problem ...   \n",
       "17  Sprint: Wednesday\\r\\n\\r\\nBy Wednesday morning ...   \n",
       "18  When I meet readers they like to ask “What is ...   \n",
       "19  Product Management from First Principles\\r\\n\\r...   \n",
       "\n",
       "                                                title             category  \n",
       "0         Protecting Netflix Viewing Privacy at Scale          Engineering  \n",
       "1   Introducing Winston - Event driven Diagnostic ...          Engineering  \n",
       "2                    Performance & Usage at Instagram          Engineering  \n",
       "3                Refactoring a javascript video store          Engineering  \n",
       "4         Netflix Billing Migration to AWS - Part III          Engineering  \n",
       "5   Distributed Resource Scheduling with Apache Mesos          Engineering  \n",
       "6   Global Languages Support at Netflix - Testing ...          Engineering  \n",
       "7   How Barriers to Entry Confused Me Terribly, an...  Startups & Business  \n",
       "8   The Ancient Origins of Storytelling and How Yo...  Startups & Business  \n",
       "9              How To Choose The Right Business Ideas  Startups & Business  \n",
       "10  Most Company Culture Posts are Fluffy Bullshit...  Startups & Business  \n",
       "11  Why Value Capture is the Most Important Busine...  Startups & Business  \n",
       "12  Why Value Creation is the Foundation of Busine...  Startups & Business  \n",
       "13  How to Think About All Strategic Alliances — T...  Startups & Business  \n",
       "14  Eight common dysfunctions of design teams (and...  Startups & Business  \n",
       "15                 Please Make Yourself Uncomfortable  Startups & Business  \n",
       "16                                     Sprint: Friday  Startups & Business  \n",
       "17                                   Sprint: Thursday  Startups & Business  \n",
       "18  The Misunderstood, Underestimated, and Neglect...  Startups & Business  \n",
       "19  Startup to Scaleup: What We're Changing As We ...  Startups & Business  "
      ]
     },
     "execution_count": 3,
     "metadata": {},
     "output_type": "execute_result"
    }
   ],
   "source": [
    "data.head(20)"
   ]
  },
  {
   "cell_type": "code",
   "execution_count": 4,
   "metadata": {},
   "outputs": [
    {
     "data": {
      "text/plain": [
       "(2481, 3)"
      ]
     },
     "execution_count": 4,
     "metadata": {},
     "output_type": "execute_result"
    }
   ],
   "source": [
    "data.shape"
   ]
  },
  {
   "cell_type": "code",
   "execution_count": 5,
   "metadata": {},
   "outputs": [
    {
     "name": "stdout",
     "output_type": "stream",
     "text": [
      "<class 'pandas.core.frame.DataFrame'>\n",
      "RangeIndex: 2481 entries, 0 to 2480\n",
      "Data columns (total 3 columns):\n",
      " #   Column    Non-Null Count  Dtype \n",
      "---  ------    --------------  ----- \n",
      " 0   body      2481 non-null   object\n",
      " 1   title     2481 non-null   object\n",
      " 2   category  2481 non-null   object\n",
      "dtypes: object(3)\n",
      "memory usage: 58.3+ KB\n"
     ]
    }
   ],
   "source": [
    "data.info()"
   ]
  },
  {
   "cell_type": "code",
   "execution_count": 6,
   "metadata": {},
   "outputs": [
    {
     "data": {
      "text/html": [
       "<div>\n",
       "<style scoped>\n",
       "    .dataframe tbody tr th:only-of-type {\n",
       "        vertical-align: middle;\n",
       "    }\n",
       "\n",
       "    .dataframe tbody tr th {\n",
       "        vertical-align: top;\n",
       "    }\n",
       "\n",
       "    .dataframe thead th {\n",
       "        text-align: right;\n",
       "    }\n",
       "</style>\n",
       "<table border=\"1\" class=\"dataframe\">\n",
       "  <thead>\n",
       "    <tr style=\"text-align: right;\">\n",
       "      <th></th>\n",
       "      <th>count</th>\n",
       "      <th>unique</th>\n",
       "      <th>top</th>\n",
       "      <th>freq</th>\n",
       "    </tr>\n",
       "  </thead>\n",
       "  <tbody>\n",
       "    <tr>\n",
       "      <th>body</th>\n",
       "      <td>2481</td>\n",
       "      <td>2380</td>\n",
       "      <td></td>\n",
       "      <td>41</td>\n",
       "    </tr>\n",
       "    <tr>\n",
       "      <th>title</th>\n",
       "      <td>2481</td>\n",
       "      <td>2454</td>\n",
       "      <td>Simplify Service Dependencies with Nodes</td>\n",
       "      <td>3</td>\n",
       "    </tr>\n",
       "    <tr>\n",
       "      <th>category</th>\n",
       "      <td>2481</td>\n",
       "      <td>3</td>\n",
       "      <td>Startups &amp; Business</td>\n",
       "      <td>1071</td>\n",
       "    </tr>\n",
       "  </tbody>\n",
       "</table>\n",
       "</div>"
      ],
      "text/plain": [
       "         count unique                                       top  freq\n",
       "body      2481   2380                                              41\n",
       "title     2481   2454  Simplify Service Dependencies with Nodes     3\n",
       "category  2481      3                       Startups & Business  1071"
      ]
     },
     "execution_count": 6,
     "metadata": {},
     "output_type": "execute_result"
    }
   ],
   "source": [
    "data.describe().T"
   ]
  },
  {
   "cell_type": "code",
   "execution_count": 9,
   "metadata": {},
   "outputs": [],
   "source": [
    "articles = data.sample(frac=1).reset_index(drop = True)"
   ]
  },
  {
   "cell_type": "code",
   "execution_count": 10,
   "metadata": {},
   "outputs": [
    {
     "data": {
      "text/html": [
       "<div>\n",
       "<style scoped>\n",
       "    .dataframe tbody tr th:only-of-type {\n",
       "        vertical-align: middle;\n",
       "    }\n",
       "\n",
       "    .dataframe tbody tr th {\n",
       "        vertical-align: top;\n",
       "    }\n",
       "\n",
       "    .dataframe thead th {\n",
       "        text-align: right;\n",
       "    }\n",
       "</style>\n",
       "<table border=\"1\" class=\"dataframe\">\n",
       "  <thead>\n",
       "    <tr style=\"text-align: right;\">\n",
       "      <th></th>\n",
       "      <th>body</th>\n",
       "      <th>title</th>\n",
       "      <th>category</th>\n",
       "    </tr>\n",
       "  </thead>\n",
       "  <tbody>\n",
       "    <tr>\n",
       "      <th>0</th>\n",
       "      <td>These are issues faced by many companies at so...</td>\n",
       "      <td>Why Companies Adopt Microservices And How They...</td>\n",
       "      <td>Engineering</td>\n",
       "    </tr>\n",
       "    <tr>\n",
       "      <th>1</th>\n",
       "      <td>Since the term “microservices” hit the softwar...</td>\n",
       "      <td>Microservice architecture is agile software ar...</td>\n",
       "      <td>Engineering</td>\n",
       "    </tr>\n",
       "    <tr>\n",
       "      <th>2</th>\n",
       "      <td>Truly innovative products solve meaningful pro...</td>\n",
       "      <td>Google’s Golden Krishna on designing screenles...</td>\n",
       "      <td>Product &amp; Design</td>\n",
       "    </tr>\n",
       "    <tr>\n",
       "      <th>3</th>\n",
       "      <td>TL;DR: 27 Sprint Anti-Patterns Holding Back Sc...</td>\n",
       "      <td>27 Sprint Anti-Patterns Holding Back Scrum Teams</td>\n",
       "      <td>Engineering</td>\n",
       "    </tr>\n",
       "    <tr>\n",
       "      <th>4</th>\n",
       "      <td>Deep Learning with Emojis (not Math) Sorting s...</td>\n",
       "      <td>Deep Learning with Emojis (not Math)</td>\n",
       "      <td>Engineering</td>\n",
       "    </tr>\n",
       "    <tr>\n",
       "      <th>5</th>\n",
       "      <td>UI methodologies like Atomic Design bring logi...</td>\n",
       "      <td>The full stack design system</td>\n",
       "      <td>Product &amp; Design</td>\n",
       "    </tr>\n",
       "    <tr>\n",
       "      <th>6</th>\n",
       "      <td>How we structure our work and teams at Basecam...</td>\n",
       "      <td>How we structure our work and teams at Basecamp</td>\n",
       "      <td>Startups &amp; Business</td>\n",
       "    </tr>\n",
       "    <tr>\n",
       "      <th>7</th>\n",
       "      <td>I Got Rejected by Apple Music… So I Redesigned...</td>\n",
       "      <td>I Got Rejected by Apple Music… So I Redesigned It</td>\n",
       "      <td>Product &amp; Design</td>\n",
       "    </tr>\n",
       "    <tr>\n",
       "      <th>8</th>\n",
       "      <td>Machine Learning in Production\\n\\nFrom trained...</td>\n",
       "      <td>Machine Learning in Production</td>\n",
       "      <td>Engineering</td>\n",
       "    </tr>\n",
       "    <tr>\n",
       "      <th>9</th>\n",
       "      <td>In its simplest form, web scraping is about ma...</td>\n",
       "      <td>How to Scrape Amazon.com: 19 Lessons I Learned...</td>\n",
       "      <td>Engineering</td>\n",
       "    </tr>\n",
       "  </tbody>\n",
       "</table>\n",
       "</div>"
      ],
      "text/plain": [
       "                                                body  \\\n",
       "0  These are issues faced by many companies at so...   \n",
       "1  Since the term “microservices” hit the softwar...   \n",
       "2  Truly innovative products solve meaningful pro...   \n",
       "3  TL;DR: 27 Sprint Anti-Patterns Holding Back Sc...   \n",
       "4  Deep Learning with Emojis (not Math) Sorting s...   \n",
       "5  UI methodologies like Atomic Design bring logi...   \n",
       "6  How we structure our work and teams at Basecam...   \n",
       "7  I Got Rejected by Apple Music… So I Redesigned...   \n",
       "8  Machine Learning in Production\\n\\nFrom trained...   \n",
       "9  In its simplest form, web scraping is about ma...   \n",
       "\n",
       "                                               title             category  \n",
       "0  Why Companies Adopt Microservices And How They...          Engineering  \n",
       "1  Microservice architecture is agile software ar...          Engineering  \n",
       "2  Google’s Golden Krishna on designing screenles...     Product & Design  \n",
       "3   27 Sprint Anti-Patterns Holding Back Scrum Teams          Engineering  \n",
       "4               Deep Learning with Emojis (not Math)          Engineering  \n",
       "5                       The full stack design system     Product & Design  \n",
       "6    How we structure our work and teams at Basecamp  Startups & Business  \n",
       "7  I Got Rejected by Apple Music… So I Redesigned It     Product & Design  \n",
       "8                     Machine Learning in Production          Engineering  \n",
       "9  How to Scrape Amazon.com: 19 Lessons I Learned...          Engineering  "
      ]
     },
     "execution_count": 10,
     "metadata": {},
     "output_type": "execute_result"
    }
   ],
   "source": [
    "articles.head(10)"
   ]
  },
  {
   "cell_type": "code",
   "execution_count": 15,
   "metadata": {},
   "outputs": [],
   "source": [
    "train_data = articles.iloc[:1990,:]\n",
    "test_data = articles.iloc[1901:,:]"
   ]
  },
  {
   "cell_type": "code",
   "execution_count": 16,
   "metadata": {},
   "outputs": [
    {
     "data": {
      "text/html": [
       "<div>\n",
       "<style scoped>\n",
       "    .dataframe tbody tr th:only-of-type {\n",
       "        vertical-align: middle;\n",
       "    }\n",
       "\n",
       "    .dataframe tbody tr th {\n",
       "        vertical-align: top;\n",
       "    }\n",
       "\n",
       "    .dataframe thead th {\n",
       "        text-align: right;\n",
       "    }\n",
       "</style>\n",
       "<table border=\"1\" class=\"dataframe\">\n",
       "  <thead>\n",
       "    <tr style=\"text-align: right;\">\n",
       "      <th></th>\n",
       "      <th>body</th>\n",
       "      <th>title</th>\n",
       "      <th>category</th>\n",
       "    </tr>\n",
       "  </thead>\n",
       "  <tbody>\n",
       "    <tr>\n",
       "      <th>0</th>\n",
       "      <td>These are issues faced by many companies at so...</td>\n",
       "      <td>Why Companies Adopt Microservices And How They...</td>\n",
       "      <td>Engineering</td>\n",
       "    </tr>\n",
       "    <tr>\n",
       "      <th>1</th>\n",
       "      <td>Since the term “microservices” hit the softwar...</td>\n",
       "      <td>Microservice architecture is agile software ar...</td>\n",
       "      <td>Engineering</td>\n",
       "    </tr>\n",
       "    <tr>\n",
       "      <th>2</th>\n",
       "      <td>Truly innovative products solve meaningful pro...</td>\n",
       "      <td>Google’s Golden Krishna on designing screenles...</td>\n",
       "      <td>Product &amp; Design</td>\n",
       "    </tr>\n",
       "    <tr>\n",
       "      <th>3</th>\n",
       "      <td>TL;DR: 27 Sprint Anti-Patterns Holding Back Sc...</td>\n",
       "      <td>27 Sprint Anti-Patterns Holding Back Scrum Teams</td>\n",
       "      <td>Engineering</td>\n",
       "    </tr>\n",
       "    <tr>\n",
       "      <th>4</th>\n",
       "      <td>Deep Learning with Emojis (not Math) Sorting s...</td>\n",
       "      <td>Deep Learning with Emojis (not Math)</td>\n",
       "      <td>Engineering</td>\n",
       "    </tr>\n",
       "    <tr>\n",
       "      <th>...</th>\n",
       "      <td>...</td>\n",
       "      <td>...</td>\n",
       "      <td>...</td>\n",
       "    </tr>\n",
       "    <tr>\n",
       "      <th>1985</th>\n",
       "      <td>Through this Node.js &amp; MySQL example project, ...</td>\n",
       "      <td>Node.js + MySQL Example: Handling 100's of Gig...</td>\n",
       "      <td>Engineering</td>\n",
       "    </tr>\n",
       "    <tr>\n",
       "      <th>1986</th>\n",
       "      <td>تم نشره في 11‏/08‏/2016\\n\\nJack Franklin (04/0...</td>\n",
       "      <td>The State of Javascript - Jack Franklin | Augu...</td>\n",
       "      <td>Engineering</td>\n",
       "    </tr>\n",
       "    <tr>\n",
       "      <th>1987</th>\n",
       "      <td>You can’t pick a technical direction without c...</td>\n",
       "      <td>Business Case for Serverless</td>\n",
       "      <td>Engineering</td>\n",
       "    </tr>\n",
       "    <tr>\n",
       "      <th>1988</th>\n",
       "      <td>Over the last few years, the importance of des...</td>\n",
       "      <td>3 ways to improve collaboration between design...</td>\n",
       "      <td>Product &amp; Design</td>\n",
       "    </tr>\n",
       "    <tr>\n",
       "      <th>1989</th>\n",
       "      <td>Seed Fundraising — How to Close the Lead Inves...</td>\n",
       "      <td>Seed Fundraising - How to Close the Lead Investor</td>\n",
       "      <td>Startups &amp; Business</td>\n",
       "    </tr>\n",
       "  </tbody>\n",
       "</table>\n",
       "<p>1990 rows × 3 columns</p>\n",
       "</div>"
      ],
      "text/plain": [
       "                                                   body  \\\n",
       "0     These are issues faced by many companies at so...   \n",
       "1     Since the term “microservices” hit the softwar...   \n",
       "2     Truly innovative products solve meaningful pro...   \n",
       "3     TL;DR: 27 Sprint Anti-Patterns Holding Back Sc...   \n",
       "4     Deep Learning with Emojis (not Math) Sorting s...   \n",
       "...                                                 ...   \n",
       "1985  Through this Node.js & MySQL example project, ...   \n",
       "1986  تم نشره في 11‏/08‏/2016\\n\\nJack Franklin (04/0...   \n",
       "1987  You can’t pick a technical direction without c...   \n",
       "1988  Over the last few years, the importance of des...   \n",
       "1989  Seed Fundraising — How to Close the Lead Inves...   \n",
       "\n",
       "                                                  title             category  \n",
       "0     Why Companies Adopt Microservices And How They...          Engineering  \n",
       "1     Microservice architecture is agile software ar...          Engineering  \n",
       "2     Google’s Golden Krishna on designing screenles...     Product & Design  \n",
       "3      27 Sprint Anti-Patterns Holding Back Scrum Teams          Engineering  \n",
       "4                  Deep Learning with Emojis (not Math)          Engineering  \n",
       "...                                                 ...                  ...  \n",
       "1985  Node.js + MySQL Example: Handling 100's of Gig...          Engineering  \n",
       "1986  The State of Javascript - Jack Franklin | Augu...          Engineering  \n",
       "1987                       Business Case for Serverless          Engineering  \n",
       "1988  3 ways to improve collaboration between design...     Product & Design  \n",
       "1989  Seed Fundraising - How to Close the Lead Investor  Startups & Business  \n",
       "\n",
       "[1990 rows x 3 columns]"
      ]
     },
     "execution_count": 16,
     "metadata": {},
     "output_type": "execute_result"
    }
   ],
   "source": [
    "train_data"
   ]
  },
  {
   "cell_type": "code",
   "execution_count": 17,
   "metadata": {
    "scrolled": true
   },
   "outputs": [
    {
     "data": {
      "text/html": [
       "<div>\n",
       "<style scoped>\n",
       "    .dataframe tbody tr th:only-of-type {\n",
       "        vertical-align: middle;\n",
       "    }\n",
       "\n",
       "    .dataframe tbody tr th {\n",
       "        vertical-align: top;\n",
       "    }\n",
       "\n",
       "    .dataframe thead th {\n",
       "        text-align: right;\n",
       "    }\n",
       "</style>\n",
       "<table border=\"1\" class=\"dataframe\">\n",
       "  <thead>\n",
       "    <tr style=\"text-align: right;\">\n",
       "      <th></th>\n",
       "      <th>body</th>\n",
       "      <th>title</th>\n",
       "      <th>category</th>\n",
       "    </tr>\n",
       "  </thead>\n",
       "  <tbody>\n",
       "    <tr>\n",
       "      <th>1901</th>\n",
       "      <td>The ‘Lean’ movement has taken the corporate wo...</td>\n",
       "      <td>After running 2,000 experiments for Fortune 50...</td>\n",
       "      <td>Product &amp; Design</td>\n",
       "    </tr>\n",
       "    <tr>\n",
       "      <th>1902</th>\n",
       "      <td>Network effects. It’s one of the most importan...</td>\n",
       "      <td>All about Network Effects</td>\n",
       "      <td>Startups &amp; Business</td>\n",
       "    </tr>\n",
       "    <tr>\n",
       "      <th>1903</th>\n",
       "      <td>Let’s get straight to it—we all would like to ...</td>\n",
       "      <td>How I landed my first 5-figure UX design contract</td>\n",
       "      <td>Product &amp; Design</td>\n",
       "    </tr>\n",
       "    <tr>\n",
       "      <th>1904</th>\n",
       "      <td>Note: For regular readers of this space, playe...</td>\n",
       "      <td>30K Page Views for $0.21: A Serverless Story</td>\n",
       "      <td>Engineering</td>\n",
       "    </tr>\n",
       "    <tr>\n",
       "      <th>1905</th>\n",
       "      <td>By Lucie Lozinski\\n\\nUber Engineering\\n\\nUber’...</td>\n",
       "      <td>The Uber Engineering Tech Stack, Part II: The ...</td>\n",
       "      <td>Engineering</td>\n",
       "    </tr>\n",
       "    <tr>\n",
       "      <th>...</th>\n",
       "      <td>...</td>\n",
       "      <td>...</td>\n",
       "      <td>...</td>\n",
       "    </tr>\n",
       "    <tr>\n",
       "      <th>2476</th>\n",
       "      <td>Did that title get your attention? Good.\\n\\nLi...</td>\n",
       "      <td>NoTDD</td>\n",
       "      <td>Engineering</td>\n",
       "    </tr>\n",
       "    <tr>\n",
       "      <th>2477</th>\n",
       "      <td>Just like the Business Model Canvas helps iden...</td>\n",
       "      <td>Keep agile teams aligned</td>\n",
       "      <td>Startups &amp; Business</td>\n",
       "    </tr>\n",
       "    <tr>\n",
       "      <th>2478</th>\n",
       "      <td>At the recent FutureStack 2017 in New York, Me...</td>\n",
       "      <td>Airbnb's 10 Takeaways from Moving to Microserv...</td>\n",
       "      <td>Engineering</td>\n",
       "    </tr>\n",
       "    <tr>\n",
       "      <th>2479</th>\n",
       "      <td>Editor’s note: This is an excerpt from Mobiliz...</td>\n",
       "      <td>3 ways to be just pushy enough on mobile</td>\n",
       "      <td>Product &amp; Design</td>\n",
       "    </tr>\n",
       "    <tr>\n",
       "      <th>2480</th>\n",
       "      <td>Roadmap poison: voting for features\\r\\n\\r\\nThe...</td>\n",
       "      <td>Roadmap poison: voting for features</td>\n",
       "      <td>Product &amp; Design</td>\n",
       "    </tr>\n",
       "  </tbody>\n",
       "</table>\n",
       "<p>580 rows × 3 columns</p>\n",
       "</div>"
      ],
      "text/plain": [
       "                                                   body  \\\n",
       "1901  The ‘Lean’ movement has taken the corporate wo...   \n",
       "1902  Network effects. It’s one of the most importan...   \n",
       "1903  Let’s get straight to it—we all would like to ...   \n",
       "1904  Note: For regular readers of this space, playe...   \n",
       "1905  By Lucie Lozinski\\n\\nUber Engineering\\n\\nUber’...   \n",
       "...                                                 ...   \n",
       "2476  Did that title get your attention? Good.\\n\\nLi...   \n",
       "2477  Just like the Business Model Canvas helps iden...   \n",
       "2478  At the recent FutureStack 2017 in New York, Me...   \n",
       "2479  Editor’s note: This is an excerpt from Mobiliz...   \n",
       "2480  Roadmap poison: voting for features\\r\\n\\r\\nThe...   \n",
       "\n",
       "                                                  title             category  \n",
       "1901  After running 2,000 experiments for Fortune 50...     Product & Design  \n",
       "1902                          All about Network Effects  Startups & Business  \n",
       "1903  How I landed my first 5-figure UX design contract     Product & Design  \n",
       "1904       30K Page Views for $0.21: A Serverless Story          Engineering  \n",
       "1905  The Uber Engineering Tech Stack, Part II: The ...          Engineering  \n",
       "...                                                 ...                  ...  \n",
       "2476                                              NoTDD          Engineering  \n",
       "2477                           Keep agile teams aligned  Startups & Business  \n",
       "2478  Airbnb's 10 Takeaways from Moving to Microserv...          Engineering  \n",
       "2479           3 ways to be just pushy enough on mobile     Product & Design  \n",
       "2480                Roadmap poison: voting for features     Product & Design  \n",
       "\n",
       "[580 rows x 3 columns]"
      ]
     },
     "execution_count": 17,
     "metadata": {},
     "output_type": "execute_result"
    }
   ],
   "source": [
    "test_data"
   ]
  },
  {
   "cell_type": "code",
   "execution_count": 13,
   "metadata": {},
   "outputs": [],
   "source": [
    "art_dic = {'Engineering':0, 'Product & Design':1,'Startups & Business':2}"
   ]
  },
  {
   "cell_type": "code",
   "execution_count": 14,
   "metadata": {},
   "outputs": [],
   "source": [
    "train = train_data.pop('body').values\n",
    "train_target_art = train_data.pop('category').values"
   ]
  },
  {
   "cell_type": "code",
   "execution_count": 18,
   "metadata": {},
   "outputs": [
    {
     "data": {
      "text/plain": [
       "array(['These are issues faced by many companies at some point in their lifetime. From a business standpoint it becomes clear that the current organisational structure and technical architecture will mostly likely hinder the progress of the company in the long term.\\r\\n\\r\\nThe day 1 goal of the company still stands true. To deliver a quality product in the shortest space of time possible. However the company is now being limited more so by itself than the market or it’s competitors.\\r\\n\\r\\nAt this point it becomes clear that there’s a need to address these issues so the company can be structured in a way that will enable it to execute and scale.\\r\\n\\r\\nThe Road To Re-architecture\\r\\n\\r\\nIt’s not about technology, it’s about people\\r\\n\\r\\nThe motivations are clear but before pursuing any path it’s important to begin by discussing the existing issues with those directly affected.\\r\\n\\r\\nThe team.\\r\\n\\r\\nJumping too quickly into architecting a new system without understanding the existing problems could not only result in building the wrong solution but also wasting a significant amount of time and money.\\r\\n\\r\\nEvery part of the organisation will be affected differently. Many of the problems you’ll hear are not specifically technical but more so about cross team collaboration, prioritisation of goals, etc.\\r\\n\\r\\nTechnology may be at the core of the product offering but the day to day operation of the company is focused on people and how they work together.\\r\\n\\r\\nSeek Out Expertise\\r\\n\\r\\nWhile discussing the company problems and potential solutions amongst the team is imperative it’s also worthwhile seeking an outside perspective. The experience of those who may have seen these problems before can be immensely valuable.\\r\\n\\r\\nThis doesn’t necessarily mean looking to consulting firms. The road to re-architecture is nothing new. There are many experienced teams or individuals from other companies who’ve already been down this path and can offer great insight.\\r\\n\\r\\nAsk someone to spend a few days talking to people at the company and looking at the technology, so they can provide a well formed opinion about how you should proceed. By seeking out a number of outside experts you’ll be able to make an informed decision about what the next steps should be.\\r\\n\\r\\nIn some cases, microservices may not actually be the needed solution. A lot of deficiencies may be process related and can be rectified by focusing on product lifecycle management with additional minor technical changes.\\r\\n\\r\\nYou may receive contrasting views about what the right approach is. This will be because of past experiences with specific elements in place such as strong growth and revenue, senior engineers with past architecture experience, etc.\\r\\n\\r\\nIt’s important to listen to the various experiences and opinions, however at the end of the day your team needs to make a judgement call about what your collective priorities and the approach that’s best suited to you.\\r\\n\\r\\nExisting Models\\r\\n\\r\\nIf you do decide that re-architecture is the path to take, again seek out the experts in the field who’ve done this before and identify models that already work.\\r\\n\\r\\nThe things you really want to know are:\\r\\n\\r\\nWhat team structures and dynamics work Which technologies make sense for you How the architecture is built and scaled What the migration path is from the legacy system\\r\\n\\r\\nThe patterns for microservice platforms have emerged in recent years with the likes of Netflix being one of first to actively speak about their journey. This process of re-architecture included a move to the public cloud leveraging Amazon Web Services.\\r\\n\\r\\nOthers like Spotify have discussed engineering culture and structural practices that worked for them. There’s a wealth of information on the successes of squads, tribes, guilds, mission teams and so on.\\r\\n\\r\\nPrototyping\\r\\n\\r\\nWith all that in mind, diving head first into a complete rewrite is unadvisable. The best way to begin is with some rapid prototyping.\\r\\n\\r\\nIn this phase a group of engineers should be given time to identify and test potential technologies and architecture patterns. This is ideally a 2–4 week period that results in sample solutions, demo platforms and a summary that can be presented to the rest of the company.\\r\\n\\r\\nIt’s important to discuss what will and won’t work as a team rather than making decisions in a silo. The entire company will inherently be users of the new platform and they should have a say in what they’ll be using day to day.\\r\\n\\r\\nA lot will be learned during this phase. Whether the team has the existing skills and experience to build a better system than before.\\r\\n\\r\\nWhat timelines potentially look like in building the first version of said system. And whether it’s actually going to solve the problems you’re facing as an organisation.\\r\\n\\r\\nIf it looks like any of these issues are going to arise in the next phases of the process it’s ideal that they’re surfaced now in this low risk low cost setting.\\r\\n\\r\\nDo not be afraid to take a step back to reassess if it no longer makes sense.\\r\\n\\r\\nIf the prototyping phase was successful, it’s time to move on to the next step. Building the new platform and validating that it actually works.\\r\\n\\r\\nA New Architecture\\r\\n\\r\\nLooking back, it may become clear that the existing system was cobbled together manually and formed a unique architecture which was only fully understood by a few engineers within the company.\\r\\n\\r\\nIs there a disaster recovery plan? Is there automated failover? How long would it take to rebuild from scratch? Is it scalable? Is it secure?\\r\\n\\r\\nThe answer to these questions probably wasn’t met with a confident “yes”. This is the time at which many take the opportunity to address the above questions along with all the other problems discussed before.\\r\\n\\r\\nSo what’s needed?\\r\\n\\r\\nA clean slate. A fully automated highly available cloud native platform.\\r\\n\\r\\nAs mentioned before, the pattern and tools to develop a globally scalable microservice platform already exist. Along with the results of the prototyping phase, the team should be able to produce a repeatable model that becomes the basis of the new system.\\r\\n\\r\\nAs this is a mostly non-technical post, we’ll leave out the details of how that’s actually achieved. Reach out if you would like to discuss it further.\\r\\n\\r\\nThe Migration Path\\r\\n\\r\\nIf you’re providing a service to customers then you know business continuity is absolutely critical. Any disruptions in your service affects the customer experience and ultimately the company’s revenue.\\r\\n\\r\\nA Service Level Agreement (SLA) is common practice and you want to ensure this is maintained throughout the migration process. It’s key to remember that the business is first priority but maintaining this SLA during a migration process is a tradeoff between uptime and developement time.\\r\\n\\r\\nIf teams are spending a significant amount of time migrating from the legacy system to the new system, the company is essentially unable to execute on other important aspects of the business. It’s something everyone must be wary of before even beginning this journey.\\r\\n\\r\\nWith that said, no matter which way you cut it, the migration path will take time. The tried and tested method is to take an existing function of the legacy system, build a new version as a microservice on the new platform and gradually shift request traffic over.\\r\\n\\r\\nThere’s a few important points to keep in mind here.\\r\\n\\r\\n1. The entire company does not need to focus on the migration. A single team, ideally the team which built the prototype, should take on this task. This allows the majority of teams to continue work on their existing projects and minimises any further disruption.\\r\\n\\r\\n2. Pick a well understood function of the system. It’s important that the team migrating over the first feature has a deep understanding of that feature, how it will be architected in the new system and how to rollback if there are any significant issues.\\r\\n\\r\\n3. Set achievable milestones. A couple weeks is likely not long enough to migrate that first feature but if you’re still working on it after 6 months, something is clearly going wrong. 3 months is a good timeframe in which to develop a plan, write the software, and by the end, serving production traffic on the new platform.\\r\\n\\r\\nAfter successfully migrating over the first few features/services a pattern will emerge in terms of the technical approach, timelines and team requirements.\\r\\n\\r\\nThe process is one that can take many months or even years depending on how you prioritise the migration. Everyone should understand that this is not an overnight transition and the re-architecture path must be as much a part of the roadmap as any new feature or product development.\\r\\n\\r\\nPlatform as a service\\r\\n\\r\\nYour developers are customers\\r\\n\\r\\nAs the migration is underway, patterns emerge and a playbook is formed for how this process should continue on successfully. The “platform” team will have developed a deep understanding of all that’s involved.\\r\\n\\r\\nThe rest of the company should be kept in the loop about the progress of the migration and will have accrued some knowledge of how the new platform works during the journey.\\r\\n\\r\\nFurther effort now needs to be made to engage them in increasing this understanding and opening the platform up to them so they can participate in the migration of services themselves or build new products on the platform.\\r\\n\\r\\nThis is where we really start to address the need for Platform as a Service.\\r\\n\\r\\nThe Need For A Platform Team\\r\\n\\r\\nYou’ll have heard of PaaS as some form of hosted offering for running applications. The benefit of such a system is that it allows you to focus primarily on product development and less on infrastructure management.\\r\\n\\r\\nWhen running a microservice platform internally you wan’t this same advantage. Teams should be focused on delivering business value rather than on the complexities of automating and managing distributed systems.\\r\\n\\r\\nA platform team’s primary objective would be to deliver platform as a service internally via APIs, dashboards and developer tools while maintaining a highly available and scalable system.\\r\\n\\r\\nThere are varying opinions on this methodology. Spotify for instance have opted for a polyglot architecture in which every team chooses their own technologies and manages their own infrastructure.\\r\\n\\r\\nThe likes of Google, Facebook, Twitter, Netflix and Hailo have opted for the alternative model where a set of services are provided to the company much like a cloud provider.\\r\\n\\r\\nAs with any choice, it’s a tradeoff. In this case time versus flexibility. By allowing teams to manage their own infrastructure, much of the time is spent there. If platform as a service is provided instead, that time is recouped but a more opinionated service is offered.\\r\\n\\r\\nCompanies have to rationalise these decisions internally based on their skills, experiences and what they deem to be most important to them. An argument can be made for either methodology.\\r\\n\\r\\nSelf Organising Teams\\r\\n\\r\\nWith the power of a microservices platform, feature development and testing new ideas should be quick. If anything 24–48 hour hackathons can become a regular occurrence and originate new products.\\r\\n\\r\\nOne method of really harnessing this power is around the idea of self organising teams. For the most part you will have mission teams or product teams which operate autonomously and focus on key long term objectives. Self organising teams are a way of augmenting this structure.\\r\\n\\r\\nAn example scenario. A group of 3–4 employees with complementary skills from various teams identify a problem that needs to be solved or they have an idea for a new feature which they feel strongly about developing.\\r\\n\\r\\nWith the approval of their managers, they form a temporary team for a two week sprint to build out a solution. They’re able to reuse existing micro services on the platform and make use of all the self serve tools which really accelerates the process.\\r\\n\\r\\nBy the end of the sprint they ship a new set of services to production without having to coordinate with any other teams and also more importantly without having to modify a single line of code in any existing applications.\\r\\n\\r\\nIf the solution proves successful they make the case for creating a permanent team to further product development.\\r\\n\\r\\nSelf organising teams are a really great organisational enhancement driven by the advantages for microservices.\\r\\n\\r\\nAnother common name for self organising teams is Guilds. It’s a term popularised by Spotify as part of their organisation structuring methods.\\r\\n\\r\\nLearn more about Spotify’s model here .\\r\\n\\r\\nWhat Success Looks Like\\r\\n\\r\\nZero to production in hours or days, not weeks or months\\r\\n\\r\\nMigrating a running business from one platform to another can be a long and arduous process. The measure of success should not solely be judged on reaching the end of that process but the goals achieved incrementally along the way.\\r\\n\\r\\nRevisiting the problems discussed earlier on.\\r\\n\\r\\nSlow development process Cross team coordination Brittle monolithic software\\r\\n\\r\\nEven while working on the migration, all of these issues should more than likely be solved. Microservices offer a form organisational speed, scale and agility via distributed systems technical architecture.\\r\\n\\r\\nThe monolith application is decomposed into a number of smaller applications that can be worked on and released independently by teams. They do not have to be aware of technical details of services developed by other teams but can consume them via strongly defined APIs.\\r\\n\\r\\nTeams are likely to have faster product development cycles because of this and are able to operate autonomously. Where cross team collaboration does need to occur, it can be done in a self organising fashion or by simply consuming APIs of their services.\\r\\n\\r\\nFurther to that, the platform should now offer a highly available and globally scaling system which product teams can leverage without having to think about the details of building distributed systems.\\r\\n\\r\\nSuccess is still measured as the ability to deliver a quality product in the shortest time possible but now with an ability to scale the organisation and technology.',\n",
       "       'Since the term “microservices” hit the software industry like a bolt of lightning in 2014, technical professionals of all stripes have been analyzing this new architectural style from their own frames of reference. Having lived through the rise and fall of service-oriented architecture, I had the same reaction as many others: How does microservice architecture differ from SOA? The more I learned about the case studies that led to the creation of the term “microservices,” the more I recognized that this question would not capture the essence of this new software movement.\\n\\nThe first thing to recognize about the microservice movement is that it has been empirically defined. Microservice architecture emerged from a common set of patterns evident in companies like Amazon, Netflix, SoundCloud, and Gilt (now part of HBC Digital). Applications at these companies that were monolithic evolved over time into decomposed services that communicated via RESTful APIs and other network-based messaging protocols.\\n\\n[ Download InfoWorld’s essential guide to microservices and learn how to create modern Web and mobile applications that scale. | Cut to the key news in technology trends and IT breakthroughs with the InfoWorld Daily newsletter, our summary of the top tech happenings. ]\\n\\nHowever, the commonalities were not restricted to architectural patterns. The companies at the forefront of microservices also shared a common approach to software development, had similar organizational structures and cultural practices, and shared an affinity for cloud-based infrastructure and automation. Many companies that succeed with microservices have followed a similar progression driven by a desire for development speed and scalability.\\n\\nThe agile progression\\n\\nIn early 2001, a group of software professionals published the Agile Manifesto as a statement of values on how to improve software development. Although the principles stated were not new -- they were a consolidation of ideas from extreme programming, scrum, lean, and more -- the unified voice caught the industry’s attention. Just as microservice architecture is frequently defined in contrast to monolithic architecture, the manifesto differentiates agile software development from “documentation-driven, heavyweight software development processes.” The agile approach sought to remove the overhead and risk of large-scale software development by using smaller work increments, frequent iterations, and prototyping as a means of collaboration with users. The adoption of agile methods in the industry grew consistently following the publication of the manifesto.\\n\\nThe spread of agile methods also led to the popularization of continuous integration (CI) in the software industry, a common practice from extreme programming. CI sought to combine software components as early in the lifecycle as possible in order to minimize the impact of code integration issues. However, many of the early agile adopters found that once they had removed the bottlenecks in the coding, they hit snags in releasing the software. These difficulties were only amplified by the popularization of SaaS as an increasingly preferred deployment option.\\n\\nTo address the need for more frequent software releases, the practice of continuous delivery (CD) started to gain traction in 2006, taking the internal CI concept and applying it to the external view of software deliverables. CD takes scrum’s quality-focused “potentially shippable product increment” literally, defining a deployment pipeline to bring changes to production as quickly as possible. Virtualization and cloud computing removed technological barriers to CD, and new tools emerged to institutionalize CD practices. The combination of agile and CD was improving both the speed of production and the quality of the software produced.\\n\\nStill, there were bottlenecks. Agile’s primary scope was on the development of software, while CD extended that scope to include production deployment, an operations task. In most organizations, development and operations were consciously divided in both reporting and mission. In 2009, John Allspaw and Paul Hammond from Flickr gave an influential talk at the O’Reilly Velocity conference detailing how they had bridged this gap. From experiences like theirs, the devops movement arose to address this cultural divide.\\n\\nOrganizations found that combining development and operations responsibilities in the same team led to highly effective continuous delivery practices. As collaboration increased between dev and ops, so did empathy. Developers designed solutions that included an operational perspective from the outset, and operations people used an engineering approach to tackle problems that were previously dealt with procedurally. Greater use of automation in day-to-day tasks resulted in greater system stability and resilience. Netflix\\'s Simian Army approach to testing the resilience of production systems is an extreme example of this.\\n\\nThe organizations that followed this \"agile progression\" -- from addressing software development to deployment to organizational structure -- now had alignment in these areas. Many of these agile pioneers were Web native and provided their software solutions in a single application stack. As the complexity and scale of their businesses increased, they found that this architecture not only became an impediment to new feature delivery, but caused stability issues due to brittleness and lack of scalability. In parallel, several companies -- such as SoundCloud -- discovered that breaking their monolithic applications into discrete, business-focused services was more suitable to their agile delivery methodology and devops culture. This is the true origin of microservice architecture. Microservices are the architectural phase of the agile progression.\\n\\nMicroservices are the architectural phase of the agile progression.\\n\\nIn search of agile software architecture\\n\\nIn a 2013 post on his blog “Coding the Architecture,” software architect Simon Brown speculated about what an agile software architecture would look like. He points out that an agile architecture does not naturally emerge from agile development practices. Rather, it must be consciously sought. Note that his description of agile software architecture is a perfect match for microservice architecture (emphases mine):\\n\\nIf we look at the characteristics of an agile software architecture, we tend to think of something that is built using a collection of small, loosely coupled components/services that collaborate together to satisfy an end-goal. This style of architecture provides agility in a number of ways. Small, loosely coupled components/services can be built, modified and tested in isolation, or even ripped out and replaced depending on how requirements change. This style of architecture also lends itself well to a very flexible and adaptable deployment model, since new components/services can be added and scaled if needed.\\n\\nCompanies like Amazon, Netflix, SoundCloud, and Gilt encountered an architectural bottleneck when they reached a certain scale. This barrier motivated them to focus on the architecture, as Brown encourages, and they landed on microservices.\\n\\nThere are important lessons to be gleaned from tracking this agile progression through to its architectural phase. First of all is that agile software development, continuous delivery, devops culture, and microservice architecture are all bound by a common set of goals: to be as responsive as possible to customer needs while maintaining high levels of software quality and system availability. Although these phases evolved in a particular order from the industry perspective, there is no right sequence for an individual organization to follow. For example, Amazon adopted an architecture that forced changes to its organization. By contrast, SoundCloud evaluated its delivery methodology and made changes to its team structure and architecture as a result.\\n\\nIf you are evaluating how you can adopt microservices, it is important to understand where your organization is on the agile progression. Are you an agile shop? If so, who is looking after the architecture of your applications? If not, are you on a path to adopt agile practices? Do you have CD and deployment pipelines in place? What is the relationship between your development and operations teams, and who owns those responsibilities? Weighing the answers to these questions against your primary goals for adopting microservices will help you chart the right course to success that includes incremental wins along the way.\\n\\nThis is the first post in a two-part series from Matt McLarty, co-author of the upcoming book \"Microservice Architecture\" from O’Reilly Media. This series shares applicable lessons from the evolution of microservices. To learn directly from the early adopters of microservices and to receive a free digital copy of the new book, attend the API360 Microservices Summit in New York on June 16, 2016.\\n\\nMatt McLarty is an experienced software architect who leads the API Academy at CA Technologies.\\n\\nNew Tech Forum provides a venue to explore and discuss emerging enterprise technology in unprecedented depth and breadth. The selection is subjective, based on our pick of the technologies we believe to be important and of greatest interest to InfoWorld readers. InfoWorld does not accept marketing collateral for publication and reserves the right to edit all contributed content. Send all inquiries to newtechforum@infoworld.com.',\n",
       "       'Truly innovative products solve meaningful problems. That doesn’t mean they require a screen. In some cases apps that necessitate tap after tap or click after click – experiences relegated to a screen – simply aren’t faster or easier than the solutions they’re replacing. We need to consider how our software can be experienced beyond, or even without, an interface. To help show us what a world of screen-less software could look like, Golden Krishna, author of the best-selling book The Best Interface is No Interface, joined me on our podcast. Golden’s a design strategist at Google, where he’s tasked with shaping the future of Android. He previously worked in R&D innovation labs at Samsung, where he helped design their first wearables, and later at Zappos, where he explored new lines of business ranging from checkout systems to Zappos Airlines. My chat with Golden covers the importance of context in great product design, who’s setting the bar for screenless innovation today, the emergence of voice UI and more. If you enjoy the conversation check out more episodes of our podcast. You can subscribe on iTunes or grab the RSS feed. What follows is a lightly edited transcript of the interview, but if you’re short on time, here are five key takeaways: When designing software it’s important to zoom out and look at the entire customer experience. When are they engaging with your product? Why? What are the triggers? What’s going on around them when they’re doing it? Embrace typical processes instead of screens. If the experience you’re creating takes people away from typical process, it might not be the most simple solution. The problem with conflating UX and UI design: it pushes designers to solve problems with screens, which isn’t always the best solution. One of the best ways for startups to consider screenless design options early in the product-building process? Hire a data scientist as soon as possible. Voice UI may very well be the next great tool, but the problem today, as Golden sees it, is that voice provides a command line experience in an environment where users have human-interaction-level expectations. Adam Risman: Golden, welcome to the show. Can you give us a quick feel for your career trajectory and how you got to where you are today? Golden Krishna: My design career really started when I went to art school at CalArts. I always thought of art and design as this flakey, abstract thing that didn’t really mean a lot but was fun to do. When I was in school, I realized the value and the power of design. It’s an incredibly intense program, actually. I have friends who went to law school or became doctors, but I feel like I slept less than they did. School is a time in which you can get a lot better really quickly, because people really care about your growth. After I graduated from CalArts, I started working at Cooper, which is a design consultancy in San Francisco, started by Alan Cooper. At the time, I reported to Nick Myers, who’s now the Director of UX at Fitbit. I also did some work with Doug LeMoine, who’s now at Apple. It’s a fascinating story of how Doug came to be at Cooper. He used to work at the San Jose Tech Museum, and Alan Cooper was asked to speak at a donor’s dinner. Alan was talking about doing user research in the software world back in 1992, so a long time before a lot of other people. I mean, companies like Ideo and Frog have been doing user research, but at that time, they were focused more on industrial design, and less on software. So at this dinner there are big companies in the room like Adobe, Microsoft, etc. They’re the big donors of the Tech Museum. Alan’s booting up his Power Point presentation, and it just completely crashes. Alan first asked, “Hey, is anybody here from Microsoft?” A couple people raised their hands. Alan then stood on top of the table, pointed at them and said, “You should be ashamed of yourselves!” He was screaming at them. A lot of people talk about fighting for the users. Alan literally fought for users. He was always pushing things at the company. It was an awesome place to be. Designers are often getting brought into big companies right away (out of school). The nice thing about agencies is you’re in a designer haven. You get a taste of so many different kinds of projects. I always enjoyed the projects where we worked with companies on big-picture thinking, the things we could do next, and after working at Cooper for a little over three years I got an opportunity to work on an innovation lab at Samsung. At that lab, we worked on new products and services that could launch in the next 18-24 months. That was fun. Samsung’s a crazy environment. Incredibly internally competitive, and obviously externally competitive, too. They’re the kind of company that throws everything on the wall and sees what sticks – with the wall being in the marketplace. It’s utterly fascinating to see how a hardware company like Samsung has the success they have today. I went from that crazy culture, to what I think was the best culture I’ve ever been a part of, Zappos. I worked at Zappos Labs, which is another innovation team. I have so many positive things to say about the culture at Zappos. It was a really incredible environment, I got to spend a lot of time with the CEO, Tony Hsieh. We had weekly 1:1s at a certain point, which was awesome. I spent a few years there. Now I’m at Google, and I’m working on a long-term, similar kind of team, but within the product of Android. Google is huge, so it’s nice being inside one particular product there. What is the future of Android? That is exactly what my job is today. What hardware can teach us about software design Adam: Samsung, Zappos and Google are all very different companies. How would you describe the design culture of each? And what have you taken from each of those as your career has progressed? Golden: Of all the cultures, I think Zappos is the best. Google culture is talked about a lot in positive ways, and I think it should be. But there are some things that happened really early on within Zappos. For example, the first interview that you have at Zappos is not a skills-based interview. I see this a lot when startups are recruiting and trying to find the best fits. They often fall back on things like, “Hey, show us your Dribble portfolio”, or all these nonsensical things that don’t actually amount to whether someone is going to be great. The very first interview at Zappos is about you as a person. They don’t even talk about your actual skillset. It’s, who are you? Why do you make the decisions that you make? When I was there we were looking for people who were easy to collaborate with. People who were optimistic and had a sense of problem solving, that would continue to go after things. We weren’t looking at their output right away. It was more about their character. And that first character interview is so rare. I’ve never heard of another company that does that. Only at Zappos did I feel like I wanted to get drinks with everyone in the room afterwards. No offense to any other colleagues I’ve had, many of whom are incredible. But at Zappos it was almost 100 percent of the room. I felt like, “Hey, let’s all continue to hang out, this is such a fun place to work.” Thinking about me personally, I’ve always been excited about roles and opportunities where I have the ability to run in this open field, and have this chance to push the company forward, as well as work on my personal mission, which is to push the whole field forward. There’s a lot of talk in design about getting the right craft, or getting the right process down. All those things are really important, but the thing that drives me is trying to find opportunities where I can really push the company and the whole field forward. Going around to these sort of corporate innovation labs has become my niche, because I’ve been kind of trying to find opportunities where I can really take big chances. Some of my work will never be seen, and some of my work will ship in a short amount of time, but it’s hard to say what’s going to happen. I just go after what I think is the best thing for our customers. Adam: As you said, some of your projects over the years have shipped, while some, like Zappos Airlines, were totally exploratory. Most of our listeners work in software. You’ve designed digital products, and you’ve designed physical products. When it comes to the work you’ve done on the latter, what problem solving techniques or lessons have you learned that can be applied back to software? When we design software, you just see mockups in rectangles. Golden: When you work on hardware, or on a general service experience, which is a lot of what we did at Zappos, there’s a big zoom out that happens. Let’s say we’re designing a new TV at Samsung. When you make sketches for it, you sketch the TV in the living room, and you show people watching it. You sketch it in the kitchen, and you show what that’s like in the kitchen. When we design software, especially because most software is on phones today, you just see mockups in rectangles. You forget about the entire environment in which someone’s using it. A lot of startups are going after some small segments of a potential user base. Maybe they’ll make some app that’s great for accountants. But they won’t draw the accountant’s workspace or their real workflow. They’ll just show what it’s like to go from screen to screen in an app. That’s really common to see in people’s portfolios, at presentations and in slide decks. It’s, “Here’s a screen, here’s a screen, here’s a screen, here’s a screen. What do you guys think?” That can be good, but it’s also really nice to zoom out and look at the entire customer experience. I can’t say too much about the Zappos Airlines thing, but that was an incredible project that I got to work on directly with the CEO as we explored that opportunity. We did a lot of customer journey maps. That’s not a new phrase, but it’s so rarely done on a day-to-day basis, where you really see how someone works through a flow. If it’s somebody that’s on their phone, when are they looking at their phone? Why? What are the triggers? What’s going on around them when they’re doing it? Is this the kind of thing they’re using when they’re on the train? Is this the kind of thing they’re using when they’re walking? These are very different kinds of things to think about. A lot of fitness applications where people wear the phone on their shoulder when they’re jogging or cycling, the buttons aren’t any different in size. The text isn’t any different in size, even though the distance between the person and the phone is different or they’re not trying to be as distracted. Those are huge things that we just completely leave out, that in the hardware world we see a lot of, because we draw out those whole scenes. Is the best interface no interface? Adam: You mentioned this idea of designing from screen to screen and drawing rectangles, which leads me to a book that you published two years ago, The Best Interface Is No Interface. When it comes to embracing the core philosophy of the book, how are product makers doing today? Are we still trapped in this world of screen-based thinking? How’s the landscape changed?\\n\\nGolden: One of the things I talked about when I first started writing this book was looking back to other huge kinds of changes. In the late 1970’s, there was this piece in The Economist about how the office is filled with paper, and we need to dream and live in a paperless world. That was considered crazy at the time, and it was. During the 1980’s the amount of paper used in the American office actually went up. So here was The Economist saying, “We’re going to live in a paperless world.” And the very next decade, we use more and more paper. But in today’s environment, there’s actually less and less, and starting around 2008, people began using less and less paper in the American office. Maybe we’ll eventually end up with this paperless world. In a similar fashion, we are inundated with screens today. The average American adult spends a little more than eight and a half hours looking at a screen. Teenagers, who are mostly in school, spend about seven and a half hours a day looking at a screen, which is crazy. Even children under the age of eight spend about two hours a day in the United States looking at a screen. That’s a lot of screen time for a lot of people. It’s good portion of our waking hours. The book is really about how do we go from this screen-filled world, to a screen-less world? Just like that Economist piece took decades to even start to be realized, although the technology industry moves a little quicker than the paper industry, it will be a good number of years. When I wrote the book, it was really hard to find examples, but since the book has been released, the number of examples that I’ve been able to find has just rapidly increased. I love to think that’s because the book is out there, but I also know and feel that this is a movement that is going on beyond just the things that I’m saying. Adam: Speaking of examples, who is embracing this type of thinking well? Golden: When I first started talking about this, I gave the example of this car key – an app versus a piece of hardware. BMW had released this app for your cars; Tesla has this giant screen in the center console of their car. People were trying to make car experiences better with screens. They thought they could improve on locking your car doors by making an app. Instead of taking people away from the typical process, bring them\\n\\nback in. Think about the actual experience, that whole journey. When someone is walking out of a store or their house, and they want to unlock their car doors, they first take their phone out of their pocket. They unlock their phone in some manner, whether it’s slide unlock or pin code. They swipe through a sea of icons trying to find that BMW app. They tap to launch the app. Then, in the BMW app, there’s a menu they have to look through, and they have to understand that one option is a remote.They tap the remote tab. Then inside that remote tab, there’s a slider that slides between lock and unlock. That’s not easier than going up and using a key. Alternatively, before we got obsessed with apps, Mercedes Benz worked on a project where you walk up to your car doors, and when you pull the car door handle, a radio signal gets sent out. If your keys are in your pocket or in your purse, the car doors just unlock. That technology has been licensed to a number of other car manufacturers today. It followed the first principle of the book, which is to embrace typical processes instead of screens. Instead of taking people away from the typical process, bring them back in. I’m seeing a number of startups start to follow some of these models. There’s a startup called Lockitron, which has a door unlocking app you put over the deadbolt of your apartment or your house. In their 1.0, you had an app and you had to take all these steps just to unlock your front door. Never easier than a key. Maybe more convenient because you can rent it out to another person, you can lend unlocking your front door, but that’s a different problem.\\n\\nImage credit: Golden Krishna. Download his latest slide deck here. In their 2.0 they answered, “What if we just cut out all these steps with screens?” They put a simple solution in place: Put a Bluetooth radio in the door lock, turn on Bluetooth with their app, you walk up to your front door, and if you’re within a foot, the door unlocks. Those are really simple, straightforward examples, but some people have been employing data science to do things that I think are far more advanced. For example, there’s this startup called Digit, which tries to help people save money. A lot of people in the United States, in the Western world in general, are pretty horrible at saving money. I think the majority of Americans don’t have savings past two months, so if they were to get fired, they only have money for about two months to hit their bills. Digit is trying to solve this problem.\\n\\nThis is far more advanced than keyless entry. We’re talking about financials, so you really can’t mess up here. When they plug into your checking account, they see the money that’s coming in and the money you’re spending on typical things. They look for little pockets, times in which they can move money from your checking account to your savings account. So when you spend a little bit less, they’re grabbing some money and moving it over. When they see opportunities to do a little bit more, be a little aggressive, they’ll do that. They’re behind the scenes moving some pennies over, and over time building up your savings account. That’s pretty neat. It’s a savings account that works without you ever having to interact with it. The financial examples are super fascinating because they show that this kind of thinking can be employed in higher risk situations, e.g. your money. There’s another startup called Even, which looks at the problem for freelancers and people who are hourly paid, who have inconsistent paychecks. Every two weeks, these people don’t quite know what they’re going to earn. If you’re freelancing, maybe you got a big project and get a lot of money from it, then you might have a down period before you do your next project. It’s hard to know your financial future. Even looks at money that’s coming in, and instead of you getting inconsistent paychecks, they just average it out and then give you an even paycheck every two weeks. You know exactly what’s going to happen. If you make a little less, they make up some of the difference. And if you make a little bit more, they save that to give back to you later.',\n",
       "       ...,\n",
       "       'You can’t pick a technical direction without considering the business implications. Mat Ellis, Founder/CEO of Cloudability, in a recent CloudCast episode, makes the business case for Serverless. The argument goes something like:\\r\\n\\r\\nEnterprises know they can’t run services cheaper than Amazon. Even if the cost is 2x the extra agility of the cloud is often worth the multiple.\\r\\n\\r\\nSo enterprises are moving to the cloud.\\r\\n\\r\\nMoving to the cloud is a move to services. How do you build services now? Using Serverless.\\r\\n\\r\\nWith services businesses use a familiar cost per unit billing model, they can think of paying for services as a cost per database query, cost per terabyte of data, and so on.\\r\\n\\r\\nSince employees are no longer managing boxes and infrastructure they can now focus entirely on business goals.\\r\\n\\r\\nThere’s now an opportunity to change business models. Serverless will make new businesses economically viable because they can do things they could never do before based on price and capabilities.\\r\\n\\r\\nServerless makes it faster to iterate and deploy new code which makes it faster to find a proper product/market fit.\\r\\n\\r\\nSmaller teams with smaller budgets with smaller revenues can do things now that only big companies could do before. Serverless attempts to industrialise developer impact.',\n",
       "       'Over the last few years, the importance of design in the tech industry has grown tremendously—with a greater appreciation for designers who know how to work within development constraints.\\n\\nAt Tendigi, we produce our best work when our designers and engineers work in a harmonious, cross-collaborative environment. We’d like to share 3 of the most powerful ways to make that happen at any organization.\\n\\nBe more pragmatic with decision-making\\n\\nYou need a solid understanding of what is feasible to build within the scope of your product. The best starting point is to digest your platform’s guidelines and standards (here you go: iOS, macOS, watchOS, material design, and web design).\\n\\nBe able to see how each component will be built from an engineer’s perspective. Start to learn a programming language. Don’t feel overwhelmed by the idea that you need to know how to build a product from scratch, but any amount of knowledge that comes from knowing how to code will help you make more informed design decisions and will also help you better communicate with engineers.\\n\\nDesign for the best user experience first, then add the whimsy and fun. Remember: Basic UX principles should guide your design from the beginning. There has to be a balance between the amount of effort required to build a feature and the benefit of the result.\\n\\nMake the engineer’s job as easy as possible\\n\\nProvide your engineers with clean, well-organized design files that have comps and layers plainly named. Cut assets yourself and name them appropriately for the given platform. I know—this isn’t the most fun job. But it ensures that what goes into the finished product is exactly what you want. It also takes the work away from your engineers, which means they can dedicate more time to building better features.\\n\\nMake sure your designs are consistent. Run audits over your work at different points in the design process. It’s better to check yourself a million times than to block an engineer from developing down the road because there are differences in the treatment of similar elements.\\n\\nMake annotated documents when necessary. You can create your own, or utilize one of many tools such as Notebook for Sketch. Living and static style guides can aid in the cohesion of development for your product. Keep in mind that some developers never look at the style guide and work straight off a comp, so make sure to communicate early in the process with your engineering team. Spend your time wisely and efficiently.\\n\\nPrototypes and interaction animations show engineers how something should work in the most straightforward way possible. If you rely on word-of-mouth to get your point across, you leave a lot of room for misinterpretation and increase chances of the final product misaligning with your vision.\\n\\nCommunicate constantly and respect the engineer’s opinions\\n\\nDon’t silo yourself (or the engineer) off by only talking when it’s time to hand off designs. When you work together from the beginning, you’re more powerful—and you’ll ultimately create a better product.\\n\\nIf you’re unsure about a feature’s design, how a transition will work, or the flow of a user’s interactions, consult with your engineering team. They have a wealth of knowledge and can approach your problem from an analytical, technical perspective. Don’t be shy to admit you need advice.\\n\\nThese 3 lessons boil down to empathy, organization, and communication. The key with all of these: Make sure you’re in control of the execution of the final product. You want your vision to be realized, right? So do everything you can to equip your engineers with the right materials and knowledge so they can execute your vision perfectly—and so you end up with a kickass product.\\n\\nThis post was originally published on Tendigi’s blog.',\n",
       "       'Seed Fundraising — How to Close the Lead Investor\\n\\nOne of the hardest parts of raising a seed round is finding the lead investor — a VC fund that will take at least ⅓ of your round. The problem gets even tougher as some investors want to wait for a lead before committing themselves. Here’s how to close the lead investor for your seed round:\\n\\nAllow Time to Build a Relationship\\n\\nWhy — Most VCs like to the know the founders of the company they’re investing in. This makes sense given it’s a potential 10 year commitment if the company does well. It’s very rare for a VC to invest in a startup they met within 2 weeks, even if those stories are frequently discussed in the press.\\n\\nWhat to do — Meet with 3 seed stage VCs at least 1 quarter before you’re planning to raise. Ask these VCs for feedback on the milestones your startup would need to hit for them to be interested. This starts your relationship with the VC before you need their money and you can use their feedback to help set your company’s goals.\\n\\nBackup Plan — If you have to meet a VC for the first time while you’re raising, you should budget at least 4 weeks for the process. During that month you’ll need to spend a lot of time with them to ensure you like working together.\\n\\nRaise from Others First\\n\\nWhy — If your round is filling up, there’s a chance the potential lead VC may miss out. Raise enough and you won’t need a lead at all. VCs love a company that doesn’t need money and are less interested in those who are desperate.\\n\\nWhat to do — In general, raise $100k-$250k, from smaller sources before trying to close your lead VC. You can encourage smaller investors to join the round early by highlighting the limited space available, e.g. you can say “We expect a lead investor will take the rest of the round”. Be sure to talk to all kinds of investors, crowdfunding and venture debt interest can drive VCs to commit.\\n\\nBackup Plan — If a smaller investor seems interested but won’t close, you can offer a slightly lower price for the first few yeses.\\n\\nVigilance in Diligence\\n\\nWhy — VC attention is limited, if they have to wait for an answer to their questions, they may find another deal that is moving faster. Often VCs lose interest because of partial responses, e.g. you sent the deck and projections but not your customer churn data. In addition, VCs love investing in founders who know their own business well, this is your chance to demonstrate that, while testing if you like working with the investor.\\n\\nWhat to do — Have common diligence items ready in advance such as: projections, hiring plans, contracts and demos. Once a VC is interested, ask what they specifically need to make their decision. Provide the responses within 24 hours and make any data’s conclusions explicit — don’t make them to hunt around for answers. Quick turnarounds on requests should be you and your team’s top priority.\\n\\nBackup Plan — If you genuinely don’t have enough time to provide timely responses, delegate the process to another team member. However, being outside the diligence process can be dangerous; in-person meetings can go badly if you don’t have a strong grasp of the numbers.'],\n",
       "      dtype=object)"
      ]
     },
     "execution_count": 18,
     "metadata": {},
     "output_type": "execute_result"
    }
   ],
   "source": [
    "train"
   ]
  },
  {
   "cell_type": "code",
   "execution_count": 19,
   "metadata": {},
   "outputs": [
    {
     "data": {
      "text/plain": [
       "array(['Engineering', 'Engineering', 'Product & Design', ...,\n",
       "       'Engineering', 'Product & Design', 'Startups & Business'],\n",
       "      dtype=object)"
      ]
     },
     "execution_count": 19,
     "metadata": {},
     "output_type": "execute_result"
    }
   ],
   "source": [
    "train_target_art"
   ]
  },
  {
   "cell_type": "code",
   "execution_count": 21,
   "metadata": {},
   "outputs": [],
   "source": [
    "test = test_data.pop('body').values\n",
    "test_target_art = test_data.pop('category').values"
   ]
  },
  {
   "cell_type": "code",
   "execution_count": 22,
   "metadata": {},
   "outputs": [],
   "source": [
    "art_dic = {'Engineering':0, 'Product & Design':1,'Startups & Business':2}\n",
    "train_target_art = train_data.pop('category').values\n",
    "train_target = [art_dic[article]for article in train_target_art]\n",
    "test_target = [art_dic[article]for article in test_target_art]"
   ]
  },
  {
   "cell_type": "code",
   "execution_count": 23,
   "metadata": {},
   "outputs": [
    {
     "data": {
      "text/plain": [
       "(1990, 13702)"
      ]
     },
     "execution_count": 23,
     "metadata": {},
     "output_type": "execute_result"
    }
   ],
   "source": [
    "from sklearn.feature_extraction.text import CountVectorizer\n",
    "count_vect = CountVectorizer(stop_words = 'english', min_df=5)\n",
    "x_train_counts = count_vect.fit_transform(train)\n",
    "x_train_counts.shape"
   ]
  },
  {
   "cell_type": "code",
   "execution_count": 24,
   "metadata": {},
   "outputs": [
    {
     "data": {
      "text/plain": [
       "(1990, 13702)"
      ]
     },
     "execution_count": 24,
     "metadata": {},
     "output_type": "execute_result"
    }
   ],
   "source": [
    "from sklearn.feature_extraction.text import TfidfTransformer\n",
    "tfidf_transformer = TfidfTransformer()\n",
    "x_train_tfidf = tfidf_transformer.fit_transform(x_train_counts)\n",
    "x_train_tfidf.shape"
   ]
  },
  {
   "cell_type": "code",
   "execution_count": 25,
   "metadata": {},
   "outputs": [],
   "source": [
    "from sklearn.naive_bayes import MultinomialNB\n",
    "model = MultinomialNB().fit(x_train_tfidf, train_target)"
   ]
  },
  {
   "cell_type": "code",
   "execution_count": 28,
   "metadata": {},
   "outputs": [],
   "source": [
    "from sklearn.pipeline import Pipeline\n",
    "text_model_nb = Pipeline([('vect', CountVectorizer()),('tfidf',TfidfTransformer()),('class_nb',MultinomialNB())])"
   ]
  },
  {
   "cell_type": "code",
   "execution_count": 29,
   "metadata": {},
   "outputs": [],
   "source": [
    "trained_model = text_model_nb.fit(train, train_target)"
   ]
  },
  {
   "cell_type": "code",
   "execution_count": 30,
   "metadata": {},
   "outputs": [],
   "source": [
    "predic_nb = text_model_nb.predict(test)"
   ]
  },
  {
   "cell_type": "code",
   "execution_count": 31,
   "metadata": {},
   "outputs": [
    {
     "data": {
      "text/plain": [
       "0.5362068965517242"
      ]
     },
     "execution_count": 31,
     "metadata": {},
     "output_type": "execute_result"
    }
   ],
   "source": [
    "np.mean(predic_nb == test_target)"
   ]
  },
  {
   "cell_type": "code",
   "execution_count": 44,
   "metadata": {},
   "outputs": [],
   "source": [
    "from sklearn.svm import LinearSVC\n",
    "from sklearn.pipeline import Pipeline\n",
    "text_model_svm = Pipeline([('vect', CountVectorizer()),('tfidf',TfidfTransformer()),('class_svm',LinearSVC())])"
   ]
  },
  {
   "cell_type": "code",
   "execution_count": 45,
   "metadata": {},
   "outputs": [],
   "source": [
    "trained_model = text_model_svm.fit(train, train_target)"
   ]
  },
  {
   "cell_type": "code",
   "execution_count": 46,
   "metadata": {},
   "outputs": [
    {
     "name": "stdout",
     "output_type": "stream",
     "text": [
      "[0]\n"
     ]
    }
   ],
   "source": [
    "trained_model = text_model_svm.fit(train, train_target)\n",
    "predic_svm =  text_model_svm.predict(test)\n",
    "test_1 = ['Performance & Usage at Instagram']\n",
    "red_svm = text_model_svm.predict(test_1)\n",
    "print(red_svm)"
   ]
  },
  {
   "cell_type": "code",
   "execution_count": 48,
   "metadata": {},
   "outputs": [
    {
     "data": {
      "text/plain": [
       "0.8758620689655172"
      ]
     },
     "execution_count": 48,
     "metadata": {},
     "output_type": "execute_result"
    }
   ],
   "source": [
    "np.mean(predic_svm == test_target)"
   ]
  },
  {
   "cell_type": "code",
   "execution_count": null,
   "metadata": {},
   "outputs": [],
   "source": []
  }
 ],
 "metadata": {
  "kernelspec": {
   "display_name": "Python 3",
   "language": "python",
   "name": "python3"
  },
  "language_info": {
   "codemirror_mode": {
    "name": "ipython",
    "version": 3
   },
   "file_extension": ".py",
   "mimetype": "text/x-python",
   "name": "python",
   "nbconvert_exporter": "python",
   "pygments_lexer": "ipython3",
   "version": "3.7.6"
  }
 },
 "nbformat": 4,
 "nbformat_minor": 4
}
