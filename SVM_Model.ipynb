{
 "cells": [
  {
   "cell_type": "code",
   "execution_count": 252,
   "metadata": {},
   "outputs": [],
   "source": [
    "import pandas as pd \n",
    "import numpy as np \n",
    "import matplotlib.pyplot as plt\n",
    "import seaborn as sns \n",
    "import sklearn"
   ]
  },
  {
   "cell_type": "code",
   "execution_count": 253,
   "metadata": {},
   "outputs": [],
   "source": [
    "data = pd.read_json('articles.json')"
   ]
  },
  {
   "cell_type": "code",
   "execution_count": 254,
   "metadata": {},
   "outputs": [
    {
     "data": {
      "text/html": [
       "<div>\n",
       "<style scoped>\n",
       "    .dataframe tbody tr th:only-of-type {\n",
       "        vertical-align: middle;\n",
       "    }\n",
       "\n",
       "    .dataframe tbody tr th {\n",
       "        vertical-align: top;\n",
       "    }\n",
       "\n",
       "    .dataframe thead th {\n",
       "        text-align: right;\n",
       "    }\n",
       "</style>\n",
       "<table border=\"1\" class=\"dataframe\">\n",
       "  <thead>\n",
       "    <tr style=\"text-align: right;\">\n",
       "      <th></th>\n",
       "      <th>body</th>\n",
       "      <th>title</th>\n",
       "      <th>category</th>\n",
       "    </tr>\n",
       "  </thead>\n",
       "  <tbody>\n",
       "    <tr>\n",
       "      <th>0</th>\n",
       "      <td>Protecting Netflix Viewing Privacy at Scale\\r\\...</td>\n",
       "      <td>Protecting Netflix Viewing Privacy at Scale</td>\n",
       "      <td>Engineering</td>\n",
       "    </tr>\n",
       "    <tr>\n",
       "      <th>1</th>\n",
       "      <td>Introducing Winston — Event driven Diagnostic ...</td>\n",
       "      <td>Introducing Winston - Event driven Diagnostic ...</td>\n",
       "      <td>Engineering</td>\n",
       "    </tr>\n",
       "    <tr>\n",
       "      <th>2</th>\n",
       "      <td>Performance &amp; Usage at Instagram\\r\\n\\r\\nAt Ins...</td>\n",
       "      <td>Performance &amp; Usage at Instagram</td>\n",
       "      <td>Engineering</td>\n",
       "    </tr>\n",
       "    <tr>\n",
       "      <th>3</th>\n",
       "      <td>The simple example of calculating and formatti...</td>\n",
       "      <td>Refactoring a javascript video store</td>\n",
       "      <td>Engineering</td>\n",
       "    </tr>\n",
       "    <tr>\n",
       "      <th>4</th>\n",
       "      <td>Billing applications have transactions that ne...</td>\n",
       "      <td>Netflix Billing Migration to AWS - Part III</td>\n",
       "      <td>Engineering</td>\n",
       "    </tr>\n",
       "    <tr>\n",
       "      <th>5</th>\n",
       "      <td>Distributed Resource Scheduling with Apache Me...</td>\n",
       "      <td>Distributed Resource Scheduling with Apache Mesos</td>\n",
       "      <td>Engineering</td>\n",
       "    </tr>\n",
       "    <tr>\n",
       "      <th>6</th>\n",
       "      <td>Global Languages Support at Netflix\\r\\n\\r\\nTes...</td>\n",
       "      <td>Global Languages Support at Netflix - Testing ...</td>\n",
       "      <td>Engineering</td>\n",
       "    </tr>\n",
       "    <tr>\n",
       "      <th>7</th>\n",
       "      <td>Ok, this one might be a little different from ...</td>\n",
       "      <td>How Barriers to Entry Confused Me Terribly, an...</td>\n",
       "      <td>Startups &amp; Business</td>\n",
       "    </tr>\n",
       "    <tr>\n",
       "      <th>8</th>\n",
       "      <td>This article is by Andy Smith, author, entrepr...</td>\n",
       "      <td>The Ancient Origins of Storytelling and How Yo...</td>\n",
       "      <td>Startups &amp; Business</td>\n",
       "    </tr>\n",
       "    <tr>\n",
       "      <th>9</th>\n",
       "      <td>Somewhere along the continuum of the art versu...</td>\n",
       "      <td>How To Choose The Right Business Ideas</td>\n",
       "      <td>Startups &amp; Business</td>\n",
       "    </tr>\n",
       "    <tr>\n",
       "      <th>10</th>\n",
       "      <td>Company Culture is an annoying subject to rese...</td>\n",
       "      <td>Most Company Culture Posts are Fluffy Bullshit...</td>\n",
       "      <td>Startups &amp; Business</td>\n",
       "    </tr>\n",
       "    <tr>\n",
       "      <th>11</th>\n",
       "      <td>Great businesses don’t have to be big — and bi...</td>\n",
       "      <td>Why Value Capture is the Most Important Busine...</td>\n",
       "      <td>Startups &amp; Business</td>\n",
       "    </tr>\n",
       "    <tr>\n",
       "      <th>12</th>\n",
       "      <td>Value Creation\\r\\n\\r\\nBusiness begins with val...</td>\n",
       "      <td>Why Value Creation is the Foundation of Busine...</td>\n",
       "      <td>Startups &amp; Business</td>\n",
       "    </tr>\n",
       "    <tr>\n",
       "      <th>13</th>\n",
       "      <td>Strategic Alliances\\r\\n\\r\\nIn the quest to bui...</td>\n",
       "      <td>How to Think About All Strategic Alliances — T...</td>\n",
       "      <td>Startups &amp; Business</td>\n",
       "    </tr>\n",
       "    <tr>\n",
       "      <th>14</th>\n",
       "      <td>Eight common dysfunctions of design teams (and...</td>\n",
       "      <td>Eight common dysfunctions of design teams (and...</td>\n",
       "      <td>Startups &amp; Business</td>\n",
       "    </tr>\n",
       "    <tr>\n",
       "      <th>15</th>\n",
       "      <td>Please Make Yourself Uncomfortable\\r\\n\\r\\nBy K...</td>\n",
       "      <td>Please Make Yourself Uncomfortable</td>\n",
       "      <td>Startups &amp; Business</td>\n",
       "    </tr>\n",
       "    <tr>\n",
       "      <th>16</th>\n",
       "      <td>After a full day of understanding the problem ...</td>\n",
       "      <td>Sprint: Friday</td>\n",
       "      <td>Startups &amp; Business</td>\n",
       "    </tr>\n",
       "    <tr>\n",
       "      <th>17</th>\n",
       "      <td>Sprint: Wednesday\\r\\n\\r\\nBy Wednesday morning ...</td>\n",
       "      <td>Sprint: Thursday</td>\n",
       "      <td>Startups &amp; Business</td>\n",
       "    </tr>\n",
       "    <tr>\n",
       "      <th>18</th>\n",
       "      <td>When I meet readers they like to ask “What is ...</td>\n",
       "      <td>The Misunderstood, Underestimated, and Neglect...</td>\n",
       "      <td>Startups &amp; Business</td>\n",
       "    </tr>\n",
       "    <tr>\n",
       "      <th>19</th>\n",
       "      <td>Product Management from First Principles\\r\\n\\r...</td>\n",
       "      <td>Startup to Scaleup: What We're Changing As We ...</td>\n",
       "      <td>Startups &amp; Business</td>\n",
       "    </tr>\n",
       "  </tbody>\n",
       "</table>\n",
       "</div>"
      ],
      "text/plain": [
       "                                                 body  \\\n",
       "0   Protecting Netflix Viewing Privacy at Scale\\r\\...   \n",
       "1   Introducing Winston — Event driven Diagnostic ...   \n",
       "2   Performance & Usage at Instagram\\r\\n\\r\\nAt Ins...   \n",
       "3   The simple example of calculating and formatti...   \n",
       "4   Billing applications have transactions that ne...   \n",
       "5   Distributed Resource Scheduling with Apache Me...   \n",
       "6   Global Languages Support at Netflix\\r\\n\\r\\nTes...   \n",
       "7   Ok, this one might be a little different from ...   \n",
       "8   This article is by Andy Smith, author, entrepr...   \n",
       "9   Somewhere along the continuum of the art versu...   \n",
       "10  Company Culture is an annoying subject to rese...   \n",
       "11  Great businesses don’t have to be big — and bi...   \n",
       "12  Value Creation\\r\\n\\r\\nBusiness begins with val...   \n",
       "13  Strategic Alliances\\r\\n\\r\\nIn the quest to bui...   \n",
       "14  Eight common dysfunctions of design teams (and...   \n",
       "15  Please Make Yourself Uncomfortable\\r\\n\\r\\nBy K...   \n",
       "16  After a full day of understanding the problem ...   \n",
       "17  Sprint: Wednesday\\r\\n\\r\\nBy Wednesday morning ...   \n",
       "18  When I meet readers they like to ask “What is ...   \n",
       "19  Product Management from First Principles\\r\\n\\r...   \n",
       "\n",
       "                                                title             category  \n",
       "0         Protecting Netflix Viewing Privacy at Scale          Engineering  \n",
       "1   Introducing Winston - Event driven Diagnostic ...          Engineering  \n",
       "2                    Performance & Usage at Instagram          Engineering  \n",
       "3                Refactoring a javascript video store          Engineering  \n",
       "4         Netflix Billing Migration to AWS - Part III          Engineering  \n",
       "5   Distributed Resource Scheduling with Apache Mesos          Engineering  \n",
       "6   Global Languages Support at Netflix - Testing ...          Engineering  \n",
       "7   How Barriers to Entry Confused Me Terribly, an...  Startups & Business  \n",
       "8   The Ancient Origins of Storytelling and How Yo...  Startups & Business  \n",
       "9              How To Choose The Right Business Ideas  Startups & Business  \n",
       "10  Most Company Culture Posts are Fluffy Bullshit...  Startups & Business  \n",
       "11  Why Value Capture is the Most Important Busine...  Startups & Business  \n",
       "12  Why Value Creation is the Foundation of Busine...  Startups & Business  \n",
       "13  How to Think About All Strategic Alliances — T...  Startups & Business  \n",
       "14  Eight common dysfunctions of design teams (and...  Startups & Business  \n",
       "15                 Please Make Yourself Uncomfortable  Startups & Business  \n",
       "16                                     Sprint: Friday  Startups & Business  \n",
       "17                                   Sprint: Thursday  Startups & Business  \n",
       "18  The Misunderstood, Underestimated, and Neglect...  Startups & Business  \n",
       "19  Startup to Scaleup: What We're Changing As We ...  Startups & Business  "
      ]
     },
     "execution_count": 254,
     "metadata": {},
     "output_type": "execute_result"
    }
   ],
   "source": [
    "data.head(20)"
   ]
  },
  {
   "cell_type": "code",
   "execution_count": 255,
   "metadata": {},
   "outputs": [
    {
     "data": {
      "text/plain": [
       "(2481, 3)"
      ]
     },
     "execution_count": 255,
     "metadata": {},
     "output_type": "execute_result"
    }
   ],
   "source": [
    "data.shape"
   ]
  },
  {
   "cell_type": "code",
   "execution_count": 256,
   "metadata": {},
   "outputs": [
    {
     "name": "stdout",
     "output_type": "stream",
     "text": [
      "<class 'pandas.core.frame.DataFrame'>\n",
      "RangeIndex: 2481 entries, 0 to 2480\n",
      "Data columns (total 3 columns):\n",
      " #   Column    Non-Null Count  Dtype \n",
      "---  ------    --------------  ----- \n",
      " 0   body      2481 non-null   object\n",
      " 1   title     2481 non-null   object\n",
      " 2   category  2481 non-null   object\n",
      "dtypes: object(3)\n",
      "memory usage: 58.3+ KB\n"
     ]
    }
   ],
   "source": [
    "data.info()"
   ]
  },
  {
   "cell_type": "code",
   "execution_count": 257,
   "metadata": {},
   "outputs": [],
   "source": [
    "articles = data.sample(frac=1).reset_index(drop = True)"
   ]
  },
  {
   "cell_type": "code",
   "execution_count": 258,
   "metadata": {},
   "outputs": [
    {
     "data": {
      "text/html": [
       "<div>\n",
       "<style scoped>\n",
       "    .dataframe tbody tr th:only-of-type {\n",
       "        vertical-align: middle;\n",
       "    }\n",
       "\n",
       "    .dataframe tbody tr th {\n",
       "        vertical-align: top;\n",
       "    }\n",
       "\n",
       "    .dataframe thead th {\n",
       "        text-align: right;\n",
       "    }\n",
       "</style>\n",
       "<table border=\"1\" class=\"dataframe\">\n",
       "  <thead>\n",
       "    <tr style=\"text-align: right;\">\n",
       "      <th></th>\n",
       "      <th>body</th>\n",
       "      <th>title</th>\n",
       "      <th>category</th>\n",
       "    </tr>\n",
       "  </thead>\n",
       "  <tbody>\n",
       "    <tr>\n",
       "      <th>0</th>\n",
       "      <td></td>\n",
       "      <td>How to implement a Customer Success strategy? ...</td>\n",
       "      <td>Startups &amp; Business</td>\n",
       "    </tr>\n",
       "    <tr>\n",
       "      <th>1</th>\n",
       "      <td>Funding the quest to take AI to mythical propo...</td>\n",
       "      <td>Funding the quest to take AI to mythical propo...</td>\n",
       "      <td>Startups &amp; Business</td>\n",
       "    </tr>\n",
       "    <tr>\n",
       "      <th>2</th>\n",
       "      <td>At New Haircut, we recently did a design sprin...</td>\n",
       "      <td>Getting into Design Sprints – an AMA Interview</td>\n",
       "      <td>Product &amp; Design</td>\n",
       "    </tr>\n",
       "    <tr>\n",
       "      <th>3</th>\n",
       "      <td>Why Continuous Delivery and DevOps are Product...</td>\n",
       "      <td>Why Continuous Delivery and DevOps are Product...</td>\n",
       "      <td>Product &amp; Design</td>\n",
       "    </tr>\n",
       "    <tr>\n",
       "      <th>4</th>\n",
       "      <td>Neural Networks\\n\\nA neural network is a compu...</td>\n",
       "      <td>Big Picture Machine Learning: Classifying Text...</td>\n",
       "      <td>Engineering</td>\n",
       "    </tr>\n",
       "    <tr>\n",
       "      <th>5</th>\n",
       "      <td>Learning when to skim and when to read\\n\\nThe ...</td>\n",
       "      <td>Learning when to skim and when to read</td>\n",
       "      <td>Engineering</td>\n",
       "    </tr>\n",
       "    <tr>\n",
       "      <th>6</th>\n",
       "      <td>We have recently seen a number of corporations...</td>\n",
       "      <td>Lessons from Companies That Put Purpose Ahead ...</td>\n",
       "      <td>Startups &amp; Business</td>\n",
       "    </tr>\n",
       "    <tr>\n",
       "      <th>7</th>\n",
       "      <td>Scrolling is one of the oldest interactions on...</td>\n",
       "      <td>Scrolling on the web: A primer</td>\n",
       "      <td>Engineering</td>\n",
       "    </tr>\n",
       "    <tr>\n",
       "      <th>8</th>\n",
       "      <td>The Wishpond growth team is made up of a bunch...</td>\n",
       "      <td>How We Drive Massive Growth by Running Calcula...</td>\n",
       "      <td>Startups &amp; Business</td>\n",
       "    </tr>\n",
       "    <tr>\n",
       "      <th>9</th>\n",
       "      <td>At New Haircut, we’ve had the opportunity to l...</td>\n",
       "      <td>Frequently asked questions about design sprints</td>\n",
       "      <td>Product &amp; Design</td>\n",
       "    </tr>\n",
       "  </tbody>\n",
       "</table>\n",
       "</div>"
      ],
      "text/plain": [
       "                                                body  \\\n",
       "0                                                      \n",
       "1  Funding the quest to take AI to mythical propo...   \n",
       "2  At New Haircut, we recently did a design sprin...   \n",
       "3  Why Continuous Delivery and DevOps are Product...   \n",
       "4  Neural Networks\\n\\nA neural network is a compu...   \n",
       "5  Learning when to skim and when to read\\n\\nThe ...   \n",
       "6  We have recently seen a number of corporations...   \n",
       "7  Scrolling is one of the oldest interactions on...   \n",
       "8  The Wishpond growth team is made up of a bunch...   \n",
       "9  At New Haircut, we’ve had the opportunity to l...   \n",
       "\n",
       "                                               title             category  \n",
       "0  How to implement a Customer Success strategy? ...  Startups & Business  \n",
       "1  Funding the quest to take AI to mythical propo...  Startups & Business  \n",
       "2     Getting into Design Sprints – an AMA Interview     Product & Design  \n",
       "3  Why Continuous Delivery and DevOps are Product...     Product & Design  \n",
       "4  Big Picture Machine Learning: Classifying Text...          Engineering  \n",
       "5             Learning when to skim and when to read          Engineering  \n",
       "6  Lessons from Companies That Put Purpose Ahead ...  Startups & Business  \n",
       "7                     Scrolling on the web: A primer          Engineering  \n",
       "8  How We Drive Massive Growth by Running Calcula...  Startups & Business  \n",
       "9    Frequently asked questions about design sprints     Product & Design  "
      ]
     },
     "execution_count": 258,
     "metadata": {},
     "output_type": "execute_result"
    }
   ],
   "source": [
    "articles.head(10)"
   ]
  },
  {
   "cell_type": "code",
   "execution_count": 259,
   "metadata": {},
   "outputs": [],
   "source": [
    "train_data = articles.iloc[:1990,:]\n",
    "test_data = articles.iloc[1901:,:]"
   ]
  },
  {
   "cell_type": "code",
   "execution_count": 260,
   "metadata": {},
   "outputs": [
    {
     "data": {
      "text/html": [
       "<div>\n",
       "<style scoped>\n",
       "    .dataframe tbody tr th:only-of-type {\n",
       "        vertical-align: middle;\n",
       "    }\n",
       "\n",
       "    .dataframe tbody tr th {\n",
       "        vertical-align: top;\n",
       "    }\n",
       "\n",
       "    .dataframe thead th {\n",
       "        text-align: right;\n",
       "    }\n",
       "</style>\n",
       "<table border=\"1\" class=\"dataframe\">\n",
       "  <thead>\n",
       "    <tr style=\"text-align: right;\">\n",
       "      <th></th>\n",
       "      <th>body</th>\n",
       "      <th>title</th>\n",
       "      <th>category</th>\n",
       "    </tr>\n",
       "  </thead>\n",
       "  <tbody>\n",
       "    <tr>\n",
       "      <th>0</th>\n",
       "      <td></td>\n",
       "      <td>How to implement a Customer Success strategy? ...</td>\n",
       "      <td>Startups &amp; Business</td>\n",
       "    </tr>\n",
       "    <tr>\n",
       "      <th>1</th>\n",
       "      <td>Funding the quest to take AI to mythical propo...</td>\n",
       "      <td>Funding the quest to take AI to mythical propo...</td>\n",
       "      <td>Startups &amp; Business</td>\n",
       "    </tr>\n",
       "    <tr>\n",
       "      <th>2</th>\n",
       "      <td>At New Haircut, we recently did a design sprin...</td>\n",
       "      <td>Getting into Design Sprints – an AMA Interview</td>\n",
       "      <td>Product &amp; Design</td>\n",
       "    </tr>\n",
       "    <tr>\n",
       "      <th>3</th>\n",
       "      <td>Why Continuous Delivery and DevOps are Product...</td>\n",
       "      <td>Why Continuous Delivery and DevOps are Product...</td>\n",
       "      <td>Product &amp; Design</td>\n",
       "    </tr>\n",
       "    <tr>\n",
       "      <th>4</th>\n",
       "      <td>Neural Networks\\n\\nA neural network is a compu...</td>\n",
       "      <td>Big Picture Machine Learning: Classifying Text...</td>\n",
       "      <td>Engineering</td>\n",
       "    </tr>\n",
       "    <tr>\n",
       "      <th>...</th>\n",
       "      <td>...</td>\n",
       "      <td>...</td>\n",
       "      <td>...</td>\n",
       "    </tr>\n",
       "    <tr>\n",
       "      <th>1985</th>\n",
       "      <td>Ooshma Garg, founder of Gobble (W14), at Start...</td>\n",
       "      <td>Ooshma Garg on How She's Growing Gobble to $10...</td>\n",
       "      <td>Startups &amp; Business</td>\n",
       "    </tr>\n",
       "    <tr>\n",
       "      <th>1986</th>\n",
       "      <td>Statistics is a useful tool for understanding ...</td>\n",
       "      <td>The seven deadly sins of statistical misinterp...</td>\n",
       "      <td>Engineering</td>\n",
       "    </tr>\n",
       "    <tr>\n",
       "      <th>1987</th>\n",
       "      <td>What I Learned Spending $3 Million on Facebook...</td>\n",
       "      <td>What I Learned Spending $3 Million on Facebook...</td>\n",
       "      <td>Startups &amp; Business</td>\n",
       "    </tr>\n",
       "    <tr>\n",
       "      <th>1988</th>\n",
       "      <td>“I have got an idea!” 😃 😉\\n\\nThat’s the founda...</td>\n",
       "      <td>The two most important questions when scoping ...</td>\n",
       "      <td>Product &amp; Design</td>\n",
       "    </tr>\n",
       "    <tr>\n",
       "      <th>1989</th>\n",
       "      <td>Start at the End: How to Do Research That Has ...</td>\n",
       "      <td>Start at the End: How to Do Research That Has ...</td>\n",
       "      <td>Startups &amp; Business</td>\n",
       "    </tr>\n",
       "  </tbody>\n",
       "</table>\n",
       "<p>1990 rows × 3 columns</p>\n",
       "</div>"
      ],
      "text/plain": [
       "                                                   body  \\\n",
       "0                                                         \n",
       "1     Funding the quest to take AI to mythical propo...   \n",
       "2     At New Haircut, we recently did a design sprin...   \n",
       "3     Why Continuous Delivery and DevOps are Product...   \n",
       "4     Neural Networks\\n\\nA neural network is a compu...   \n",
       "...                                                 ...   \n",
       "1985  Ooshma Garg, founder of Gobble (W14), at Start...   \n",
       "1986  Statistics is a useful tool for understanding ...   \n",
       "1987  What I Learned Spending $3 Million on Facebook...   \n",
       "1988  “I have got an idea!” 😃 😉\\n\\nThat’s the founda...   \n",
       "1989  Start at the End: How to Do Research That Has ...   \n",
       "\n",
       "                                                  title             category  \n",
       "0     How to implement a Customer Success strategy? ...  Startups & Business  \n",
       "1     Funding the quest to take AI to mythical propo...  Startups & Business  \n",
       "2        Getting into Design Sprints – an AMA Interview     Product & Design  \n",
       "3     Why Continuous Delivery and DevOps are Product...     Product & Design  \n",
       "4     Big Picture Machine Learning: Classifying Text...          Engineering  \n",
       "...                                                 ...                  ...  \n",
       "1985  Ooshma Garg on How She's Growing Gobble to $10...  Startups & Business  \n",
       "1986  The seven deadly sins of statistical misinterp...          Engineering  \n",
       "1987  What I Learned Spending $3 Million on Facebook...  Startups & Business  \n",
       "1988  The two most important questions when scoping ...     Product & Design  \n",
       "1989  Start at the End: How to Do Research That Has ...  Startups & Business  \n",
       "\n",
       "[1990 rows x 3 columns]"
      ]
     },
     "execution_count": 260,
     "metadata": {},
     "output_type": "execute_result"
    }
   ],
   "source": [
    "train_data"
   ]
  },
  {
   "cell_type": "code",
   "execution_count": 261,
   "metadata": {},
   "outputs": [
    {
     "data": {
      "text/html": [
       "<div>\n",
       "<style scoped>\n",
       "    .dataframe tbody tr th:only-of-type {\n",
       "        vertical-align: middle;\n",
       "    }\n",
       "\n",
       "    .dataframe tbody tr th {\n",
       "        vertical-align: top;\n",
       "    }\n",
       "\n",
       "    .dataframe thead th {\n",
       "        text-align: right;\n",
       "    }\n",
       "</style>\n",
       "<table border=\"1\" class=\"dataframe\">\n",
       "  <thead>\n",
       "    <tr style=\"text-align: right;\">\n",
       "      <th></th>\n",
       "      <th>body</th>\n",
       "      <th>title</th>\n",
       "      <th>category</th>\n",
       "    </tr>\n",
       "  </thead>\n",
       "  <tbody>\n",
       "    <tr>\n",
       "      <th>1901</th>\n",
       "      <td>GitHub announced a public API one month after ...</td>\n",
       "      <td>The GitHub GraphQL API</td>\n",
       "      <td>Engineering</td>\n",
       "    </tr>\n",
       "    <tr>\n",
       "      <th>1902</th>\n",
       "      <td>10/4/2017: Because it’s Because it’s #MentalHe...</td>\n",
       "      <td>Freelancing with depression</td>\n",
       "      <td>Startups &amp; Business</td>\n",
       "    </tr>\n",
       "    <tr>\n",
       "      <th>1903</th>\n",
       "      <td>Getting started: the 3 stages of data infrastr...</td>\n",
       "      <td>Getting started: the 3 stages of data infrastr...</td>\n",
       "      <td>Engineering</td>\n",
       "    </tr>\n",
       "    <tr>\n",
       "      <th>1904</th>\n",
       "      <td>It’s increasingly understood that design infor...</td>\n",
       "      <td>Designers and developers collaborate better wi...</td>\n",
       "      <td>Product &amp; Design</td>\n",
       "    </tr>\n",
       "    <tr>\n",
       "      <th>1905</th>\n",
       "      <td>Within five years, 80% of adults will own a sm...</td>\n",
       "      <td>The ethics of digital design | Design Council</td>\n",
       "      <td>Product &amp; Design</td>\n",
       "    </tr>\n",
       "    <tr>\n",
       "      <th>...</th>\n",
       "      <td>...</td>\n",
       "      <td>...</td>\n",
       "      <td>...</td>\n",
       "    </tr>\n",
       "    <tr>\n",
       "      <th>2476</th>\n",
       "      <td>On her first day at the U.S. Digital Service, ...</td>\n",
       "      <td>What Obama’s Tech Startup Has to Teach About A...</td>\n",
       "      <td>Startups &amp; Business</td>\n",
       "    </tr>\n",
       "    <tr>\n",
       "      <th>2477</th>\n",
       "      <td>7 Problems Growing Design Teams Face\\n\\nDesign...</td>\n",
       "      <td>7 Problems Growing Design Teams Face – Leading...</td>\n",
       "      <td>Product &amp; Design</td>\n",
       "    </tr>\n",
       "    <tr>\n",
       "      <th>2478</th>\n",
       "      <td>This is a guest post by Zoran Orak, a renowned...</td>\n",
       "      <td>How to Get Your Emails Delivered to the Gmail ...</td>\n",
       "      <td>Startups &amp; Business</td>\n",
       "    </tr>\n",
       "    <tr>\n",
       "      <th>2479</th>\n",
       "      <td>If you want to understand how someone thinks y...</td>\n",
       "      <td>Understanding your users’ mental model</td>\n",
       "      <td>Product &amp; Design</td>\n",
       "    </tr>\n",
       "    <tr>\n",
       "      <th>2480</th>\n",
       "      <td>Elixir is a hot and trendy topic nowadays. Of ...</td>\n",
       "      <td>Elixir in depth - reading and personal notes</td>\n",
       "      <td>Engineering</td>\n",
       "    </tr>\n",
       "  </tbody>\n",
       "</table>\n",
       "<p>580 rows × 3 columns</p>\n",
       "</div>"
      ],
      "text/plain": [
       "                                                   body  \\\n",
       "1901  GitHub announced a public API one month after ...   \n",
       "1902  10/4/2017: Because it’s Because it’s #MentalHe...   \n",
       "1903  Getting started: the 3 stages of data infrastr...   \n",
       "1904  It’s increasingly understood that design infor...   \n",
       "1905  Within five years, 80% of adults will own a sm...   \n",
       "...                                                 ...   \n",
       "2476  On her first day at the U.S. Digital Service, ...   \n",
       "2477  7 Problems Growing Design Teams Face\\n\\nDesign...   \n",
       "2478  This is a guest post by Zoran Orak, a renowned...   \n",
       "2479  If you want to understand how someone thinks y...   \n",
       "2480  Elixir is a hot and trendy topic nowadays. Of ...   \n",
       "\n",
       "                                                  title             category  \n",
       "1901                             The GitHub GraphQL API          Engineering  \n",
       "1902                        Freelancing with depression  Startups & Business  \n",
       "1903  Getting started: the 3 stages of data infrastr...          Engineering  \n",
       "1904  Designers and developers collaborate better wi...     Product & Design  \n",
       "1905      The ethics of digital design | Design Council     Product & Design  \n",
       "...                                                 ...                  ...  \n",
       "2476  What Obama’s Tech Startup Has to Teach About A...  Startups & Business  \n",
       "2477  7 Problems Growing Design Teams Face – Leading...     Product & Design  \n",
       "2478  How to Get Your Emails Delivered to the Gmail ...  Startups & Business  \n",
       "2479             Understanding your users’ mental model     Product & Design  \n",
       "2480       Elixir in depth - reading and personal notes          Engineering  \n",
       "\n",
       "[580 rows x 3 columns]"
      ]
     },
     "execution_count": 261,
     "metadata": {},
     "output_type": "execute_result"
    }
   ],
   "source": [
    "test_data"
   ]
  },
  {
   "cell_type": "code",
   "execution_count": 262,
   "metadata": {},
   "outputs": [],
   "source": [
    "art_dic = {'Engineering':0, 'Product & Design':1,'Startups & Business':2}"
   ]
  },
  {
   "cell_type": "code",
   "execution_count": 263,
   "metadata": {},
   "outputs": [],
   "source": [
    "train = train_data.pop('body').values\n",
    "train_target_art = train_data.pop('category').values"
   ]
  },
  {
   "cell_type": "code",
   "execution_count": 264,
   "metadata": {},
   "outputs": [
    {
     "data": {
      "text/plain": [
       "array([' ',\n",
       "       'Funding the quest to take AI to mythical proportions\\n\\nShepherding powerful machine learning into every-day gadgets with our investment in Mythic.\\n\\nBy Shahin Farshchi, Ph.D.\\n\\nArtificial intelligence is dominating headlines. Google uses it to predict what we’re looking for and tee up the best results. Facebook uses AI to automatically tag our friends, suggest new ones, and place ads in our news feeds. We funded Nervana to supercharge AI in the cloud, and Intel acquired it to capture a greater share of chips going into servers. We rely on broadband to bring the power of AI from the cloud into smaller, “dumb” embedded devices, such as cameras, wearables, and embedded sensors.\\n\\nHow we use computers typically follows how they work. Power-hungry, unreliable vacuum tubes were conducive to the mainframe computers that mailed out social security checks and ran computational fluid dynamics. Silicon-based transistors made memory and processing cheap enough to go on a desktop, enabling the spreadsheets and word processors that put computers on every desk. Silicon radios and cheaper compute put almost infinite processing power in the cloud and connected it to powerful devices in our pockets. Analog compute will condense data centers into chips bringing advanced intelligence into our gadgets, and our future robotic friends (or overlords).\\n\\nUnfortunately, sending raw data to the cloud and waiting for an answer isn’t practical. Connections are unreliable, which further dampens AI’s potential for most real-world embedded applications. Uber and Zoox plan to put AI in cars to offer rides without human pilots. They cannot wait for the cloud to tell them to steer or brake, and are challenged with the power and cooling requirements of trunk-mounted servers. Anything smaller than a car is relegated to having to wait for an answer, which is why experts anticipate every AI-powered device to eventually become its own mini data center.\\n\\nScientists, engineers and founders have not been sitting idle. Almost three decades ago, Caltech Professor Carver Mead envisioned a future of computers resembling the brain. However, the nature of compute at that time was more conducive to traditional processors. Fast-forward to to today’s neural nets, and it’s becoming more clear that chips mimicking our brains will rule the robotic age. While some startups and large companies are squeezing more efficiency out of conventional digital circuits, we had yet to see some of the interesting analog compute work being done in academia mature into a startup.\\n\\nThat is, until one of the world’s largest car companies came to me lamenting how persistent, high-quality local voice recognition — equivalent to cloud-powered Siri — outstrips available compute resources in their vehicles. On their quest for a solution, they came across an incredibly talented pair of scientists putting the compute power of servers into tiny silicon chips; chips that could go into a steering wheel or turn signal stalk. Those founders were Mike Henry and Dave Fick.\\n\\nMike and Dave had previously teamed up at the University of Michigan to find creative ways to cut the power consumed by deep nets, not by 10x, but by something closer to 100x. In doing so, they figured out how to get analog compute to work with today’s AI. Our military asked them to slash the power consumed by part of a GPS receiver for our soldiers, which they did by over 65x. They chose to found a startup that not only frees up soldiers from massive batteries, but decouples the notion of powerful compute from power-hungry computers.\\n\\nThe opportunity, and challenges resembled Nervana: ushering new AI capabilities using novel semiconductor technology. We partnered Mike and Dave up with Nervana founder Naveen Rao. We teamed up with an amazing syndicate of frontier-tech investors, while Mike and Dave are assembling a magical team demonstrating powerful, lightweight implementations of AI that are otherwise impossible with standard digital silicon technology.\\n\\nLux is proud to be partnered with Mythic on this epic journey to proliferate and unleash the true power of AI!\\n\\nShahin Farshchi is a partner at Lux Capital, where he thinks in analog and invests in hardware, robotics, AI, and space startups. Follow him on Twitter:@farshchi',\n",
       "       'At New Haircut, we recently did a design sprint with LRN, an education startup that developed an adaptive learning platform. Adaptive learning is the use of automated teaching to “adapt” the educational content to each student’s needs and abilities. Some consider it “the most ground-breaking tech innovation” in education.\\r\\n\\r\\nThe problem\\r\\n\\r\\nLRN started building an adaptive learning platform back in 2015. Their goal was to improve the educational experience for everyone: students, teachers, and parents. Its founders had decades of experience in education systems, artificial intelligence, game theory, and intelligent tutoring systems—that’s pretty much every tool in the toolbox one needs when building such a platform.\\r\\n\\r\\nBut having a great product idea and the technical expertise is not enough to keep you out of trouble. After 12 months, LRN came to a standstill: The developer they hired built the wrong product. This caused spirited debates among the founders and inaction for fear of yet another failure. They weren’t wrong to have these fears: 15% of bootstrapped startups fail because they hire inexperienced people.\\r\\n\\r\\nThe process\\r\\n\\r\\nWe use GV design sprints to take on big challenges, so I immediately knew LRN was a great candidate for such a sprint. A sprint works like “a superpower” by helping companies get customer feedback on their product in only 5 days. They needed to define their product, and there was no more time to waste.\\r\\n\\r\\nDay 1: Understanding the issue\\r\\n\\r\\nOn the first day of the sprint, our 6-person team gathered information about the problem at hand and spoke to experts. Then we began mapping the challenge on a whiteboard. The rules of the sprint state that you have to pick a manageable piece of the problem that can be solved in one week. It’s tricky because everything on the whiteboard seems to scream back at you, “Pick me!”\\r\\n\\r\\nLRN’s platform served several user groups: students, teachers, school districts. They all had different needs and pain points. But we could not tackle everything in 5 days. The first step was choosing one customer and one problem.\\r\\n\\r\\nWe knew parents enrolled their kids in private schools because teachers there could dedicate more attention to each kid. Our assumption was teachers could do that because classes in private schools were smaller. “Let’s focus on teachers,” said Malcolm, one of the LRN founders.\\r\\n\\r\\nNow, reducing the size of a class wasn’t something an adaptive platform could do. But freeing up class time was possible. Teachers could use the platform to build personalized lessons. This way, they’d spend less time transmitting knowledge and more time guiding students through that knowledge.\\r\\n\\r\\nOur design sprint goal was to understand how a technology platform could help teachers build personalized lessons fast.\\r\\n\\r\\nDay 2: Sketching solutions\\r\\n\\r\\nDay 2 was all about visualizing solutions. Everyone on the team sketched—even those reluctant to do so. The experts we spoke to on Monday pointed out that student reports would help teachers tailor educational content, so many of the solutions we sketched included student performance reports. Even so, they were wildly different from one another, which is the whole point of the exercise. A sprint should unearth a wide range of solutions.\\r\\n\\r\\nDay 3: Choosing a solution\\r\\n\\r\\nIf the second day of the sprint is about finding a million ways to solve your problem, the third day is about turning those into a million-dollar idea. In our case, the official sprint deciders picked a solution that showed how the LRN platform could aggregate student performance data into individual and class reports. To be fair, it wasn’t (and it never is) just one solution, but rather scenes from several sketches linked together. The one pitfall of our winning solution was that LRN lacked the specific information about student learning goals and metrics. But we had an idea.\\r\\n\\r\\nDay 4: Prototyping our solution\\r\\n\\r\\nOn Thursday morning, we put the prototyping on hold and scheduled a few extra interviews with experts. Deviating from the sprint schedule was a calculated-but-risky move. Our hope was that a second (and more targeted) foray into the minds of the experts would shed some light on the goals and metrics section. Try to stick to the rules if this is your first sprint.\\r\\n\\r\\nWhen the interviews were done, we used InVision to start working on a prototype. The prototype was rather complex for a design sprint. It had 5 sections: Welcome, Dashboard, Goal Library, Learning Sessions, and Reports.\\r\\n\\r\\nDay 5: Testing our prototype with real users\\r\\n\\r\\nGiven our attempt to screen more experts on Thursday, we were up against our deadline to complete the prototype in time for customer testing. In fact, we finalized it minutes before the first tester arrived.\\r\\n\\r\\nA few patterns emerged by the end of the day. Teachers found the personalized learning sessions module to be confusing and time-consuming. We expected this since we missed key data in the goals and metrics section. And yet, they were receptive to the student and class reports. They believed such reports would allow teachers to take specific actions while the lessons were still underway.\\r\\n\\r\\nWe were able to test our hypothesis that reports were key in helping teachers build personalized lessons. We were not able to vet the goals or measure and confirm which students skills are important. But that would be open game for an upcoming sprint.\\r\\n\\r\\nTakeaways\\r\\n\\r\\nSo did we know exactly what a successful adaptive platform should look like? Not yet. But the sprint helped us get closer. There’s more work to be done—at least one more sprint is required to confirm the goals and metrics section as well as our final MVP approach. But after just one intense week, we were ready to define LRN`s 6-month product roadmap.\\r\\n\\r\\nBefore the sprint, the LRN founders were stuck. They lost time and money building a learning management system. It was a product that wasn’t solving a market need or highlighting their strategic point of view. Their stress levels were through-the-roof. During the sprint, they had to let go of their differences and unrealistic goals, prototype a viable solution and test it with users.\\r\\n\\r\\nThe design partners at GV warn that sprints only work if you begin with the right foundation. While we adhere to this gospel, the LRN sprint showed us that even when you start with a somewhat shaky foundation, a sprint is incredibly valuable.\\r\\n\\r\\nRead more about design sprints',\n",
       "       ...,\n",
       "       'What I Learned Spending $3 Million on Facebook Ads\\r\\n\\r\\nThe whole Facebook advertising world can be very confusing.\\r\\n\\r\\nFocus on that interest, re-target this demographic, make sure to exclude certain people… good lord, where do you even begin?\\r\\n\\r\\nOver the years, I’ve spent over $3,000,000 buying Facebook ads (see below) — and, before I was fired at Facebook, I helped build their ad system.\\r\\n\\r\\nBottom-line: I’ve tried anything and everything with Facebook advertising. And now, I’m going to share EXACTLY how you can spend on Facebook ads and get a great ROI for your business.\\r\\n\\r\\nThere are so many advanced tactics, strategies, and tips you can read about Facebook Ads. And I’m going to show you some of them — with a catch.\\r\\n\\r\\nThe truth is, it’s CRITICAL you understand the fundamentals of Facebook ads before you worry about split testing, CPC optimization, or other advanced strategies.\\r\\n\\r\\nOften times, even “expert” advertisers mess up the simple fundamentals. Then, their mistakes drive up the cost they spend on ads, lower profitability, and cause headaches.\\r\\n\\r\\nBecause we want to build a strong foundation, in this post you’ll learn:\\r\\n\\r\\nThe lessons I learned from spending millions on online advertising\\r\\n\\r\\nHow to setup your first Facebook ad\\r\\n\\r\\nThe exact methods I use to target audiences on Facebook\\r\\n\\r\\nWhat makes an ad click-worthy (plus my secrets for creating great CTAs)\\r\\n\\r\\nThe insanely simple method for working the ROI of your ads\\r\\n\\r\\nAnd more…\\r\\n\\r\\nBut before we get started, 6 things to consider before you start with Facebook ads...\\r\\n\\r\\nOver the years, I’ve learned a ton about Facebook online advertising:\\r\\n\\r\\nHelping build the Facebook Ads platform from the ground up\\r\\n\\r\\nSpending $3,000,000+ on Facebook ads\\r\\n\\r\\nUsing every tactic, strategy, and trick in the Facebook advertising handbook to make my ads as effective and profitable as possible\\r\\n\\r\\nFacebook ads are certainly an amazing platform to grow your business, but that doesn’t mean you should jump in head-first.\\r\\n\\r\\nHere are a few caveats to consider before diving into Facebook ads (or online advertising in general):\\r\\n\\r\\nBe patient. In my experience, it can take anywhere from 1 day to 6 months to get your online advertising profitable Not every advertising channel will work for everyone. I’ve spent $100,000+ on Google advertising and only made back $25,000. Damn. Not every advertising channel will work for every business When you do find a channel that’s profitable, spend as much as you can while you can. When I was advertising on a third-party newsletter, I spent $750 a week and made $1,500 within 2 weeks. That’s an awesome ROI. I didn’t sponsor more than twice a month since I didn’t want to annoy their readers. But then, a friend yelled at me to do more. I moved to four times a month and the ROI stayed the same. I realized there’s a lot of noise online so it’s okay to advertise hard Advertising decays. Over time you need to refresh your advertising, even if it’s working, to prevent it from going stale. At AppSumo we had a full-time person just refreshing our ads a few times a day with relevant numbers, topics, and news Profit is all that matters. Ignore people who claim they get some really high click through rates (also known as CTR, or the % of people that actually click their ad). CTR is a vanity metric, and what matters most is ROI. If you are not making money, stop Look for free marketing opportunities first. I personally encourage people NOT to spend on ads until they’ve exhausted other marketing activities. It’s too easy to spend a lot on ads without great results.\\r\\n\\r\\nStep-by-step instructions: How to spend your first $100 on Facebook in 10 simple steps\\r\\n\\r\\nWhen you first start out with Facebook ads, it’s best to dip your toes in with a fairly small budget and gradually ramp up as you find your sweet spot.\\r\\n\\r\\nThis was my approach when I first started out. I didn’t spend $3,000,000 on Facebook ads right away. I started with just $100 in my first month.\\r\\n\\r\\nMy budget scaled alongside my learnings and results. The more I learned, the better results I saw, and the more budget I’d invest. In month two, I spent $400. Eventually, I ramped up to $100,000+ budget per month.\\r\\n\\r\\nBelow I’ll walk you through 11 steps to get going with Facebook ads (and how to spend your first $100).\\r\\n\\r\\nStep 1: Head to Facebook Ads Manager\\r\\n\\r\\nOpen up Facebook Ads Manager to get started with creating your ads.\\r\\n\\r\\nOnce Facebook Ads Manager loads, you’ll be able to get started building your first ads.\\r\\n\\r\\nStep 2: Choose your objective\\r\\n\\r\\nWhat do you want your ads to do? Drive traffic, build brand awareness, increase conversions? You’ll need to choose an objective. Facebook offers 11 options split across three key objectives:\\r\\n\\r\\nAwareness : Objectives that generate interest in your product or service\\r\\n\\r\\n: Objectives that generate interest in your product or service Consideration : Objectives that get people to start thinking about your business, or look for more information about your business\\r\\n\\r\\n: Objectives that get people to start thinking about your business, or look for more information about your business Conversion: Objectives that encourage people interested in your business to purchase or use your product or service\\r\\n\\r\\nChoose Traffic (under \"Consideration\") first. You can do website conversion, but I’d wait. Remember, our goal is to keep your first $100 as simple as possible and get a ROI.\\r\\n\\r\\nWith only $100 to spend, you’ll struggle to generate enough brand awareness to drive returns. And conversion-focused ads won’t prove cost-effective either.\\r\\n\\r\\nYou also need to give your campaign a name. Choose something easy and memorable so you can easily identify it in the future.\\r\\n\\r\\nFacebook recently added the ability to split test ads, which enables you to test advert sets against each other to understand which ads give you the best results. But for your first $100, don’t worry about split testing. Keep it simple.\\r\\n\\r\\nNote: Do not buy likes. I hate when people brag about how many likes their fan page has. Likes don’t mean much, because Facebook controls communication with your customer(this is why “Boosted” posts have become such a money-driver for Facebook).\\r\\n\\r\\nWhen you write Facebook posts you have almost no say on how many people it will reach. It makes sense to create a free fan page and promote it — but don’t spend money towards it in the beginning.\\r\\n\\r\\nStep 3: Choose your audience\\r\\n\\r\\nOnce your objective is set, you choose the audience you’d like to target with your advert.\\r\\n\\r\\nOne of the most important things to look out for on this page is the audience size gauge.\\r\\n\\r\\nYou want to aim specific, not broad.\\r\\n\\r\\nSomewhere in the middle of the green section of the dial below is the sweet spot.\\r\\n\\r\\nWhen I first started advertising AppSumo and Monthly1K, I tried to target audiences with less than 10,000 people.\\r\\n\\r\\nThe more specific your target group, the more likely you are to have a higher CTR. Plus, the more likely you’ll convert a clicking user to email subscriber (or buying customer) down the line.\\r\\n\\r\\nOne “red herring” to watch for is cost per click (CPC). Anyone who brags about paying an insanely low CPC is likely getting a horrible ROI. The key is balance.\\r\\n\\r\\nHow to define your target audience\\r\\n\\r\\nFacebook provides a ton of options to customize your audience, including:\\r\\n\\r\\nLocation\\r\\n\\r\\nAge\\r\\n\\r\\nGender\\r\\n\\r\\nLanguages\\r\\n\\r\\nInterests\\r\\n\\r\\nBehaviors\\r\\n\\r\\nConnections\\r\\n\\r\\nChoosing the right audience is essential for a successful Facebook ads campaigns. You need laser-focused targeting.\\r\\n\\r\\nFor the age and gender category, look at the demographics of your top customers or the people you have email addresses for and target those age groups. The narrower the BETTER. For the Monthly1K course, we targeted 25-40 year-olds who are in the United States.\\r\\n\\r\\nThe other categories, Languages and Connections, I encourage you to leave alone in the beginning.\\r\\n\\r\\n(Yes, I know the haters out there will want to optimize everything, but I’m trying to streamline the process so you can start investing in ads and learning immediately. Remember, 80% is better than 100% at first — we just want to get you to an ROI.)\\r\\n\\r\\nFor countries: Focus on ONE state / country to begin with. Bonus points if you’re able to focus on a city. Remember, target less than 10,000 people total. If your audience is broad, go more narrow geographically.\\r\\n\\r\\nOne of the most powerful targeting options available is ‘Interests’, this enables you to advertise to people within your target demographics based on their interests (activity on Facebook, Pages they like, and closely related topics).\\r\\n\\r\\nWhen trying to figure out your first interest group to target I recommend a few options:\\r\\n\\r\\n1. Take your 10 best customers and search their email address / name on Facebook\\r\\n\\r\\nThen go to their Likes by clicking ‘More’ on their profile and selecting ‘Likes’:\\r\\n\\r\\nNow, create a spreadsheet and list out all the Likes of each of your top 10 customers on Facebook. Focus only on the most relevant Likes to your business. For example:\\r\\n\\r\\nThe goal is to find easy and effective ways you can target new customers. Look for 1-3 similar Likes across your top customers to get started.\\r\\n\\r\\n2. Find your competitors\\' customer interests\\r\\n\\r\\nGo to a competitors\\' Facebook Page and look at the people who like it. Click on their profiles and add them into your spreadsheet to find their common interests.\\r\\n\\r\\nWe did this the AppSumo competitor MacHeist a couple years ago as we were starting to grow AppSumo.\\r\\n\\r\\n3. Target a direct competitor\\r\\n\\r\\nFind an angle that makes your business unique and then use that angle to advertise directly to your competitors\\' customers.\\r\\n\\r\\nSimply search for your competitor’s name in the interests box and you can target people who Like your competitor on Facebook, or match your other targeting criteria.\\r\\n\\r\\nCaveat: DO NOT let Facebook recommend broad interest categories. Facebook’s goal is to get your money. They want to show your ads to whomever is most likely to click. But it’s your job to ensure your ads are targeting people who are valuable to you or your business.\\r\\n\\r\\nStep 4: Choose your placements\\r\\n\\r\\nOnce you’ve selected the audience for your advert, you’ll see the option to choose the placement (aka where it’ll show on Facebook). You have two options:\\r\\n\\r\\nAutomatic placements: Facebook automatically puts your ads where it feels they’ll work best\\r\\n\\r\\nEdit placements: You choose where you’d like to reach people\\r\\n\\r\\nEven for beginners, I recommend you select ‘Edit placements’ so you can select exactly where you’d like your ad to be shown within Facebook’s network.\\r\\n\\r\\nYou’ll see a list of the available placement options for your ad. With your first ad, I recommend you only target Facebook users in the News Feed.\\r\\n\\r\\nWhy just the News Feed?\\r\\n\\r\\nAudience Network can be a little difficult to configure for a beginner. It’s best to get started with Facebook Ads directly on Facebook... rather than Facebook Ads that appear on other channels Instagram ads are a whole different kettle of fish I’ve found right-hand column ads are effective for retargeting, but with the CTR so low it’s not worth it when you’re starting\\r\\n\\r\\nMobile vs Desktop\\r\\n\\r\\nMobile ads could make sense for your business, but it depends greatly on your service. If your landing page is fully optimized for mobile, it can be worth targeting Facebook users across all devices. But if your product is a web-app, then mobile feed ads might convert significantly lower than desktop ads.\\r\\n\\r\\nMobile social ads now drive more impressions and clicks than desktop, but desktop still has a slight edge when it comes to conversions. Consider creating a separate ad set with just mobile targeted ads. I’ve seen promising results doing this.\\r\\n\\r\\nSo, if you’re fully confident your site is killer on mobile, select “All Devices”. If not, select “Desktop only”.\\r\\n\\r\\nStep 5: Set your budget\\r\\n\\r\\nStart small. Set your daily budget at $3.33 (this’ll ensure you don’t spend more than $100 a month).\\r\\n\\r\\nOn Facebook, the average cost per click (CPC) is about $0.35 globally and about $0.28 in the U.S. (source)\\r\\n\\r\\nHere are a couple of things to keep in mind when thinking about your bid amount:\\r\\n\\r\\nIf you try to bid too low, your ads may not get the exposure they need, and you won’t reach your goals\\r\\n\\r\\nDon’t worry about bidding a high amount. You’ll still end up paying the lowest amount possible in the auction to get your ads delivered\\r\\n\\r\\nAim for $0.75 a click. (Don’t worry if that seems high, it’s only 4.4 clicks). The point is to get some clicks to your ad going and then you can lower the amount.\\r\\n\\r\\nA few notes for you to benchmark your performance with:\\r\\n\\r\\nOn most paying products we’ve advertised, the conversion from click to paying customer is about 0.1-0.2%\\r\\n\\r\\nConversion rate to collecting an email has been around 20%\\r\\n\\r\\nAgain, remember it can vary wildly based on your industry. But, this should give you a rough north star to aim for.\\r\\n\\r\\nStep 6: Create your Ad\\r\\n\\r\\nThis is where you create your advert. Generally, I have a couple of pieces of advice when it comes to creating winning ads:\\r\\n\\r\\n1. Keep the images simple, ideally of yourself or something not boring. Look at this boring advertisement below. Yawn! Such a neat idea for a product. But boring execution, with an image blending in with so many other images we see online\\r\\n\\r\\n2. Try to create an ad that uses natural text versus something that seems like an advertisement. Imagine what you naturally write / post on Facebook compared something that seems like a paid placement.\\r\\n\\r\\nHere’s an example from AppSumo of one of our high-performing “natural” ads:\\r\\n\\r\\nAnd if you want to know what this looks like in real life, see how to make EPIC Facebook Ads which get you tons of clicks and conversions.\\r\\n\\r\\nStep 7: Choose the format\\r\\n\\r\\nFor News Feed ads, Facebook offers six different formats. Let me simplify it for you: Choose Single Image.\\r\\n\\r\\nSingle Image ads in the desktop News Feed tend to have a higher engagement rate than right column ads. Plus, with single image ads\\' similarities to organic News Feed posts, users are familiar with interacting with this type of post.\\r\\n\\r\\nStep 8: Choose your image(s)\\r\\n\\r\\nFacebook single image ads enable you to upload and test six variations of images. With only $100 budget, six variations is a little too complex. Start with one or two images max.\\r\\n\\r\\nFor single image ads, Facebook recommends the following:\\r\\n\\r\\nRecommended image size: 1200 x 628 pixels\\r\\n\\r\\nImage ratio: 1.91:1\\r\\n\\r\\nTo maximize advert delivery, use an image that contains little or no overlaid text\\r\\n\\r\\nDon’t: Whatever you do, don’t use any of Facebook’s stock images. Stock images are the best way to ruin a great ad. Don’t use low-quality images either and definitely avoid stealing images from Google.\\r\\n\\r\\nImages of people work incredibly well. Preferably their faces. And try to use a bit of contrast, too. That’ll make your image stand out. You could use images of your team or your customers (with their permission, of course).\\r\\n\\r\\nIf you have a designer on your team, get them to whip up your ad. If you don’t have a designer, tools like Canva — or Googling \"royalty free images\" make it incredibly simple to design beautiful looking images in no time.\\r\\n\\r\\nStep 9: Add your copy\\r\\n\\r\\nOnce you’ve added an image or two to your ad, you have to create the supporting copy.\\r\\n\\r\\nThe first step is to choose the Facebook Page that will represent your business in the ad (all single image News Feed ads are promoted by Facebook Pages).\\r\\n\\r\\nThen you need to choose your destination. This’ll be your website or the landing page you’d like to drive traffic too.\\r\\n\\r\\nPro tip: Create consistency. If someone clicks your ad, something in your image or copy has grabbed their attention. After clicking, they should land on a webpage that reinforces the message you shared in your ad.\\r\\n\\r\\nThere are now four key pieces of copy you need to include with your advert:\\r\\n\\r\\nHeadline: Add a brief headline to tell people what your ad is about. I like to give something away free with the headline (see \"Free Growth Hacker Tips\" in the example below). You only have 25 characters to use here. Be wise Text: The text appears about the advert and is similar to a status on normal Facebook posts Call to Action (CTA): Facebook has a range of button call-to-actions you can use within your ad. Choose “Learn More” News Feed Link Description: This appears below the Headline. Use this space to add additional text to emphasize why people should visit your website and to reinforce your CTA\\r\\n\\r\\nHere’s an example:\\r\\n\\r\\n4 tips for creating incredible ads\\r\\n\\r\\nAs a quick recap, here are four tips to help your ads stand out and drive clicks:\\r\\n\\r\\n1. Choose images that stand out\\r\\n\\r\\nRemember, on Facebook you’re not just competing with other ads for attention, you’re up against wedding photos, cat videos, #blessed posts, and other content posted by friends and family.\\r\\n\\r\\nIf you want people to click on your ads, they have to stand out. I tend to use images on a bright background or anything with a bit of contrast to stand out from the blandness of the News Feed.\\r\\n\\r\\n2. Use Calls-to-Actions\\r\\n\\r\\nIncluding a Call-to-Action within your Facebook Ads is a great way to let the user know what to expect on the other side of the ad.\\r\\n\\r\\nCTAs might not directly increase your clicks or make your ad more pleasing to the eye, but it’s a great tactic to improve your conversions and decrease your cost per conversion.\\r\\n\\r\\nI love to use the \"Headline\" part of Facebook Ads to include the CTA.\\r\\n\\r\\n3. Add social proof\\r\\n\\r\\nThere are a couple of reasons that might put someone off clicking your ad:\\r\\n\\r\\nScared of losing money Worried about making the wrong choice\\r\\n\\r\\nHow can you overcome these two challenges?\\r\\n\\r\\nUse social proof to show the reader why they should care.\\r\\n\\r\\nThe ‘Text’ section of your Facebook ad is a great place to include some social proof around your product or service. For example, you could: mention how many businesses use your product, include a testimonial from a customer, talk about your experience.\\r\\n\\r\\nThe goal with social proof is to alleviate any worries someone may have about your product and give them a reason to car.\\r\\n\\r\\n4. Use the “Learn More” button\\r\\n\\r\\nThrough a bunch of testing, we found the “Learn More” button converted better than other buttons or not having a button at all.\\r\\n\\r\\nThese findings were also backed up by AdEspresso who found that the “Learn More” CTA returned a 22.5% higher click-through rate than “Sign Up” (source).\\r\\n\\r\\nStep 10: Measure your ROI\\r\\n\\r\\nNow you’ve gotten started. Congrats… but the real thing is profit. So how do you track your ROI and make your money back?\\r\\n\\r\\nTo start, do stupid ghetto math. Here’s how I do it with advertising OkDork:\\r\\n\\r\\nI spend around $3.35 / email per sign up.\\r\\n\\r\\nOn some emails I will proudly mention Sumo (free tool for getting more email subscribers).\\r\\n\\r\\nEach new customer makes us around $515 after refunds. So I do back of the envelope math as follows:\\r\\n\\r\\nProduct Profit = $515\\r\\n\\r\\nEmail Cost = $3.35\\r\\n\\r\\n$515 / $3.35 = 153\\r\\n\\r\\nSo if 1 out of 153 people via new email signups buy Sumo then buying ads is profitable.\\r\\n\\r\\nFor your business the numbers might be a little different, but a similar formula will help you work out your ROI.\\r\\n\\r\\nFacebook offers incredible value to advertisers. Throughout this post you might have noticed a couple of key takeaways about creating successful ads:\\r\\n\\r\\nDesign eye-catching ads that grab attention and generate clicks Laser-focused targeting to ensure your ads are reaching the right people\\r\\n\\r\\nGood luck advertising. Leave a comment and share your questions or experiences with Facebook ads.',\n",
       "       '“I have got an idea!” 😃 😉\\n\\nThat’s the foundation of many successful and unsuccessful stories behind a number of products.\\n\\nNod your head in ‘NO’ if you have not heard the same story.\\n\\nIt starts with an idea — but how to implement it, and become successful is still a mystery to many. Right?\\n\\nTaking a look at the Silicon Valley, one will feel immersed in their vibrant entrepreneurial culture. And why only USA, startups are mushrooming in various global locations (UK, India, Pan Asia, Gulf) where everyone enjoys an exciting and perilous journey to an uncharted territory. I too embarked on a similar journey and from a software engineer to a CTO, and finally turned into a Founder under 30s.\\n\\nMost of the products I built, reached thousands.\\n\\nNow when I hear from startups everyday… I see them stuck in a similar wave, in which I was trapped some years back.\\n\\nThey build an MVP, does their marketing to-do’s …. but ALAS! The MVP just didn’t work the way they wanted.\\n\\nWhat Make These Young Startups Dump Their MVPs?\\n\\nIf a startup has his MVP ready and validated, then what makes him or her fail.\\n\\nWell….\\n\\nBringing a new product to the market is always a BIG risk. But to reduce it, you build an MVP. Despite building MVP you could not minimize the risks due to some gaps.\\n\\nHere are some strange cases which I witness daily while working with startupreneurs at Innofied.\\n\\n#1. They come without doing a proper homework (customer’s needs, market research, demographic research etc.) 😕😕😕\\n\\nYou can build an MVP any time simply sharing the wireframes to your technical partner. But that is not a solution unless you do your homework.\\n\\nMost of the product owners come to us without doing a proper research on customer’s needs. They come to ask without asking two questions to themselves —\\n\\nWhy do I need this product? and\\n\\nHow can it help me?\\n\\nThese answers will help them to entail a better product to future customers. But they never ask.\\n\\nThey also miss on early competitor research. It is obvious to conduct a competitor analysis to know if there are similar products in the market. Even if there is no direct competitor, your faith in the uniqueness of the product is not sufficient to bring it up in the market.\\n\\nCompetitor analysis is necessary or else your MVP is not going to have the impact you wish to have.\\n\\n#2. They spend a lot for all platforms, spending above their budget 😞😞\\n\\nIf not all, most startups are bootstrapped or have investors. The angel investor might have faith in the product and agreed to bootstrap the startup. But having capital does not mean you need to develop products on various platforms.\\n\\nMany startups who come to us to build a web or mobile app MVP want to develop it for all platforms. That’s a sheer waste.\\n\\nIf your MVP fails, you may not have much capital left to start fresh. It is better to build an MVP for a particular platform and beta test it.\\u200c\\n\\n#3. Do not have a clear idea of what features to implement and which should come in the later phase. 😲😲😲\\n\\nIt is important to prioritize the features that you want to implement in your MVP. Before you build an MVP highlight all those features that you think are nice-to-have. But it is not strictly necessary.\\n\\nHave a list ready to prioritize and ask questions to yourself like -\\n\\nWhich single action do you want your users to accomplish through the product?\\n\\nWhat more features will I like to add to make the product more efficient in the later phases?\\n\\nBefore asking a developer to work on the MVP it is important to set categories as ‘must-have,’ ‘nice-to-have’, and ‘don’t care’ — then ask the developer to act on it. This will reduce the chance of your MVP to fail.\\n\\nHow ‘Minimum’ Should Be Your MVP?\\n\\nIf you too are a Startup with some ‘billion dollar’ app ideas, you may have heard the term Minimum Viable Product. You know much about it. You have been regular patrons of the Czars of Startups, gave a read to their thoughts regularly, but what you missed is the fact — how minimum your MVP should be.\\n\\nWell, a real MVP should deliver minimum yet a valuable product, and it must-\\n\\n💡 Serve at least one specific audience\\n\\n💡 Address at least one key problem\\n\\n💡 Have a well-designed user experience\\n\\n💡 Be easy to build and launch quickly\\n\\nIf your MVP is not delivering these features — then it is not minimum and neither viable or valuable.\\n\\n“….MVP is not about building a Beta version of your app. Neither creating few workable mock-ups. Implementing the minimum features, without the essence of its viability, is definitely not the MVP.”\\n\\nYou definitely do not want your MVP to see the doom’s day. Then what saves your MVP from sinking?\\n\\nWell, what you just need is the right spice that will be accepted by the niche you target. A product which is not yet built but has a strong appeal and claims to give access to features that can make the life of users easy.\\n\\nSay a maximum of 5 features is good to add in your MVP. Then you test, re-run and keep on iterating unless you fix all the bugs required. You want to gift your user a perfect product with minimum errors and to do so, start with the least. Give them least features and if they find it as an addiction — then you’re very near to hit the GREEN button!\\n\\nHow to Stop Building Half-Baked MVPs?\\n\\nLet me be direct and share some of the ideas that will stop you from committing the old mistakes, while you build an MVP in 2018.\\n\\nInvalidated MVP should not see the Doom’s Day so soon\\n\\nIt is important to validate your MVP, as this is the classic idea. What you do while validating an idea is approaching customers and try to sell the product which you haven’t built yet. If they pay you to deliver a solution a month from now, you validate your idea. (👏)\\n\\nBut what if you fail? Will it invalidate your business model?\\n\\nA strange case I must cite is that of Dropbox — Drew Houston gathered 70K signups in 2008 with a Digg Video and went long to make his product market-fit. But if he failed it wouldn’t have meant Dropbox won’t work — it would have meant that threshold was higher than expected or Digg people were not the early adopters or maybe those people got attracted to some other events and stopped sharing the Digg video.\\n\\nFailure in validating your MVP only invalidates a small way to acquire customers — not the whole business model.\\n\\nRather invalidated MVPs are an only possible way to build better products in small batches. But makes them difficult when product quality depends on the scale of use or when low-quality alternatives capsizes the market.\\n\\nIt is better to run an invalidated MVP first and test whether a customer will buy a better product rather than pitching validated MVPs and keep on wondering — “What if I fail!”\\n\\n2. Before you jump on the bandwagon — understand and identify your success criteria\\n\\nBefore you build an MVP you should identify the needs as to why the product should exist. This might be organizational or a customer need that can address the recent gap.\\n\\nYou need to address the long-term goal and write it down if you want to answer the following questions —\\n\\nA. Why are we doing this project?\\n\\nB. Check the criteria that will make your product successful\\n\\nHow to chalk out your criteria and needs? — Say if you a running a bakery chain then your target or end goal will be to reduce the time-to-checkout by 25%, have a number of monthly users say 100 thousand, and need to reach a target of say $1 million every month. This is the way to identify your success criteria.\\n\\n3. To build the right MVP map outline your user’s journey\\n\\nIf you look into the user journey thoroughly you will see that it divides itself into three parts — user, user actions and story endings.\\n\\nYou need to identify the user . As these people will use your product. It is thus possible to gain more than one category of user. Say if you have a laundry booking app, you will gain both the laundry service seekers and the service providers.\\n\\n. As these people will use your product. It is thus possible to gain more than one category of user. Say if you have a laundry booking app, you will gain both the laundry service seekers and the service providers. Make sure to map the end goal of the user.\\n\\nYou need to identify the actions that the users need to take in order to reach the end of the story and achieve the goal.\\n\\nWhen you plan to build an MVP, you will want to know which user has the most job or focus (this will allow you to stay true to the lean startup MVP methodology). In most of the cases, this will make sense — however you might add some quick value. But there are other high priorities that you need to address, and you may need to focus on a different user.\\n\\n4. Have the story-map ready before you build an MVP\\n\\nStory mapping allows you to identify the pain points of the user and gains that a user can achieve. This exercise let you determine the greatest potential and adds more value. Then you will be able to focus on the minimum viable product while adding the less impactful ones to the product roadmap for the late releases.\\n\\nYou just need to do three things to define the user flow or the product roadmap.\\n\\nWrite down the actions that user need to take or have taken\\n\\nJot all the pain points for every action and brief summaries of the inconvenience caused while trying hard to complete the action.\\n\\nwhile trying hard to complete the action. Note the gains you had and achieve the pain addressed.\\n\\n5. Use the product roadmap to prioritze the features before you build an MVP\\n\\nCollect a number of opportunity statements with the help of pain-gain maps.\\n\\nFinalize and find out what features are important for the initial MVP release from those charts.\\n\\nList the user and the particular opportunity statements and provide a breakdown of those features to include them in the roadmap.\\n\\nDo use the prioritization matrix to make the most impact in relation to the urgency of the feature. You are the one who is going to take the final decision on what should be there in the minimum viable product and what you will keep during the launch of your MMP. (Minimum Marketable Product — which you need to need to build after your MVP is validated and successful)\\n\\nTo make things a little easy — I have a FREE worksheet for you. Take a print out, solve your queries and pin it on the board to refer, whenever you feel something is still missing in your MVP development. DOWNLOAD WORKSHEET.\\n\\nYou’re All Set to Build an MVP\\n\\nYou gathered all the things that you need to build an MVP — from knowing the targeted users to addressing their pain points, kind of action they want to take through your product to increasing customer gains — if all seems to be done — you’re all set to build a minimum viable product.',\n",
       "       'Start at the End: How to Do Research That Has Real Impact\\r\\n\\r\\nAs far as I know, I’m the only UX researcher at a venture-capital firm. (If there’s anyone else out there, please say hello!) This gives me a pretty unique perspective, and a big challenge: I’m constantly jumping into new domains and figuring out how to have an impact quickly.\\r\\n\\r\\nGV has invested in more than 300 startups, so I’ve had a lot of practice. Again and again, I start from scratch, understand the business and industry, then find a way to help each team answer their most important questions.\\r\\n\\r\\nSo when I had the opportunity to address a group of Google UX researchers, I decided to talk about what I’ve learned from this experience and how I approach research projects.\\r\\n\\r\\nHere are the slides and audio from the talk.\\r\\n\\r\\nFeel free to respond below if you have thoughts or questions!'],\n",
       "      dtype=object)"
      ]
     },
     "execution_count": 264,
     "metadata": {},
     "output_type": "execute_result"
    }
   ],
   "source": [
    "train"
   ]
  },
  {
   "cell_type": "code",
   "execution_count": 265,
   "metadata": {},
   "outputs": [
    {
     "data": {
      "text/plain": [
       "array(['Startups & Business', 'Startups & Business', 'Product & Design',\n",
       "       ..., 'Startups & Business', 'Product & Design',\n",
       "       'Startups & Business'], dtype=object)"
      ]
     },
     "execution_count": 265,
     "metadata": {},
     "output_type": "execute_result"
    }
   ],
   "source": [
    "train_target_art"
   ]
  },
  {
   "cell_type": "code",
   "execution_count": 266,
   "metadata": {},
   "outputs": [],
   "source": [
    "test = test_data.pop('body').values\n",
    "test_target_art = test_data.pop('category').values"
   ]
  },
  {
   "cell_type": "code",
   "execution_count": 267,
   "metadata": {},
   "outputs": [
    {
     "ename": "KeyError",
     "evalue": "'category'",
     "output_type": "error",
     "traceback": [
      "\u001b[1;31m---------------------------------------------------------------------------\u001b[0m",
      "\u001b[1;31mKeyError\u001b[0m                                  Traceback (most recent call last)",
      "\u001b[1;32m~\\anaconda3\\lib\\site-packages\\pandas\\core\\indexes\\base.py\u001b[0m in \u001b[0;36mget_loc\u001b[1;34m(self, key, method, tolerance)\u001b[0m\n\u001b[0;32m   2645\u001b[0m             \u001b[1;32mtry\u001b[0m\u001b[1;33m:\u001b[0m\u001b[1;33m\u001b[0m\u001b[1;33m\u001b[0m\u001b[0m\n\u001b[1;32m-> 2646\u001b[1;33m                 \u001b[1;32mreturn\u001b[0m \u001b[0mself\u001b[0m\u001b[1;33m.\u001b[0m\u001b[0m_engine\u001b[0m\u001b[1;33m.\u001b[0m\u001b[0mget_loc\u001b[0m\u001b[1;33m(\u001b[0m\u001b[0mkey\u001b[0m\u001b[1;33m)\u001b[0m\u001b[1;33m\u001b[0m\u001b[1;33m\u001b[0m\u001b[0m\n\u001b[0m\u001b[0;32m   2647\u001b[0m             \u001b[1;32mexcept\u001b[0m \u001b[0mKeyError\u001b[0m\u001b[1;33m:\u001b[0m\u001b[1;33m\u001b[0m\u001b[1;33m\u001b[0m\u001b[0m\n",
      "\u001b[1;32mpandas\\_libs\\index.pyx\u001b[0m in \u001b[0;36mpandas._libs.index.IndexEngine.get_loc\u001b[1;34m()\u001b[0m\n",
      "\u001b[1;32mpandas\\_libs\\index.pyx\u001b[0m in \u001b[0;36mpandas._libs.index.IndexEngine.get_loc\u001b[1;34m()\u001b[0m\n",
      "\u001b[1;32mpandas\\_libs\\hashtable_class_helper.pxi\u001b[0m in \u001b[0;36mpandas._libs.hashtable.PyObjectHashTable.get_item\u001b[1;34m()\u001b[0m\n",
      "\u001b[1;32mpandas\\_libs\\hashtable_class_helper.pxi\u001b[0m in \u001b[0;36mpandas._libs.hashtable.PyObjectHashTable.get_item\u001b[1;34m()\u001b[0m\n",
      "\u001b[1;31mKeyError\u001b[0m: 'category'",
      "\nDuring handling of the above exception, another exception occurred:\n",
      "\u001b[1;31mKeyError\u001b[0m                                  Traceback (most recent call last)",
      "\u001b[1;32m<ipython-input-267-55ea0ea42e6f>\u001b[0m in \u001b[0;36m<module>\u001b[1;34m\u001b[0m\n\u001b[0;32m      1\u001b[0m \u001b[0mart_dic\u001b[0m \u001b[1;33m=\u001b[0m \u001b[1;33m{\u001b[0m\u001b[1;34m'Engineering'\u001b[0m\u001b[1;33m:\u001b[0m\u001b[1;36m0\u001b[0m\u001b[1;33m,\u001b[0m \u001b[1;34m'Product & Design'\u001b[0m\u001b[1;33m:\u001b[0m\u001b[1;36m1\u001b[0m\u001b[1;33m,\u001b[0m\u001b[1;34m'Startups & Business'\u001b[0m\u001b[1;33m:\u001b[0m\u001b[1;36m2\u001b[0m\u001b[1;33m}\u001b[0m\u001b[1;33m\u001b[0m\u001b[1;33m\u001b[0m\u001b[0m\n\u001b[1;32m----> 2\u001b[1;33m \u001b[0mtrain_target_art\u001b[0m \u001b[1;33m=\u001b[0m \u001b[0mtrain_data\u001b[0m\u001b[1;33m.\u001b[0m\u001b[0mpop\u001b[0m\u001b[1;33m(\u001b[0m\u001b[1;34m'category'\u001b[0m\u001b[1;33m)\u001b[0m\u001b[1;33m.\u001b[0m\u001b[0mvalues\u001b[0m\u001b[1;33m\u001b[0m\u001b[1;33m\u001b[0m\u001b[0m\n\u001b[0m\u001b[0;32m      3\u001b[0m \u001b[0mtrain_target\u001b[0m \u001b[1;33m=\u001b[0m \u001b[1;33m[\u001b[0m\u001b[0mart_dic\u001b[0m\u001b[1;33m[\u001b[0m\u001b[0marticle\u001b[0m\u001b[1;33m]\u001b[0m \u001b[1;32mfor\u001b[0m \u001b[0marticle\u001b[0m \u001b[1;32min\u001b[0m \u001b[0mtrain_target_art\u001b[0m\u001b[1;33m]\u001b[0m\u001b[1;33m\u001b[0m\u001b[1;33m\u001b[0m\u001b[0m\n\u001b[0;32m      4\u001b[0m \u001b[0mtest_target\u001b[0m \u001b[1;33m=\u001b[0m \u001b[1;33m[\u001b[0m\u001b[0mart_dic\u001b[0m\u001b[1;33m[\u001b[0m\u001b[0marticle\u001b[0m\u001b[1;33m]\u001b[0m \u001b[1;32mfor\u001b[0m \u001b[0marticle\u001b[0m \u001b[1;32min\u001b[0m \u001b[0mtest_target_art\u001b[0m\u001b[1;33m]\u001b[0m\u001b[1;33m\u001b[0m\u001b[1;33m\u001b[0m\u001b[0m\n",
      "\u001b[1;32m~\\anaconda3\\lib\\site-packages\\pandas\\core\\generic.py\u001b[0m in \u001b[0;36mpop\u001b[1;34m(self, item)\u001b[0m\n\u001b[0;32m    788\u001b[0m         \u001b[1;36m3\u001b[0m  \u001b[0mmonkey\u001b[0m        \u001b[0mNaN\u001b[0m\u001b[1;33m\u001b[0m\u001b[1;33m\u001b[0m\u001b[0m\n\u001b[0;32m    789\u001b[0m         \"\"\"\n\u001b[1;32m--> 790\u001b[1;33m         \u001b[0mresult\u001b[0m \u001b[1;33m=\u001b[0m \u001b[0mself\u001b[0m\u001b[1;33m[\u001b[0m\u001b[0mitem\u001b[0m\u001b[1;33m]\u001b[0m\u001b[1;33m\u001b[0m\u001b[1;33m\u001b[0m\u001b[0m\n\u001b[0m\u001b[0;32m    791\u001b[0m         \u001b[1;32mdel\u001b[0m \u001b[0mself\u001b[0m\u001b[1;33m[\u001b[0m\u001b[0mitem\u001b[0m\u001b[1;33m]\u001b[0m\u001b[1;33m\u001b[0m\u001b[1;33m\u001b[0m\u001b[0m\n\u001b[0;32m    792\u001b[0m         \u001b[1;32mtry\u001b[0m\u001b[1;33m:\u001b[0m\u001b[1;33m\u001b[0m\u001b[1;33m\u001b[0m\u001b[0m\n",
      "\u001b[1;32m~\\anaconda3\\lib\\site-packages\\pandas\\core\\frame.py\u001b[0m in \u001b[0;36m__getitem__\u001b[1;34m(self, key)\u001b[0m\n\u001b[0;32m   2798\u001b[0m             \u001b[1;32mif\u001b[0m \u001b[0mself\u001b[0m\u001b[1;33m.\u001b[0m\u001b[0mcolumns\u001b[0m\u001b[1;33m.\u001b[0m\u001b[0mnlevels\u001b[0m \u001b[1;33m>\u001b[0m \u001b[1;36m1\u001b[0m\u001b[1;33m:\u001b[0m\u001b[1;33m\u001b[0m\u001b[1;33m\u001b[0m\u001b[0m\n\u001b[0;32m   2799\u001b[0m                 \u001b[1;32mreturn\u001b[0m \u001b[0mself\u001b[0m\u001b[1;33m.\u001b[0m\u001b[0m_getitem_multilevel\u001b[0m\u001b[1;33m(\u001b[0m\u001b[0mkey\u001b[0m\u001b[1;33m)\u001b[0m\u001b[1;33m\u001b[0m\u001b[1;33m\u001b[0m\u001b[0m\n\u001b[1;32m-> 2800\u001b[1;33m             \u001b[0mindexer\u001b[0m \u001b[1;33m=\u001b[0m \u001b[0mself\u001b[0m\u001b[1;33m.\u001b[0m\u001b[0mcolumns\u001b[0m\u001b[1;33m.\u001b[0m\u001b[0mget_loc\u001b[0m\u001b[1;33m(\u001b[0m\u001b[0mkey\u001b[0m\u001b[1;33m)\u001b[0m\u001b[1;33m\u001b[0m\u001b[1;33m\u001b[0m\u001b[0m\n\u001b[0m\u001b[0;32m   2801\u001b[0m             \u001b[1;32mif\u001b[0m \u001b[0mis_integer\u001b[0m\u001b[1;33m(\u001b[0m\u001b[0mindexer\u001b[0m\u001b[1;33m)\u001b[0m\u001b[1;33m:\u001b[0m\u001b[1;33m\u001b[0m\u001b[1;33m\u001b[0m\u001b[0m\n\u001b[0;32m   2802\u001b[0m                 \u001b[0mindexer\u001b[0m \u001b[1;33m=\u001b[0m \u001b[1;33m[\u001b[0m\u001b[0mindexer\u001b[0m\u001b[1;33m]\u001b[0m\u001b[1;33m\u001b[0m\u001b[1;33m\u001b[0m\u001b[0m\n",
      "\u001b[1;32m~\\anaconda3\\lib\\site-packages\\pandas\\core\\indexes\\base.py\u001b[0m in \u001b[0;36mget_loc\u001b[1;34m(self, key, method, tolerance)\u001b[0m\n\u001b[0;32m   2646\u001b[0m                 \u001b[1;32mreturn\u001b[0m \u001b[0mself\u001b[0m\u001b[1;33m.\u001b[0m\u001b[0m_engine\u001b[0m\u001b[1;33m.\u001b[0m\u001b[0mget_loc\u001b[0m\u001b[1;33m(\u001b[0m\u001b[0mkey\u001b[0m\u001b[1;33m)\u001b[0m\u001b[1;33m\u001b[0m\u001b[1;33m\u001b[0m\u001b[0m\n\u001b[0;32m   2647\u001b[0m             \u001b[1;32mexcept\u001b[0m \u001b[0mKeyError\u001b[0m\u001b[1;33m:\u001b[0m\u001b[1;33m\u001b[0m\u001b[1;33m\u001b[0m\u001b[0m\n\u001b[1;32m-> 2648\u001b[1;33m                 \u001b[1;32mreturn\u001b[0m \u001b[0mself\u001b[0m\u001b[1;33m.\u001b[0m\u001b[0m_engine\u001b[0m\u001b[1;33m.\u001b[0m\u001b[0mget_loc\u001b[0m\u001b[1;33m(\u001b[0m\u001b[0mself\u001b[0m\u001b[1;33m.\u001b[0m\u001b[0m_maybe_cast_indexer\u001b[0m\u001b[1;33m(\u001b[0m\u001b[0mkey\u001b[0m\u001b[1;33m)\u001b[0m\u001b[1;33m)\u001b[0m\u001b[1;33m\u001b[0m\u001b[1;33m\u001b[0m\u001b[0m\n\u001b[0m\u001b[0;32m   2649\u001b[0m         \u001b[0mindexer\u001b[0m \u001b[1;33m=\u001b[0m \u001b[0mself\u001b[0m\u001b[1;33m.\u001b[0m\u001b[0mget_indexer\u001b[0m\u001b[1;33m(\u001b[0m\u001b[1;33m[\u001b[0m\u001b[0mkey\u001b[0m\u001b[1;33m]\u001b[0m\u001b[1;33m,\u001b[0m \u001b[0mmethod\u001b[0m\u001b[1;33m=\u001b[0m\u001b[0mmethod\u001b[0m\u001b[1;33m,\u001b[0m \u001b[0mtolerance\u001b[0m\u001b[1;33m=\u001b[0m\u001b[0mtolerance\u001b[0m\u001b[1;33m)\u001b[0m\u001b[1;33m\u001b[0m\u001b[1;33m\u001b[0m\u001b[0m\n\u001b[0;32m   2650\u001b[0m         \u001b[1;32mif\u001b[0m \u001b[0mindexer\u001b[0m\u001b[1;33m.\u001b[0m\u001b[0mndim\u001b[0m \u001b[1;33m>\u001b[0m \u001b[1;36m1\u001b[0m \u001b[1;32mor\u001b[0m \u001b[0mindexer\u001b[0m\u001b[1;33m.\u001b[0m\u001b[0msize\u001b[0m \u001b[1;33m>\u001b[0m \u001b[1;36m1\u001b[0m\u001b[1;33m:\u001b[0m\u001b[1;33m\u001b[0m\u001b[1;33m\u001b[0m\u001b[0m\n",
      "\u001b[1;32mpandas\\_libs\\index.pyx\u001b[0m in \u001b[0;36mpandas._libs.index.IndexEngine.get_loc\u001b[1;34m()\u001b[0m\n",
      "\u001b[1;32mpandas\\_libs\\index.pyx\u001b[0m in \u001b[0;36mpandas._libs.index.IndexEngine.get_loc\u001b[1;34m()\u001b[0m\n",
      "\u001b[1;32mpandas\\_libs\\hashtable_class_helper.pxi\u001b[0m in \u001b[0;36mpandas._libs.hashtable.PyObjectHashTable.get_item\u001b[1;34m()\u001b[0m\n",
      "\u001b[1;32mpandas\\_libs\\hashtable_class_helper.pxi\u001b[0m in \u001b[0;36mpandas._libs.hashtable.PyObjectHashTable.get_item\u001b[1;34m()\u001b[0m\n",
      "\u001b[1;31mKeyError\u001b[0m: 'category'"
     ]
    }
   ],
   "source": [
    "art_dic = {'Engineering':0, 'Product & Design':1,'Startups & Business':2}\n",
    "train_target_art = train_data.pop('category').values\n",
    "train_target = [art_dic[article] for article in train_target_art]\n",
    "test_target = [art_dic[article] for article in test_target_art]"
   ]
  },
  {
   "cell_type": "code",
   "execution_count": 268,
   "metadata": {},
   "outputs": [
    {
     "data": {
      "text/plain": [
       "(1990, 13460)"
      ]
     },
     "execution_count": 268,
     "metadata": {},
     "output_type": "execute_result"
    }
   ],
   "source": [
    "from sklearn.feature_extraction.text import CountVectorizer\n",
    "count_vect = CountVectorizer(stop_words = 'english', min_df=5)\n",
    "x_train_counts = count_vect.fit_transform(train)\n",
    "x_train_counts.shape"
   ]
  },
  {
   "cell_type": "code",
   "execution_count": 245,
   "metadata": {},
   "outputs": [
    {
     "data": {
      "text/plain": [
       "(1990, 13589)"
      ]
     },
     "execution_count": 245,
     "metadata": {},
     "output_type": "execute_result"
    }
   ],
   "source": [
    "from sklearn.feature_extraction.text import TfidfTransformer\n",
    "tfidf_transformer = TfidfTransformer()\n",
    "x_train_tfidf = tfidf_transformer.fit_transform(x_train_counts)\n",
    "x_train_tfidf.shape"
   ]
  },
  {
   "cell_type": "code",
   "execution_count": 246,
   "metadata": {},
   "outputs": [],
   "source": [
    "from sklearn.svm import LinearSVC\n",
    "from sklearn.pipeline import Pipeline\n",
    "text_model_svm = Pipeline([('vect', CountVectorizer()),('tfidf',TfidfTransformer()),('class_svm',LinearSVC())])"
   ]
  },
  {
   "cell_type": "code",
   "execution_count": 247,
   "metadata": {},
   "outputs": [
    {
     "ename": "NameError",
     "evalue": "name 'train_target' is not defined",
     "output_type": "error",
     "traceback": [
      "\u001b[1;31m---------------------------------------------------------------------------\u001b[0m",
      "\u001b[1;31mNameError\u001b[0m                                 Traceback (most recent call last)",
      "\u001b[1;32m<ipython-input-247-4d6cc9333696>\u001b[0m in \u001b[0;36m<module>\u001b[1;34m\u001b[0m\n\u001b[1;32m----> 1\u001b[1;33m \u001b[0mtrained_model\u001b[0m \u001b[1;33m=\u001b[0m \u001b[0mtext_model_svm\u001b[0m\u001b[1;33m.\u001b[0m\u001b[0mfit\u001b[0m\u001b[1;33m(\u001b[0m\u001b[0mtrain\u001b[0m\u001b[1;33m,\u001b[0m \u001b[0mtrain_target\u001b[0m\u001b[1;33m)\u001b[0m\u001b[1;33m\u001b[0m\u001b[1;33m\u001b[0m\u001b[0m\n\u001b[0m\u001b[0;32m      2\u001b[0m \u001b[0mpredic_svm\u001b[0m \u001b[1;33m=\u001b[0m  \u001b[0mtext_model_svm\u001b[0m\u001b[1;33m.\u001b[0m\u001b[0mpredict\u001b[0m\u001b[1;33m(\u001b[0m\u001b[0mtest\u001b[0m\u001b[1;33m)\u001b[0m\u001b[1;33m\u001b[0m\u001b[1;33m\u001b[0m\u001b[0m\n\u001b[0;32m      3\u001b[0m \u001b[0mtest_1\u001b[0m \u001b[1;33m=\u001b[0m \u001b[1;33m[\u001b[0m\u001b[1;34m'Performance & Usage at Instagram'\u001b[0m\u001b[1;33m]\u001b[0m\u001b[1;33m\u001b[0m\u001b[1;33m\u001b[0m\u001b[0m\n\u001b[0;32m      4\u001b[0m \u001b[0mred_svm\u001b[0m \u001b[1;33m=\u001b[0m \u001b[0mtext_model_svm\u001b[0m\u001b[1;33m.\u001b[0m\u001b[0mpredict\u001b[0m\u001b[1;33m(\u001b[0m\u001b[0mtest_1\u001b[0m\u001b[1;33m)\u001b[0m\u001b[1;33m\u001b[0m\u001b[1;33m\u001b[0m\u001b[0m\n\u001b[0;32m      5\u001b[0m \u001b[0mprint\u001b[0m\u001b[1;33m(\u001b[0m\u001b[0mred_svm\u001b[0m\u001b[1;33m)\u001b[0m\u001b[1;33m\u001b[0m\u001b[1;33m\u001b[0m\u001b[0m\n",
      "\u001b[1;31mNameError\u001b[0m: name 'train_target' is not defined"
     ]
    }
   ],
   "source": [
    "trained_model = text_model_svm.fit(train, train_target)\n",
    "predic_svm =  text_model_svm.predict(test)\n",
    "test_1 = ['Performance & Usage at Instagram']\n",
    "red_svm = text_model_svm.predict(test_1)\n",
    "print(red_svm)"
   ]
  },
  {
   "cell_type": "code",
   "execution_count": null,
   "metadata": {},
   "outputs": [],
   "source": [
    "np.mean(predic_svm == test_target)"
   ]
  },
  {
   "cell_type": "code",
   "execution_count": null,
   "metadata": {},
   "outputs": [],
   "source": []
  },
  {
   "cell_type": "code",
   "execution_count": null,
   "metadata": {},
   "outputs": [],
   "source": []
  }
 ],
 "metadata": {
  "kernelspec": {
   "display_name": "Python 3",
   "language": "python",
   "name": "python3"
  },
  "language_info": {
   "codemirror_mode": {
    "name": "ipython",
    "version": 3
   },
   "file_extension": ".py",
   "mimetype": "text/x-python",
   "name": "python",
   "nbconvert_exporter": "python",
   "pygments_lexer": "ipython3",
   "version": "3.7.6"
  }
 },
 "nbformat": 4,
 "nbformat_minor": 4
}
